{
 "cells": [
  {
   "cell_type": "code",
   "execution_count": 2,
   "id": "587f1516",
   "metadata": {
    "id": "587f1516"
   },
   "outputs": [],
   "source": [
    "import numpy as np\n",
    "import pandas as pd\n",
    "import pickle"
   ]
  },
  {
   "cell_type": "code",
   "execution_count": 3,
   "id": "798ea896",
   "metadata": {
    "id": "798ea896"
   },
   "outputs": [],
   "source": [
    "def load_pkl(fname):\n",
    "    with open(fname, 'rb') as infile:\n",
    "        return pickle.load(infile)\n",
    "def save_pkl(df, fname):\n",
    "    with open(fname, 'wb') as outfile:\n",
    "        pickle.dump(df, outfile)\n",
    "def na_percent(df):\n",
    "    return df.isna().sum()/len(df)\n",
    "def map_customer_id(df):\n",
    "    df['customer_id'] = df['customer_id'].apply(lambda x: int(x[-16:],16) ).astype('int64')\n",
    "def map_article_id(df):\n",
    "    df['article_id'] = df['article_id'].astype('int32')\n",
    "    # when making predictions, should convert to string and add leading 0\n",
    "    # e.g. train['article_id'] = '0' + train.article_id.astype('str')\n",
    "path='/content/drive/MyDrive/Colab Notebooks/'"
   ]
  },
  {
   "cell_type": "code",
   "execution_count": 4,
   "id": "xrkDt7MB49zU",
   "metadata": {
    "colab": {
     "base_uri": "https://localhost:8080/"
    },
    "id": "xrkDt7MB49zU",
    "outputId": "7818c5ee-5734-4958-e139-a6d7ea13e9dc"
   },
   "outputs": [
    {
     "name": "stdout",
     "output_type": "stream",
     "text": [
      "Drive already mounted at /content/drive; to attempt to forcibly remount, call drive.mount(\"/content/drive\", force_remount=True).\n"
     ]
    }
   ],
   "source": [
    "from google.colab import drive\n",
    "drive.mount('/content/drive')"
   ]
  },
  {
   "cell_type": "markdown",
   "id": "QPDvTWSpOMC5",
   "metadata": {
    "id": "QPDvTWSpOMC5"
   },
   "source": [
    "### Baseline Recommendation\n",
    "\n",
    "Recommend to each customer their most frequently bought products in the past 6 months (up to 12 products).\n",
    "\n",
    "If < 12 recomendations, fill in with most popular products.\n",
    "\n",
    "mAP 0.0068"
   ]
  },
  {
   "cell_type": "code",
   "execution_count": 5,
   "id": "a250fd66",
   "metadata": {
    "id": "a250fd66"
   },
   "outputs": [],
   "source": [
    "df_transactions_train = load_pkl(path+'df_transactions_train.pkl')\n",
    "df_transactions_train[\"day_num\"] = df_transactions_train[\"year\"]*365 + df_transactions_train[\"month\"]*30 + df_transactions_train[\"day\"]\n",
    "df_transactions_train = df_transactions_train[df_transactions_train[\"day_num\"]>max(df_transactions_train[\"day_num\"])-180]"
   ]
  },
  {
   "cell_type": "code",
   "execution_count": 6,
   "id": "GXPlksK2OX6s",
   "metadata": {
    "id": "GXPlksK2OX6s"
   },
   "outputs": [],
   "source": [
    "count_group = df_transactions_train[['customer_id', 'article_id', 'day_num']].groupby(['customer_id', 'article_id']).count()\n",
    "count_group.rename(columns={'day_num':'count'}, inplace=True)"
   ]
  },
  {
   "cell_type": "code",
   "execution_count": 8,
   "id": "QDGWAWmEPVfC",
   "metadata": {
    "id": "QDGWAWmEPVfC"
   },
   "outputs": [],
   "source": [
    "df_transactions_train = pd.merge(df_transactions_train, count_group, on=['customer_id', 'article_id'], how='left')"
   ]
  },
  {
   "cell_type": "code",
   "execution_count": 9,
   "id": "KiJl98HACV4h",
   "metadata": {
    "id": "KiJl98HACV4h"
   },
   "outputs": [],
   "source": [
    "X_train_group = df_transactions_train[['customer_id', 'article_id', 'count']].sort_values(['customer_id', 'count'],ascending=False).groupby('customer_id').head(12)\n",
    "X_train_group = X_train_group.groupby('customer_id')['article_id'].apply(list).reset_index(name='prediction2')\n",
    "X_train_group['prediction2'] = X_train_group['prediction2'].apply(lambda x: '0'+' 0'.join([str(a) for a in x]))"
   ]
  },
  {
   "cell_type": "code",
   "execution_count": 10,
   "id": "6514956a",
   "metadata": {
    "id": "6514956a"
   },
   "outputs": [],
   "source": [
    "df_sample_submission = load_pkl(path+'df_sample_submission.pkl')"
   ]
  },
  {
   "cell_type": "code",
   "execution_count": 11,
   "id": "0da1292d",
   "metadata": {
    "id": "0da1292d"
   },
   "outputs": [],
   "source": [
    "df_sample_submission = pd.merge(df_sample_submission, X_train_group, on='customer_id', how='left')\n",
    "df_sample_submission['prediction2'] = df_sample_submission['prediction2'].fillna('')"
   ]
  },
  {
   "cell_type": "code",
   "execution_count": 12,
   "id": "aed092a3",
   "metadata": {
    "id": "aed092a3"
   },
   "outputs": [],
   "source": [
    "df_sample_submission['prediction'] = df_sample_submission.apply(lambda row: (row['prediction2']+row['prediction'])[:131], axis=1)\n",
    "df_sample_submission.drop(columns=['prediction2'], inplace=True)"
   ]
  },
  {
   "cell_type": "code",
   "execution_count": 13,
   "id": "aKpsyRrHP88E",
   "metadata": {
    "colab": {
     "base_uri": "https://localhost:8080/",
     "height": 423
    },
    "id": "aKpsyRrHP88E",
    "outputId": "e2632a84-de1a-4bdd-da77-573bfa4c8581"
   },
   "outputs": [
    {
     "data": {
      "text/html": [
       "\n",
       "  <div id=\"df-8ceb1e0c-8337-4d37-a8e5-a06a26db6698\">\n",
       "    <div class=\"colab-df-container\">\n",
       "      <div>\n",
       "<style scoped>\n",
       "    .dataframe tbody tr th:only-of-type {\n",
       "        vertical-align: middle;\n",
       "    }\n",
       "\n",
       "    .dataframe tbody tr th {\n",
       "        vertical-align: top;\n",
       "    }\n",
       "\n",
       "    .dataframe thead th {\n",
       "        text-align: right;\n",
       "    }\n",
       "</style>\n",
       "<table border=\"1\" class=\"dataframe\">\n",
       "  <thead>\n",
       "    <tr style=\"text-align: right;\">\n",
       "      <th></th>\n",
       "      <th>customer_id</th>\n",
       "      <th>prediction</th>\n",
       "    </tr>\n",
       "  </thead>\n",
       "  <tbody>\n",
       "    <tr>\n",
       "      <th>0</th>\n",
       "      <td>00000dbacae5abe5e23885899a1fa44253a17956c6d1c3...</td>\n",
       "      <td>0841260003 0887593002 0890498002 0795440001 08...</td>\n",
       "    </tr>\n",
       "    <tr>\n",
       "      <th>1</th>\n",
       "      <td>0000423b00ade91418cceaf3b26c6af3dd342b51fd051e...</td>\n",
       "      <td>0811835004 0811835004 0811835004 0811835004 05...</td>\n",
       "    </tr>\n",
       "    <tr>\n",
       "      <th>2</th>\n",
       "      <td>000058a12d5b43e67d225668fa1f8d618c13dc232df0ca...</td>\n",
       "      <td>0351484002 0351484002 0750424014 0750424014 08...</td>\n",
       "    </tr>\n",
       "    <tr>\n",
       "      <th>3</th>\n",
       "      <td>00005ca1c9ed5f5146b52ac8639a40ca9d57aeff4d1bd2...</td>\n",
       "      <td>0706016001 0706016002 0372860001 0610776002 07...</td>\n",
       "    </tr>\n",
       "    <tr>\n",
       "      <th>4</th>\n",
       "      <td>00006413d8573cd20ed7128e53b7b13819fe5cfc2d801f...</td>\n",
       "      <td>0896152002 0730683050 0927530004 0791587015070...</td>\n",
       "    </tr>\n",
       "    <tr>\n",
       "      <th>...</th>\n",
       "      <td>...</td>\n",
       "      <td>...</td>\n",
       "    </tr>\n",
       "    <tr>\n",
       "      <th>1371975</th>\n",
       "      <td>ffffbbf78b6eaac697a8a5dfbfd2bfa8113ee5b403e474...</td>\n",
       "      <td>0826955010 0826955010 0557599022 0557599022 08...</td>\n",
       "    </tr>\n",
       "    <tr>\n",
       "      <th>1371976</th>\n",
       "      <td>ffffcd5046a6143d29a04fb8c424ce494a76e5cdf4fab5...</td>\n",
       "      <td>0699623004 0699623004 0663568009 0663568009 07...</td>\n",
       "    </tr>\n",
       "    <tr>\n",
       "      <th>1371977</th>\n",
       "      <td>ffffcf35913a0bee60e8741cb2b4e78b8a98ee5ff2e6a1...</td>\n",
       "      <td>0706016002 0689365050 0884081001 0794819001 07...</td>\n",
       "    </tr>\n",
       "    <tr>\n",
       "      <th>1371978</th>\n",
       "      <td>ffffd7744cebcf3aca44ae7049d2a94b87074c3d4ffe38...</td>\n",
       "      <td>0866755002 0866755002 0821395003 0806241002 07...</td>\n",
       "    </tr>\n",
       "    <tr>\n",
       "      <th>1371979</th>\n",
       "      <td>ffffd9ac14e89946416d80e791d064701994755c3ab686...</td>\n",
       "      <td>0706016001 0706016002 0372860001 0610776002 07...</td>\n",
       "    </tr>\n",
       "  </tbody>\n",
       "</table>\n",
       "<p>1371980 rows × 2 columns</p>\n",
       "</div>\n",
       "      <button class=\"colab-df-convert\" onclick=\"convertToInteractive('df-8ceb1e0c-8337-4d37-a8e5-a06a26db6698')\"\n",
       "              title=\"Convert this dataframe to an interactive table.\"\n",
       "              style=\"display:none;\">\n",
       "        \n",
       "  <svg xmlns=\"http://www.w3.org/2000/svg\" height=\"24px\"viewBox=\"0 0 24 24\"\n",
       "       width=\"24px\">\n",
       "    <path d=\"M0 0h24v24H0V0z\" fill=\"none\"/>\n",
       "    <path d=\"M18.56 5.44l.94 2.06.94-2.06 2.06-.94-2.06-.94-.94-2.06-.94 2.06-2.06.94zm-11 1L8.5 8.5l.94-2.06 2.06-.94-2.06-.94L8.5 2.5l-.94 2.06-2.06.94zm10 10l.94 2.06.94-2.06 2.06-.94-2.06-.94-.94-2.06-.94 2.06-2.06.94z\"/><path d=\"M17.41 7.96l-1.37-1.37c-.4-.4-.92-.59-1.43-.59-.52 0-1.04.2-1.43.59L10.3 9.45l-7.72 7.72c-.78.78-.78 2.05 0 2.83L4 21.41c.39.39.9.59 1.41.59.51 0 1.02-.2 1.41-.59l7.78-7.78 2.81-2.81c.8-.78.8-2.07 0-2.86zM5.41 20L4 18.59l7.72-7.72 1.47 1.35L5.41 20z\"/>\n",
       "  </svg>\n",
       "      </button>\n",
       "      \n",
       "  <style>\n",
       "    .colab-df-container {\n",
       "      display:flex;\n",
       "      flex-wrap:wrap;\n",
       "      gap: 12px;\n",
       "    }\n",
       "\n",
       "    .colab-df-convert {\n",
       "      background-color: #E8F0FE;\n",
       "      border: none;\n",
       "      border-radius: 50%;\n",
       "      cursor: pointer;\n",
       "      display: none;\n",
       "      fill: #1967D2;\n",
       "      height: 32px;\n",
       "      padding: 0 0 0 0;\n",
       "      width: 32px;\n",
       "    }\n",
       "\n",
       "    .colab-df-convert:hover {\n",
       "      background-color: #E2EBFA;\n",
       "      box-shadow: 0px 1px 2px rgba(60, 64, 67, 0.3), 0px 1px 3px 1px rgba(60, 64, 67, 0.15);\n",
       "      fill: #174EA6;\n",
       "    }\n",
       "\n",
       "    [theme=dark] .colab-df-convert {\n",
       "      background-color: #3B4455;\n",
       "      fill: #D2E3FC;\n",
       "    }\n",
       "\n",
       "    [theme=dark] .colab-df-convert:hover {\n",
       "      background-color: #434B5C;\n",
       "      box-shadow: 0px 1px 3px 1px rgba(0, 0, 0, 0.15);\n",
       "      filter: drop-shadow(0px 1px 2px rgba(0, 0, 0, 0.3));\n",
       "      fill: #FFFFFF;\n",
       "    }\n",
       "  </style>\n",
       "\n",
       "      <script>\n",
       "        const buttonEl =\n",
       "          document.querySelector('#df-8ceb1e0c-8337-4d37-a8e5-a06a26db6698 button.colab-df-convert');\n",
       "        buttonEl.style.display =\n",
       "          google.colab.kernel.accessAllowed ? 'block' : 'none';\n",
       "\n",
       "        async function convertToInteractive(key) {\n",
       "          const element = document.querySelector('#df-8ceb1e0c-8337-4d37-a8e5-a06a26db6698');\n",
       "          const dataTable =\n",
       "            await google.colab.kernel.invokeFunction('convertToInteractive',\n",
       "                                                     [key], {});\n",
       "          if (!dataTable) return;\n",
       "\n",
       "          const docLinkHtml = 'Like what you see? Visit the ' +\n",
       "            '<a target=\"_blank\" href=https://colab.research.google.com/notebooks/data_table.ipynb>data table notebook</a>'\n",
       "            + ' to learn more about interactive tables.';\n",
       "          element.innerHTML = '';\n",
       "          dataTable['output_type'] = 'display_data';\n",
       "          await google.colab.output.renderOutput(dataTable, element);\n",
       "          const docLink = document.createElement('div');\n",
       "          docLink.innerHTML = docLinkHtml;\n",
       "          element.appendChild(docLink);\n",
       "        }\n",
       "      </script>\n",
       "    </div>\n",
       "  </div>\n",
       "  "
      ],
      "text/plain": [
       "                                               customer_id  \\\n",
       "0        00000dbacae5abe5e23885899a1fa44253a17956c6d1c3...   \n",
       "1        0000423b00ade91418cceaf3b26c6af3dd342b51fd051e...   \n",
       "2        000058a12d5b43e67d225668fa1f8d618c13dc232df0ca...   \n",
       "3        00005ca1c9ed5f5146b52ac8639a40ca9d57aeff4d1bd2...   \n",
       "4        00006413d8573cd20ed7128e53b7b13819fe5cfc2d801f...   \n",
       "...                                                    ...   \n",
       "1371975  ffffbbf78b6eaac697a8a5dfbfd2bfa8113ee5b403e474...   \n",
       "1371976  ffffcd5046a6143d29a04fb8c424ce494a76e5cdf4fab5...   \n",
       "1371977  ffffcf35913a0bee60e8741cb2b4e78b8a98ee5ff2e6a1...   \n",
       "1371978  ffffd7744cebcf3aca44ae7049d2a94b87074c3d4ffe38...   \n",
       "1371979  ffffd9ac14e89946416d80e791d064701994755c3ab686...   \n",
       "\n",
       "                                                prediction  \n",
       "0        0841260003 0887593002 0890498002 0795440001 08...  \n",
       "1        0811835004 0811835004 0811835004 0811835004 05...  \n",
       "2        0351484002 0351484002 0750424014 0750424014 08...  \n",
       "3        0706016001 0706016002 0372860001 0610776002 07...  \n",
       "4        0896152002 0730683050 0927530004 0791587015070...  \n",
       "...                                                    ...  \n",
       "1371975  0826955010 0826955010 0557599022 0557599022 08...  \n",
       "1371976  0699623004 0699623004 0663568009 0663568009 07...  \n",
       "1371977  0706016002 0689365050 0884081001 0794819001 07...  \n",
       "1371978  0866755002 0866755002 0821395003 0806241002 07...  \n",
       "1371979  0706016001 0706016002 0372860001 0610776002 07...  \n",
       "\n",
       "[1371980 rows x 2 columns]"
      ]
     },
     "execution_count": 13,
     "metadata": {},
     "output_type": "execute_result"
    }
   ],
   "source": [
    "df_sample_submission"
   ]
  },
  {
   "cell_type": "code",
   "execution_count": 14,
   "id": "cGM-83Er-x57",
   "metadata": {
    "id": "cGM-83Er-x57"
   },
   "outputs": [],
   "source": [
    "import lightgbm\n",
    "df_sample_submission.to_csv(path+'submission_baseline.csv', index=False)"
   ]
  },
  {
   "cell_type": "code",
   "execution_count": null,
   "id": "NzCH8pqF5xzg",
   "metadata": {
    "id": "NzCH8pqF5xzg"
   },
   "outputs": [],
   "source": []
  }
 ],
 "metadata": {
  "colab": {
   "collapsed_sections": [],
   "name": "baseline.ipynb",
   "provenance": []
  },
  "kernelspec": {
   "display_name": "Python 3 (ipykernel)",
   "language": "python",
   "name": "python3"
  },
  "language_info": {
   "codemirror_mode": {
    "name": "ipython",
    "version": 3
   },
   "file_extension": ".py",
   "mimetype": "text/x-python",
   "name": "python",
   "nbconvert_exporter": "python",
   "pygments_lexer": "ipython3",
   "version": "3.8.12"
  }
 },
 "nbformat": 4,
 "nbformat_minor": 5
}
