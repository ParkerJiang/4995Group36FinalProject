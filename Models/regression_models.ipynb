{
 "cells": [
  {
   "cell_type": "markdown",
   "metadata": {
    "id": "bU8pL23noAz3"
   },
   "source": [
    "This notenook contains feature construction and implementation steps for regression-based recomendations."
   ]
  },
  {
   "cell_type": "code",
   "execution_count": 1,
   "metadata": {
    "id": "RIemfSlcLs6C"
   },
   "outputs": [],
   "source": [
    "import numpy as np\n",
    "import pandas as pd\n",
    "import pickle"
   ]
  },
  {
   "cell_type": "code",
   "execution_count": 2,
   "metadata": {
    "id": "luU0UOzjOQ75"
   },
   "outputs": [],
   "source": [
    "def load_pkl(fname):\n",
    "    with open(fname, 'rb') as infile:\n",
    "        return pickle.load(infile)\n",
    "def save_pkl(df, fname):\n",
    "    with open(fname, 'wb') as outfile:\n",
    "        pickle.dump(df, outfile)\n",
    "def na_percent(df):\n",
    "    return df.isna().sum()/len(df)\n",
    "def map_customer_id(df):\n",
    "    df['customer_id'] = df['customer_id'].apply(lambda x: int(x[-16:],16) ).astype('int64')\n",
    "def map_article_id(df):\n",
    "    df['article_id'] = df['article_id'].astype('int32')\n",
    "    # when making predictions, should convert to string and add leading 0\n",
    "    # e.g. train['article_id'] = '0' + train.article_id.astype('str')\n",
    "path='/content/drive/MyDrive/Colab Notebooks/'"
   ]
  },
  {
   "cell_type": "code",
   "execution_count": 3,
   "metadata": {
    "colab": {
     "base_uri": "https://localhost:8080/"
    },
    "id": "ZP6syehGOgGw",
    "outputId": "cbbc0961-817a-475a-cd7b-5f97721ecd5b"
   },
   "outputs": [
    {
     "ename": "ModuleNotFoundError",
     "evalue": "No module named 'google'",
     "output_type": "error",
     "traceback": [
      "\u001b[0;31m---------------------------------------------------------------------------\u001b[0m",
      "\u001b[0;31mModuleNotFoundError\u001b[0m                       Traceback (most recent call last)",
      "\u001b[0;32m/var/folders/yn/3t6ngw9x5093nbw_87n8y45h0000gn/T/ipykernel_69309/1408506528.py\u001b[0m in \u001b[0;36m<module>\u001b[0;34m\u001b[0m\n\u001b[0;32m----> 1\u001b[0;31m \u001b[0;32mfrom\u001b[0m \u001b[0mgoogle\u001b[0m\u001b[0;34m.\u001b[0m\u001b[0mcolab\u001b[0m \u001b[0;32mimport\u001b[0m \u001b[0mdrive\u001b[0m\u001b[0;34m\u001b[0m\u001b[0;34m\u001b[0m\u001b[0m\n\u001b[0m\u001b[1;32m      2\u001b[0m \u001b[0mdrive\u001b[0m\u001b[0;34m.\u001b[0m\u001b[0mmount\u001b[0m\u001b[0;34m(\u001b[0m\u001b[0;34m'/content/drive'\u001b[0m\u001b[0;34m)\u001b[0m\u001b[0;34m\u001b[0m\u001b[0;34m\u001b[0m\u001b[0m\n",
      "\u001b[0;31mModuleNotFoundError\u001b[0m: No module named 'google'"
     ]
    }
   ],
   "source": [
    "from google.colab import drive\n",
    "drive.mount('/content/drive')"
   ]
  },
  {
   "cell_type": "markdown",
   "metadata": {
    "id": "bViNMn6gh_Pu"
   },
   "source": [
    "### Process df_transactions_train"
   ]
  },
  {
   "cell_type": "markdown",
   "metadata": {
    "id": "DjZ4GGlHoxbF"
   },
   "source": [
    "Index: (custome_id, article_id) tupes\n",
    "\n",
    "Features included: \n",
    "1. last time the customer have bought the item\n",
    "2. times the customer have bought the item\n",
    "3. average price of the item\n",
    "4. total sale number of the item\n",
    "5. sale number of the item in the last month \n",
    "6. total customer value\n",
    "7. customer value per purchase\n",
    "8. last time the customer have made purchase\n"
   ]
  },
  {
   "cell_type": "code",
   "execution_count": 6,
   "metadata": {},
   "outputs": [],
   "source": [
    "df_transactions_train = pd.read_csv('../../h-and-m-personalized-fashion-recommendations/transactions_train.csv')\n",
    "df_customers = pd.read_csv('../../h-and-m-personalized-fashion-recommendations/customers.csv')\n",
    "df_articles = pd.read_csv('../../h-and-m-personalized-fashion-recommendations/articles.csv')\n",
    "df_sample_submission = pd.read_csv('../../h-and-m-personalized-fashion-recommendations/sample_submission.csv')"
   ]
  },
  {
   "cell_type": "code",
   "execution_count": 7,
   "metadata": {
    "id": "u89A_2bvPoJV"
   },
   "outputs": [
    {
     "ename": "KeyError",
     "evalue": "'year'",
     "output_type": "error",
     "traceback": [
      "\u001b[0;31m---------------------------------------------------------------------------\u001b[0m",
      "\u001b[0;31mKeyError\u001b[0m                                  Traceback (most recent call last)",
      "\u001b[0;32m~/miniforge3/envs/py38/lib/python3.8/site-packages/pandas/core/indexes/base.py\u001b[0m in \u001b[0;36mget_loc\u001b[0;34m(self, key, method, tolerance)\u001b[0m\n\u001b[1;32m   3360\u001b[0m             \u001b[0;32mtry\u001b[0m\u001b[0;34m:\u001b[0m\u001b[0;34m\u001b[0m\u001b[0;34m\u001b[0m\u001b[0m\n\u001b[0;32m-> 3361\u001b[0;31m                 \u001b[0;32mreturn\u001b[0m \u001b[0mself\u001b[0m\u001b[0;34m.\u001b[0m\u001b[0m_engine\u001b[0m\u001b[0;34m.\u001b[0m\u001b[0mget_loc\u001b[0m\u001b[0;34m(\u001b[0m\u001b[0mcasted_key\u001b[0m\u001b[0;34m)\u001b[0m\u001b[0;34m\u001b[0m\u001b[0;34m\u001b[0m\u001b[0m\n\u001b[0m\u001b[1;32m   3362\u001b[0m             \u001b[0;32mexcept\u001b[0m \u001b[0mKeyError\u001b[0m \u001b[0;32mas\u001b[0m \u001b[0merr\u001b[0m\u001b[0;34m:\u001b[0m\u001b[0;34m\u001b[0m\u001b[0;34m\u001b[0m\u001b[0m\n",
      "\u001b[0;32m~/miniforge3/envs/py38/lib/python3.8/site-packages/pandas/_libs/index.pyx\u001b[0m in \u001b[0;36mpandas._libs.index.IndexEngine.get_loc\u001b[0;34m()\u001b[0m\n",
      "\u001b[0;32m~/miniforge3/envs/py38/lib/python3.8/site-packages/pandas/_libs/index.pyx\u001b[0m in \u001b[0;36mpandas._libs.index.IndexEngine.get_loc\u001b[0;34m()\u001b[0m\n",
      "\u001b[0;32mpandas/_libs/hashtable_class_helper.pxi\u001b[0m in \u001b[0;36mpandas._libs.hashtable.PyObjectHashTable.get_item\u001b[0;34m()\u001b[0m\n",
      "\u001b[0;32mpandas/_libs/hashtable_class_helper.pxi\u001b[0m in \u001b[0;36mpandas._libs.hashtable.PyObjectHashTable.get_item\u001b[0;34m()\u001b[0m\n",
      "\u001b[0;31mKeyError\u001b[0m: 'year'",
      "\nThe above exception was the direct cause of the following exception:\n",
      "\u001b[0;31mKeyError\u001b[0m                                  Traceback (most recent call last)",
      "\u001b[0;32m/var/folders/yn/3t6ngw9x5093nbw_87n8y45h0000gn/T/ipykernel_69309/1558621158.py\u001b[0m in \u001b[0;36m<module>\u001b[0;34m\u001b[0m\n\u001b[1;32m      1\u001b[0m \u001b[0;31m#df_transactions_train = load_pkl(path+'df_transactions_train.pkl')\u001b[0m\u001b[0;34m\u001b[0m\u001b[0;34m\u001b[0m\u001b[0;34m\u001b[0m\u001b[0m\n\u001b[0;32m----> 2\u001b[0;31m \u001b[0mdf_transactions_train\u001b[0m\u001b[0;34m[\u001b[0m\u001b[0;34m\"day_num\"\u001b[0m\u001b[0;34m]\u001b[0m \u001b[0;34m=\u001b[0m \u001b[0mdf_transactions_train\u001b[0m\u001b[0;34m[\u001b[0m\u001b[0;34m\"year\"\u001b[0m\u001b[0;34m]\u001b[0m\u001b[0;34m*\u001b[0m\u001b[0;36m365\u001b[0m \u001b[0;34m+\u001b[0m \u001b[0mdf_transactions_train\u001b[0m\u001b[0;34m[\u001b[0m\u001b[0;34m\"month\"\u001b[0m\u001b[0;34m]\u001b[0m\u001b[0;34m*\u001b[0m\u001b[0;36m30\u001b[0m \u001b[0;34m+\u001b[0m \u001b[0mdf_transactions_train\u001b[0m\u001b[0;34m[\u001b[0m\u001b[0;34m\"day\"\u001b[0m\u001b[0;34m]\u001b[0m\u001b[0;34m\u001b[0m\u001b[0;34m\u001b[0m\u001b[0m\n\u001b[0m",
      "\u001b[0;32m~/miniforge3/envs/py38/lib/python3.8/site-packages/pandas/core/frame.py\u001b[0m in \u001b[0;36m__getitem__\u001b[0;34m(self, key)\u001b[0m\n\u001b[1;32m   3456\u001b[0m             \u001b[0;32mif\u001b[0m \u001b[0mself\u001b[0m\u001b[0;34m.\u001b[0m\u001b[0mcolumns\u001b[0m\u001b[0;34m.\u001b[0m\u001b[0mnlevels\u001b[0m \u001b[0;34m>\u001b[0m \u001b[0;36m1\u001b[0m\u001b[0;34m:\u001b[0m\u001b[0;34m\u001b[0m\u001b[0;34m\u001b[0m\u001b[0m\n\u001b[1;32m   3457\u001b[0m                 \u001b[0;32mreturn\u001b[0m \u001b[0mself\u001b[0m\u001b[0;34m.\u001b[0m\u001b[0m_getitem_multilevel\u001b[0m\u001b[0;34m(\u001b[0m\u001b[0mkey\u001b[0m\u001b[0;34m)\u001b[0m\u001b[0;34m\u001b[0m\u001b[0;34m\u001b[0m\u001b[0m\n\u001b[0;32m-> 3458\u001b[0;31m             \u001b[0mindexer\u001b[0m \u001b[0;34m=\u001b[0m \u001b[0mself\u001b[0m\u001b[0;34m.\u001b[0m\u001b[0mcolumns\u001b[0m\u001b[0;34m.\u001b[0m\u001b[0mget_loc\u001b[0m\u001b[0;34m(\u001b[0m\u001b[0mkey\u001b[0m\u001b[0;34m)\u001b[0m\u001b[0;34m\u001b[0m\u001b[0;34m\u001b[0m\u001b[0m\n\u001b[0m\u001b[1;32m   3459\u001b[0m             \u001b[0;32mif\u001b[0m \u001b[0mis_integer\u001b[0m\u001b[0;34m(\u001b[0m\u001b[0mindexer\u001b[0m\u001b[0;34m)\u001b[0m\u001b[0;34m:\u001b[0m\u001b[0;34m\u001b[0m\u001b[0;34m\u001b[0m\u001b[0m\n\u001b[1;32m   3460\u001b[0m                 \u001b[0mindexer\u001b[0m \u001b[0;34m=\u001b[0m \u001b[0;34m[\u001b[0m\u001b[0mindexer\u001b[0m\u001b[0;34m]\u001b[0m\u001b[0;34m\u001b[0m\u001b[0;34m\u001b[0m\u001b[0m\n",
      "\u001b[0;32m~/miniforge3/envs/py38/lib/python3.8/site-packages/pandas/core/indexes/base.py\u001b[0m in \u001b[0;36mget_loc\u001b[0;34m(self, key, method, tolerance)\u001b[0m\n\u001b[1;32m   3361\u001b[0m                 \u001b[0;32mreturn\u001b[0m \u001b[0mself\u001b[0m\u001b[0;34m.\u001b[0m\u001b[0m_engine\u001b[0m\u001b[0;34m.\u001b[0m\u001b[0mget_loc\u001b[0m\u001b[0;34m(\u001b[0m\u001b[0mcasted_key\u001b[0m\u001b[0;34m)\u001b[0m\u001b[0;34m\u001b[0m\u001b[0;34m\u001b[0m\u001b[0m\n\u001b[1;32m   3362\u001b[0m             \u001b[0;32mexcept\u001b[0m \u001b[0mKeyError\u001b[0m \u001b[0;32mas\u001b[0m \u001b[0merr\u001b[0m\u001b[0;34m:\u001b[0m\u001b[0;34m\u001b[0m\u001b[0;34m\u001b[0m\u001b[0m\n\u001b[0;32m-> 3363\u001b[0;31m                 \u001b[0;32mraise\u001b[0m \u001b[0mKeyError\u001b[0m\u001b[0;34m(\u001b[0m\u001b[0mkey\u001b[0m\u001b[0;34m)\u001b[0m \u001b[0;32mfrom\u001b[0m \u001b[0merr\u001b[0m\u001b[0;34m\u001b[0m\u001b[0;34m\u001b[0m\u001b[0m\n\u001b[0m\u001b[1;32m   3364\u001b[0m \u001b[0;34m\u001b[0m\u001b[0m\n\u001b[1;32m   3365\u001b[0m         \u001b[0;32mif\u001b[0m \u001b[0mis_scalar\u001b[0m\u001b[0;34m(\u001b[0m\u001b[0mkey\u001b[0m\u001b[0;34m)\u001b[0m \u001b[0;32mand\u001b[0m \u001b[0misna\u001b[0m\u001b[0;34m(\u001b[0m\u001b[0mkey\u001b[0m\u001b[0;34m)\u001b[0m \u001b[0;32mand\u001b[0m \u001b[0;32mnot\u001b[0m \u001b[0mself\u001b[0m\u001b[0;34m.\u001b[0m\u001b[0mhasnans\u001b[0m\u001b[0;34m:\u001b[0m\u001b[0;34m\u001b[0m\u001b[0;34m\u001b[0m\u001b[0m\n",
      "\u001b[0;31mKeyError\u001b[0m: 'year'"
     ]
    }
   ],
   "source": [
    "#df_transactions_train = load_pkl(path+'df_transactions_train.pkl')\n",
    "df_transactions_train[\"day_num\"] = df_transactions_train[\"year\"]*365 + df_transactions_train[\"month\"]*30 + df_transactions_train[\"day\"]"
   ]
  },
  {
   "cell_type": "code",
   "execution_count": null,
   "metadata": {
    "id": "ZL8wYEWVPU5L"
   },
   "outputs": [],
   "source": [
    "last_day = max(df_transactions_train[\"day_num\"])\n",
    "df_transactions_train1 = df_transactions_train[df_transactions_train[\"day_num\"]<last_day-90]"
   ]
  },
  {
   "cell_type": "code",
   "execution_count": null,
   "metadata": {
    "id": "Z8BI9ejrRDrv"
   },
   "outputs": [],
   "source": [
    "df_transactions_train_group = df_transactions_train1[['customer_id', 'article_id', 'day_num']].groupby(['customer_id', 'article_id']).max()\n",
    "df_transactions_train_group.rename(columns={'day_num':'last_time_the_item'}, inplace=True)\n",
    "df_transactions_train = df_transactions_train.join(df_transactions_train_group, on=['customer_id', 'article_id'])"
   ]
  },
  {
   "cell_type": "code",
   "execution_count": null,
   "metadata": {
    "id": "43zq8NBwVRZt"
   },
   "outputs": [],
   "source": [
    "df_transactions_train_group = df_transactions_train1[['customer_id', 'article_id', 'day_num']].groupby(['customer_id', 'article_id']).count()\n",
    "df_transactions_train_group.rename(columns={'day_num':'total_purchase_the_item'}, inplace=True)\n",
    "df_transactions_train = df_transactions_train.join(df_transactions_train_group, on=['customer_id', 'article_id'])"
   ]
  },
  {
   "cell_type": "code",
   "execution_count": null,
   "metadata": {
    "id": "Hgmc8ttnVwJU"
   },
   "outputs": [],
   "source": [
    "df_transactions_train_group = df_transactions_train1[['customer_id', 'price']].groupby(['customer_id']).sum()\n",
    "df_transactions_train_group.rename(columns={'price':'customer_value_total'}, inplace=True)\n",
    "df_transactions_train = df_transactions_train.join(df_transactions_train_group, on=['customer_id'])"
   ]
  },
  {
   "cell_type": "code",
   "execution_count": null,
   "metadata": {
    "id": "mUB6___ZWopI"
   },
   "outputs": [],
   "source": [
    "df_transactions_train_group = df_transactions_train1[['customer_id', 'day_num', 'price']].groupby(['customer_id', 'day_num']).sum().groupby(['customer_id']).mean()\n",
    "df_transactions_train_group.rename(columns={'price':'customer_value_per_purchase'}, inplace=True)\n",
    "df_transactions_train = df_transactions_train.join(df_transactions_train_group, on=['customer_id'])"
   ]
  },
  {
   "cell_type": "code",
   "execution_count": null,
   "metadata": {
    "id": "cCmOqEAdX-t1"
   },
   "outputs": [],
   "source": [
    "df_transactions_train_group = df_transactions_train1[['customer_id', 'day_num']].groupby(['customer_id']).max()\n",
    "df_transactions_train_group.rename(columns={'day_num':'last_time_ever'}, inplace=True)\n",
    "df_transactions_train = df_transactions_train.join(df_transactions_train_group, on=['customer_id'])"
   ]
  },
  {
   "cell_type": "code",
   "execution_count": null,
   "metadata": {
    "id": "S2zhmqQDaBTs"
   },
   "outputs": [],
   "source": [
    "df_transactions_train_group = df_transactions_train1[['article_id', 'price']].groupby(['article_id']).mean()\n",
    "df_transactions_train_group.rename(columns={'price':'price_the_item'}, inplace=True)\n",
    "df_transactions_train = df_transactions_train.join(df_transactions_train_group, on=['article_id'])"
   ]
  },
  {
   "cell_type": "code",
   "execution_count": null,
   "metadata": {
    "id": "TIY81KEZZkbU"
   },
   "outputs": [],
   "source": [
    "df_transactions_train_group = df_transactions_train1[['article_id', 'day_num']].groupby(['article_id']).count()\n",
    "df_transactions_train_group.rename(columns={'day_num':'total_sales_the_item'}, inplace=True)\n",
    "df_transactions_train = df_transactions_train.join(df_transactions_train_group, on=['article_id'])"
   ]
  },
  {
   "cell_type": "code",
   "execution_count": null,
   "metadata": {
    "id": "d4waaKAxbAI1"
   },
   "outputs": [],
   "source": [
    "df_transactions_train_group = df_transactions_train1[df_transactions_train1['day_num']>last_day-60][['article_id', 'day_num']].groupby(['article_id']).count()\n",
    "df_transactions_train_group.rename(columns={'day_num':'last_month_sales_the_item'}, inplace=True)\n",
    "df_transactions_train = df_transactions_train.join(df_transactions_train_group, on=['article_id'])"
   ]
  },
  {
   "cell_type": "code",
   "execution_count": null,
   "metadata": {
    "id": "eNn_R0hhdUUp"
   },
   "outputs": [],
   "source": [
    "lst = ['total_purchase_the_item', 'total_sales_the_item', 'last_month_sales_the_item']\n",
    "df_transactions_train[lst] = df_transactions_train[lst].fillna(value=0)"
   ]
  },
  {
   "cell_type": "code",
   "execution_count": null,
   "metadata": {
    "id": "3qgx--sQe5EH"
   },
   "outputs": [],
   "source": [
    "for col in ['customer_value_total', 'customer_value_per_purchase', 'price_the_item']:\n",
    "  mean = df_transactions_train[col].mean()\n",
    "  df_transactions_train[col] = df_transactions_train[col].fillna(value=mean)"
   ]
  },
  {
   "cell_type": "code",
   "execution_count": null,
   "metadata": {
    "id": "WmhNLiLsfOSj"
   },
   "outputs": [],
   "source": [
    "for col in ['last_time_the_item', 'last_time_ever']:\n",
    "  min = df_transactions_train[col].min()\n",
    "  df_transactions_train[col] = df_transactions_train[col].fillna(value=min)"
   ]
  },
  {
   "cell_type": "code",
   "execution_count": null,
   "metadata": {
    "colab": {
     "base_uri": "https://localhost:8080/",
     "height": 487
    },
    "id": "_r9lkmabePKB",
    "outputId": "c935a7d3-3a63-4f30-db86-88c2928e2177"
   },
   "outputs": [],
   "source": [
    "df_transactions_train"
   ]
  },
  {
   "cell_type": "code",
   "execution_count": 23,
   "metadata": {
    "id": "gOMqvstvf8wf"
   },
   "outputs": [],
   "source": [
    "save_pkl(df_transactions_train, path + 'regression.pkl')"
   ]
  },
  {
   "cell_type": "markdown",
   "metadata": {
    "id": "fq9owogQiMK0"
   },
   "source": [
    "### Process df_customers"
   ]
  },
  {
   "cell_type": "markdown",
   "metadata": {
    "id": "hgwHCR1oqlaN"
   },
   "source": [
    "Index: customer_id\n",
    "\n",
    "Features included:\n",
    "1. club_member_status with ordianl encoding\n",
    "2. fashion_news_frequency with ordianl encoding\n",
    "3. customer's age"
   ]
  },
  {
   "cell_type": "code",
   "execution_count": null,
   "metadata": {
    "id": "0asqzZ9ng_ZJ"
   },
   "outputs": [],
   "source": [
    "#df_customers = load_pkl(path+'df_customers.pkl')"
   ]
  },
  {
   "cell_type": "code",
   "execution_count": null,
   "metadata": {
    "id": "TSAx5PXJhT1B"
   },
   "outputs": [],
   "source": [
    "df_customers = df_customers[['customer_id', 'club_member_status', 'fashion_news_frequency', 'age']]"
   ]
  },
  {
   "cell_type": "code",
   "execution_count": null,
   "metadata": {
    "id": "uInUwFo9jRrs"
   },
   "outputs": [],
   "source": [
    "df_customers = df_customers.fillna('NONE')"
   ]
  },
  {
   "cell_type": "code",
   "execution_count": null,
   "metadata": {
    "id": "tw1TDRiqi4t_"
   },
   "outputs": [],
   "source": [
    "from sklearn.preprocessing import OneHotEncoder\n",
    "from sklearn.preprocessing import OrdinalEncoder\n",
    "from sklearn.impute import SimpleImputer\n",
    "\n",
    "\n",
    "data = np.array([['NONE'], ['LEFT CLUB'], ['PRE-CREATE'], ['ACTIVE']])\n",
    "cat = list(np.array(['NONE', 'LEFT CLUB', 'PRE-CREATE', 'ACTIVE']).reshape(1,4))\n",
    "enc = OrdinalEncoder(categories=cat)\n",
    "enc.fit(data)\n",
    "encoder = enc.transform(np.expand_dims(list(df_customers['club_member_status']), axis=1))\n",
    "encoder = encoder.squeeze()\n",
    "df_customers['club_member_status'] = encoder"
   ]
  },
  {
   "cell_type": "code",
   "execution_count": null,
   "metadata": {
    "id": "9cMRa1YoltBg"
   },
   "outputs": [],
   "source": [
    "data = np.array([['NONE'], ['Monthly'], ['Regularly']])\n",
    "cat = list(np.array(['NONE', 'Regularly', 'Monthly']).reshape(1,3))\n",
    "enc = OrdinalEncoder(categories=cat)\n",
    "enc.fit(data)\n",
    "encoder = enc.transform(np.expand_dims(list(df_customers['fashion_news_frequency']), axis=1))\n",
    "encoder = encoder.squeeze()\n",
    "df_customers['fashion_news_frequency'] = encoder"
   ]
  },
  {
   "cell_type": "code",
   "execution_count": null,
   "metadata": {
    "colab": {
     "base_uri": "https://localhost:8080/",
     "height": 423
    },
    "id": "W6yHf9uvpTGP",
    "outputId": "cbad8133-c6da-4f1d-c341-57afc9e246d3"
   },
   "outputs": [
    {
     "data": {
      "text/html": [
       "\n",
       "  <div id=\"df-38b3f07f-6d9b-4eff-be0c-7dcdad429026\">\n",
       "    <div class=\"colab-df-container\">\n",
       "      <div>\n",
       "<style scoped>\n",
       "    .dataframe tbody tr th:only-of-type {\n",
       "        vertical-align: middle;\n",
       "    }\n",
       "\n",
       "    .dataframe tbody tr th {\n",
       "        vertical-align: top;\n",
       "    }\n",
       "\n",
       "    .dataframe thead th {\n",
       "        text-align: right;\n",
       "    }\n",
       "</style>\n",
       "<table border=\"1\" class=\"dataframe\">\n",
       "  <thead>\n",
       "    <tr style=\"text-align: right;\">\n",
       "      <th></th>\n",
       "      <th>customer_id</th>\n",
       "      <th>club_member_status</th>\n",
       "      <th>fashion_news_frequency</th>\n",
       "      <th>age</th>\n",
       "    </tr>\n",
       "  </thead>\n",
       "  <tbody>\n",
       "    <tr>\n",
       "      <th>0</th>\n",
       "      <td>00000dbacae5abe5e23885899a1fa44253a17956c6d1c3...</td>\n",
       "      <td>3.0</td>\n",
       "      <td>0.0</td>\n",
       "      <td>49.0</td>\n",
       "    </tr>\n",
       "    <tr>\n",
       "      <th>1</th>\n",
       "      <td>0000423b00ade91418cceaf3b26c6af3dd342b51fd051e...</td>\n",
       "      <td>3.0</td>\n",
       "      <td>0.0</td>\n",
       "      <td>25.0</td>\n",
       "    </tr>\n",
       "    <tr>\n",
       "      <th>2</th>\n",
       "      <td>000058a12d5b43e67d225668fa1f8d618c13dc232df0ca...</td>\n",
       "      <td>3.0</td>\n",
       "      <td>0.0</td>\n",
       "      <td>24.0</td>\n",
       "    </tr>\n",
       "    <tr>\n",
       "      <th>3</th>\n",
       "      <td>00005ca1c9ed5f5146b52ac8639a40ca9d57aeff4d1bd2...</td>\n",
       "      <td>3.0</td>\n",
       "      <td>0.0</td>\n",
       "      <td>54.0</td>\n",
       "    </tr>\n",
       "    <tr>\n",
       "      <th>4</th>\n",
       "      <td>00006413d8573cd20ed7128e53b7b13819fe5cfc2d801f...</td>\n",
       "      <td>3.0</td>\n",
       "      <td>1.0</td>\n",
       "      <td>52.0</td>\n",
       "    </tr>\n",
       "    <tr>\n",
       "      <th>...</th>\n",
       "      <td>...</td>\n",
       "      <td>...</td>\n",
       "      <td>...</td>\n",
       "      <td>...</td>\n",
       "    </tr>\n",
       "    <tr>\n",
       "      <th>1371975</th>\n",
       "      <td>ffffbbf78b6eaac697a8a5dfbfd2bfa8113ee5b403e474...</td>\n",
       "      <td>3.0</td>\n",
       "      <td>0.0</td>\n",
       "      <td>24.0</td>\n",
       "    </tr>\n",
       "    <tr>\n",
       "      <th>1371976</th>\n",
       "      <td>ffffcd5046a6143d29a04fb8c424ce494a76e5cdf4fab5...</td>\n",
       "      <td>3.0</td>\n",
       "      <td>0.0</td>\n",
       "      <td>21.0</td>\n",
       "    </tr>\n",
       "    <tr>\n",
       "      <th>1371977</th>\n",
       "      <td>ffffcf35913a0bee60e8741cb2b4e78b8a98ee5ff2e6a1...</td>\n",
       "      <td>3.0</td>\n",
       "      <td>1.0</td>\n",
       "      <td>21.0</td>\n",
       "    </tr>\n",
       "    <tr>\n",
       "      <th>1371978</th>\n",
       "      <td>ffffd7744cebcf3aca44ae7049d2a94b87074c3d4ffe38...</td>\n",
       "      <td>3.0</td>\n",
       "      <td>1.0</td>\n",
       "      <td>18.0</td>\n",
       "    </tr>\n",
       "    <tr>\n",
       "      <th>1371979</th>\n",
       "      <td>ffffd9ac14e89946416d80e791d064701994755c3ab686...</td>\n",
       "      <td>2.0</td>\n",
       "      <td>0.0</td>\n",
       "      <td>65.0</td>\n",
       "    </tr>\n",
       "  </tbody>\n",
       "</table>\n",
       "<p>1371980 rows × 4 columns</p>\n",
       "</div>\n",
       "      <button class=\"colab-df-convert\" onclick=\"convertToInteractive('df-38b3f07f-6d9b-4eff-be0c-7dcdad429026')\"\n",
       "              title=\"Convert this dataframe to an interactive table.\"\n",
       "              style=\"display:none;\">\n",
       "        \n",
       "  <svg xmlns=\"http://www.w3.org/2000/svg\" height=\"24px\"viewBox=\"0 0 24 24\"\n",
       "       width=\"24px\">\n",
       "    <path d=\"M0 0h24v24H0V0z\" fill=\"none\"/>\n",
       "    <path d=\"M18.56 5.44l.94 2.06.94-2.06 2.06-.94-2.06-.94-.94-2.06-.94 2.06-2.06.94zm-11 1L8.5 8.5l.94-2.06 2.06-.94-2.06-.94L8.5 2.5l-.94 2.06-2.06.94zm10 10l.94 2.06.94-2.06 2.06-.94-2.06-.94-.94-2.06-.94 2.06-2.06.94z\"/><path d=\"M17.41 7.96l-1.37-1.37c-.4-.4-.92-.59-1.43-.59-.52 0-1.04.2-1.43.59L10.3 9.45l-7.72 7.72c-.78.78-.78 2.05 0 2.83L4 21.41c.39.39.9.59 1.41.59.51 0 1.02-.2 1.41-.59l7.78-7.78 2.81-2.81c.8-.78.8-2.07 0-2.86zM5.41 20L4 18.59l7.72-7.72 1.47 1.35L5.41 20z\"/>\n",
       "  </svg>\n",
       "      </button>\n",
       "      \n",
       "  <style>\n",
       "    .colab-df-container {\n",
       "      display:flex;\n",
       "      flex-wrap:wrap;\n",
       "      gap: 12px;\n",
       "    }\n",
       "\n",
       "    .colab-df-convert {\n",
       "      background-color: #E8F0FE;\n",
       "      border: none;\n",
       "      border-radius: 50%;\n",
       "      cursor: pointer;\n",
       "      display: none;\n",
       "      fill: #1967D2;\n",
       "      height: 32px;\n",
       "      padding: 0 0 0 0;\n",
       "      width: 32px;\n",
       "    }\n",
       "\n",
       "    .colab-df-convert:hover {\n",
       "      background-color: #E2EBFA;\n",
       "      box-shadow: 0px 1px 2px rgba(60, 64, 67, 0.3), 0px 1px 3px 1px rgba(60, 64, 67, 0.15);\n",
       "      fill: #174EA6;\n",
       "    }\n",
       "\n",
       "    [theme=dark] .colab-df-convert {\n",
       "      background-color: #3B4455;\n",
       "      fill: #D2E3FC;\n",
       "    }\n",
       "\n",
       "    [theme=dark] .colab-df-convert:hover {\n",
       "      background-color: #434B5C;\n",
       "      box-shadow: 0px 1px 3px 1px rgba(0, 0, 0, 0.15);\n",
       "      filter: drop-shadow(0px 1px 2px rgba(0, 0, 0, 0.3));\n",
       "      fill: #FFFFFF;\n",
       "    }\n",
       "  </style>\n",
       "\n",
       "      <script>\n",
       "        const buttonEl =\n",
       "          document.querySelector('#df-38b3f07f-6d9b-4eff-be0c-7dcdad429026 button.colab-df-convert');\n",
       "        buttonEl.style.display =\n",
       "          google.colab.kernel.accessAllowed ? 'block' : 'none';\n",
       "\n",
       "        async function convertToInteractive(key) {\n",
       "          const element = document.querySelector('#df-38b3f07f-6d9b-4eff-be0c-7dcdad429026');\n",
       "          const dataTable =\n",
       "            await google.colab.kernel.invokeFunction('convertToInteractive',\n",
       "                                                     [key], {});\n",
       "          if (!dataTable) return;\n",
       "\n",
       "          const docLinkHtml = 'Like what you see? Visit the ' +\n",
       "            '<a target=\"_blank\" href=https://colab.research.google.com/notebooks/data_table.ipynb>data table notebook</a>'\n",
       "            + ' to learn more about interactive tables.';\n",
       "          element.innerHTML = '';\n",
       "          dataTable['output_type'] = 'display_data';\n",
       "          await google.colab.output.renderOutput(dataTable, element);\n",
       "          const docLink = document.createElement('div');\n",
       "          docLink.innerHTML = docLinkHtml;\n",
       "          element.appendChild(docLink);\n",
       "        }\n",
       "      </script>\n",
       "    </div>\n",
       "  </div>\n",
       "  "
      ],
      "text/plain": [
       "                                               customer_id  \\\n",
       "0        00000dbacae5abe5e23885899a1fa44253a17956c6d1c3...   \n",
       "1        0000423b00ade91418cceaf3b26c6af3dd342b51fd051e...   \n",
       "2        000058a12d5b43e67d225668fa1f8d618c13dc232df0ca...   \n",
       "3        00005ca1c9ed5f5146b52ac8639a40ca9d57aeff4d1bd2...   \n",
       "4        00006413d8573cd20ed7128e53b7b13819fe5cfc2d801f...   \n",
       "...                                                    ...   \n",
       "1371975  ffffbbf78b6eaac697a8a5dfbfd2bfa8113ee5b403e474...   \n",
       "1371976  ffffcd5046a6143d29a04fb8c424ce494a76e5cdf4fab5...   \n",
       "1371977  ffffcf35913a0bee60e8741cb2b4e78b8a98ee5ff2e6a1...   \n",
       "1371978  ffffd7744cebcf3aca44ae7049d2a94b87074c3d4ffe38...   \n",
       "1371979  ffffd9ac14e89946416d80e791d064701994755c3ab686...   \n",
       "\n",
       "         club_member_status  fashion_news_frequency   age  \n",
       "0                       3.0                     0.0  49.0  \n",
       "1                       3.0                     0.0  25.0  \n",
       "2                       3.0                     0.0  24.0  \n",
       "3                       3.0                     0.0  54.0  \n",
       "4                       3.0                     1.0  52.0  \n",
       "...                     ...                     ...   ...  \n",
       "1371975                 3.0                     0.0  24.0  \n",
       "1371976                 3.0                     0.0  21.0  \n",
       "1371977                 3.0                     1.0  21.0  \n",
       "1371978                 3.0                     1.0  18.0  \n",
       "1371979                 2.0                     0.0  65.0  \n",
       "\n",
       "[1371980 rows x 4 columns]"
      ]
     },
     "execution_count": 28,
     "metadata": {},
     "output_type": "execute_result"
    }
   ],
   "source": [
    "df_customers"
   ]
  },
  {
   "cell_type": "code",
   "execution_count": null,
   "metadata": {
    "id": "VR0Alt1wpXW_"
   },
   "outputs": [],
   "source": [
    "save_pkl(df_customers, path + 'regression_customer.pkl')"
   ]
  },
  {
   "cell_type": "markdown",
   "metadata": {
    "id": "JHSVNiZOiTFc"
   },
   "source": [
    "### Process df_article"
   ]
  },
  {
   "cell_type": "markdown",
   "metadata": {
    "id": "V6mXzbDDrHcn"
   },
   "source": [
    "Index: article_id\n",
    "\n",
    "Features included:\n",
    "1. product_group_name with onehot encoding\n",
    "2. perceived_colour with onehot encoding\n",
    "3. garment_group_name with onehot encoding"
   ]
  },
  {
   "cell_type": "code",
   "execution_count": 6,
   "metadata": {
    "id": "qY0vwV2zhI3S"
   },
   "outputs": [],
   "source": [
    "#df_articles = pd.read_pickle(path+'df_articles.pkl')"
   ]
  },
  {
   "cell_type": "code",
   "execution_count": 7,
   "metadata": {
    "id": "fkOdGQvlppoX"
   },
   "outputs": [],
   "source": [
    "df_articles = df_articles[['article_id','product_group_name','perceived_colour_master_name','garment_group_name']]"
   ]
  },
  {
   "cell_type": "code",
   "execution_count": 8,
   "metadata": {
    "colab": {
     "base_uri": "https://localhost:8080/",
     "height": 505
    },
    "id": "YkD-LkfOpj16",
    "outputId": "7e140c4c-fa1e-42cc-caae-a012955862c0"
   },
   "outputs": [
    {
     "data": {
      "text/html": [
       "\n",
       "  <div id=\"df-d5fe78e2-5d47-418e-9c9d-0a7553a59c25\">\n",
       "    <div class=\"colab-df-container\">\n",
       "      <div>\n",
       "<style scoped>\n",
       "    .dataframe tbody tr th:only-of-type {\n",
       "        vertical-align: middle;\n",
       "    }\n",
       "\n",
       "    .dataframe tbody tr th {\n",
       "        vertical-align: top;\n",
       "    }\n",
       "\n",
       "    .dataframe thead th {\n",
       "        text-align: right;\n",
       "    }\n",
       "</style>\n",
       "<table border=\"1\" class=\"dataframe\">\n",
       "  <thead>\n",
       "    <tr style=\"text-align: right;\">\n",
       "      <th></th>\n",
       "      <th>article_id</th>\n",
       "      <th>product_group_name_Bags</th>\n",
       "      <th>product_group_name_Cosmetic</th>\n",
       "      <th>product_group_name_Fun</th>\n",
       "      <th>product_group_name_Furniture</th>\n",
       "      <th>product_group_name_Garment Full body</th>\n",
       "      <th>product_group_name_Garment Lower body</th>\n",
       "      <th>product_group_name_Garment Upper body</th>\n",
       "      <th>product_group_name_Garment and Shoe care</th>\n",
       "      <th>product_group_name_Interior textile</th>\n",
       "      <th>...</th>\n",
       "      <th>garment_group_name_Shorts</th>\n",
       "      <th>garment_group_name_Skirts</th>\n",
       "      <th>garment_group_name_Socks and Tights</th>\n",
       "      <th>garment_group_name_Special Offers</th>\n",
       "      <th>garment_group_name_Swimwear</th>\n",
       "      <th>garment_group_name_Trousers</th>\n",
       "      <th>garment_group_name_Trousers Denim</th>\n",
       "      <th>garment_group_name_Under-, Nightwear</th>\n",
       "      <th>garment_group_name_Unknown</th>\n",
       "      <th>garment_group_name_Woven/Jersey/Knitted mix Baby</th>\n",
       "    </tr>\n",
       "  </thead>\n",
       "  <tbody>\n",
       "    <tr>\n",
       "      <th>0</th>\n",
       "      <td>108775015</td>\n",
       "      <td>0</td>\n",
       "      <td>0</td>\n",
       "      <td>0</td>\n",
       "      <td>0</td>\n",
       "      <td>0</td>\n",
       "      <td>0</td>\n",
       "      <td>1</td>\n",
       "      <td>0</td>\n",
       "      <td>0</td>\n",
       "      <td>...</td>\n",
       "      <td>0</td>\n",
       "      <td>0</td>\n",
       "      <td>0</td>\n",
       "      <td>0</td>\n",
       "      <td>0</td>\n",
       "      <td>0</td>\n",
       "      <td>0</td>\n",
       "      <td>0</td>\n",
       "      <td>0</td>\n",
       "      <td>0</td>\n",
       "    </tr>\n",
       "    <tr>\n",
       "      <th>1</th>\n",
       "      <td>108775044</td>\n",
       "      <td>0</td>\n",
       "      <td>0</td>\n",
       "      <td>0</td>\n",
       "      <td>0</td>\n",
       "      <td>0</td>\n",
       "      <td>0</td>\n",
       "      <td>1</td>\n",
       "      <td>0</td>\n",
       "      <td>0</td>\n",
       "      <td>...</td>\n",
       "      <td>0</td>\n",
       "      <td>0</td>\n",
       "      <td>0</td>\n",
       "      <td>0</td>\n",
       "      <td>0</td>\n",
       "      <td>0</td>\n",
       "      <td>0</td>\n",
       "      <td>0</td>\n",
       "      <td>0</td>\n",
       "      <td>0</td>\n",
       "    </tr>\n",
       "    <tr>\n",
       "      <th>2</th>\n",
       "      <td>108775051</td>\n",
       "      <td>0</td>\n",
       "      <td>0</td>\n",
       "      <td>0</td>\n",
       "      <td>0</td>\n",
       "      <td>0</td>\n",
       "      <td>0</td>\n",
       "      <td>1</td>\n",
       "      <td>0</td>\n",
       "      <td>0</td>\n",
       "      <td>...</td>\n",
       "      <td>0</td>\n",
       "      <td>0</td>\n",
       "      <td>0</td>\n",
       "      <td>0</td>\n",
       "      <td>0</td>\n",
       "      <td>0</td>\n",
       "      <td>0</td>\n",
       "      <td>0</td>\n",
       "      <td>0</td>\n",
       "      <td>0</td>\n",
       "    </tr>\n",
       "    <tr>\n",
       "      <th>3</th>\n",
       "      <td>110065001</td>\n",
       "      <td>0</td>\n",
       "      <td>0</td>\n",
       "      <td>0</td>\n",
       "      <td>0</td>\n",
       "      <td>0</td>\n",
       "      <td>0</td>\n",
       "      <td>0</td>\n",
       "      <td>0</td>\n",
       "      <td>0</td>\n",
       "      <td>...</td>\n",
       "      <td>0</td>\n",
       "      <td>0</td>\n",
       "      <td>0</td>\n",
       "      <td>0</td>\n",
       "      <td>0</td>\n",
       "      <td>0</td>\n",
       "      <td>0</td>\n",
       "      <td>1</td>\n",
       "      <td>0</td>\n",
       "      <td>0</td>\n",
       "    </tr>\n",
       "    <tr>\n",
       "      <th>4</th>\n",
       "      <td>110065002</td>\n",
       "      <td>0</td>\n",
       "      <td>0</td>\n",
       "      <td>0</td>\n",
       "      <td>0</td>\n",
       "      <td>0</td>\n",
       "      <td>0</td>\n",
       "      <td>0</td>\n",
       "      <td>0</td>\n",
       "      <td>0</td>\n",
       "      <td>...</td>\n",
       "      <td>0</td>\n",
       "      <td>0</td>\n",
       "      <td>0</td>\n",
       "      <td>0</td>\n",
       "      <td>0</td>\n",
       "      <td>0</td>\n",
       "      <td>0</td>\n",
       "      <td>1</td>\n",
       "      <td>0</td>\n",
       "      <td>0</td>\n",
       "    </tr>\n",
       "    <tr>\n",
       "      <th>...</th>\n",
       "      <td>...</td>\n",
       "      <td>...</td>\n",
       "      <td>...</td>\n",
       "      <td>...</td>\n",
       "      <td>...</td>\n",
       "      <td>...</td>\n",
       "      <td>...</td>\n",
       "      <td>...</td>\n",
       "      <td>...</td>\n",
       "      <td>...</td>\n",
       "      <td>...</td>\n",
       "      <td>...</td>\n",
       "      <td>...</td>\n",
       "      <td>...</td>\n",
       "      <td>...</td>\n",
       "      <td>...</td>\n",
       "      <td>...</td>\n",
       "      <td>...</td>\n",
       "      <td>...</td>\n",
       "      <td>...</td>\n",
       "      <td>...</td>\n",
       "    </tr>\n",
       "    <tr>\n",
       "      <th>105537</th>\n",
       "      <td>953450001</td>\n",
       "      <td>0</td>\n",
       "      <td>0</td>\n",
       "      <td>0</td>\n",
       "      <td>0</td>\n",
       "      <td>0</td>\n",
       "      <td>0</td>\n",
       "      <td>0</td>\n",
       "      <td>0</td>\n",
       "      <td>0</td>\n",
       "      <td>...</td>\n",
       "      <td>0</td>\n",
       "      <td>0</td>\n",
       "      <td>1</td>\n",
       "      <td>0</td>\n",
       "      <td>0</td>\n",
       "      <td>0</td>\n",
       "      <td>0</td>\n",
       "      <td>0</td>\n",
       "      <td>0</td>\n",
       "      <td>0</td>\n",
       "    </tr>\n",
       "    <tr>\n",
       "      <th>105538</th>\n",
       "      <td>953763001</td>\n",
       "      <td>0</td>\n",
       "      <td>0</td>\n",
       "      <td>0</td>\n",
       "      <td>0</td>\n",
       "      <td>0</td>\n",
       "      <td>0</td>\n",
       "      <td>1</td>\n",
       "      <td>0</td>\n",
       "      <td>0</td>\n",
       "      <td>...</td>\n",
       "      <td>0</td>\n",
       "      <td>0</td>\n",
       "      <td>0</td>\n",
       "      <td>0</td>\n",
       "      <td>0</td>\n",
       "      <td>0</td>\n",
       "      <td>0</td>\n",
       "      <td>0</td>\n",
       "      <td>0</td>\n",
       "      <td>0</td>\n",
       "    </tr>\n",
       "    <tr>\n",
       "      <th>105539</th>\n",
       "      <td>956217002</td>\n",
       "      <td>0</td>\n",
       "      <td>0</td>\n",
       "      <td>0</td>\n",
       "      <td>0</td>\n",
       "      <td>1</td>\n",
       "      <td>0</td>\n",
       "      <td>0</td>\n",
       "      <td>0</td>\n",
       "      <td>0</td>\n",
       "      <td>...</td>\n",
       "      <td>0</td>\n",
       "      <td>0</td>\n",
       "      <td>0</td>\n",
       "      <td>0</td>\n",
       "      <td>0</td>\n",
       "      <td>0</td>\n",
       "      <td>0</td>\n",
       "      <td>0</td>\n",
       "      <td>0</td>\n",
       "      <td>0</td>\n",
       "    </tr>\n",
       "    <tr>\n",
       "      <th>105540</th>\n",
       "      <td>957375001</td>\n",
       "      <td>0</td>\n",
       "      <td>0</td>\n",
       "      <td>0</td>\n",
       "      <td>0</td>\n",
       "      <td>0</td>\n",
       "      <td>0</td>\n",
       "      <td>0</td>\n",
       "      <td>0</td>\n",
       "      <td>0</td>\n",
       "      <td>...</td>\n",
       "      <td>0</td>\n",
       "      <td>0</td>\n",
       "      <td>0</td>\n",
       "      <td>0</td>\n",
       "      <td>0</td>\n",
       "      <td>0</td>\n",
       "      <td>0</td>\n",
       "      <td>0</td>\n",
       "      <td>0</td>\n",
       "      <td>0</td>\n",
       "    </tr>\n",
       "    <tr>\n",
       "      <th>105541</th>\n",
       "      <td>959461001</td>\n",
       "      <td>0</td>\n",
       "      <td>0</td>\n",
       "      <td>0</td>\n",
       "      <td>0</td>\n",
       "      <td>1</td>\n",
       "      <td>0</td>\n",
       "      <td>0</td>\n",
       "      <td>0</td>\n",
       "      <td>0</td>\n",
       "      <td>...</td>\n",
       "      <td>0</td>\n",
       "      <td>0</td>\n",
       "      <td>0</td>\n",
       "      <td>0</td>\n",
       "      <td>0</td>\n",
       "      <td>0</td>\n",
       "      <td>0</td>\n",
       "      <td>0</td>\n",
       "      <td>0</td>\n",
       "      <td>0</td>\n",
       "    </tr>\n",
       "  </tbody>\n",
       "</table>\n",
       "<p>105542 rows × 58 columns</p>\n",
       "</div>\n",
       "      <button class=\"colab-df-convert\" onclick=\"convertToInteractive('df-d5fe78e2-5d47-418e-9c9d-0a7553a59c25')\"\n",
       "              title=\"Convert this dataframe to an interactive table.\"\n",
       "              style=\"display:none;\">\n",
       "        \n",
       "  <svg xmlns=\"http://www.w3.org/2000/svg\" height=\"24px\"viewBox=\"0 0 24 24\"\n",
       "       width=\"24px\">\n",
       "    <path d=\"M0 0h24v24H0V0z\" fill=\"none\"/>\n",
       "    <path d=\"M18.56 5.44l.94 2.06.94-2.06 2.06-.94-2.06-.94-.94-2.06-.94 2.06-2.06.94zm-11 1L8.5 8.5l.94-2.06 2.06-.94-2.06-.94L8.5 2.5l-.94 2.06-2.06.94zm10 10l.94 2.06.94-2.06 2.06-.94-2.06-.94-.94-2.06-.94 2.06-2.06.94z\"/><path d=\"M17.41 7.96l-1.37-1.37c-.4-.4-.92-.59-1.43-.59-.52 0-1.04.2-1.43.59L10.3 9.45l-7.72 7.72c-.78.78-.78 2.05 0 2.83L4 21.41c.39.39.9.59 1.41.59.51 0 1.02-.2 1.41-.59l7.78-7.78 2.81-2.81c.8-.78.8-2.07 0-2.86zM5.41 20L4 18.59l7.72-7.72 1.47 1.35L5.41 20z\"/>\n",
       "  </svg>\n",
       "      </button>\n",
       "      \n",
       "  <style>\n",
       "    .colab-df-container {\n",
       "      display:flex;\n",
       "      flex-wrap:wrap;\n",
       "      gap: 12px;\n",
       "    }\n",
       "\n",
       "    .colab-df-convert {\n",
       "      background-color: #E8F0FE;\n",
       "      border: none;\n",
       "      border-radius: 50%;\n",
       "      cursor: pointer;\n",
       "      display: none;\n",
       "      fill: #1967D2;\n",
       "      height: 32px;\n",
       "      padding: 0 0 0 0;\n",
       "      width: 32px;\n",
       "    }\n",
       "\n",
       "    .colab-df-convert:hover {\n",
       "      background-color: #E2EBFA;\n",
       "      box-shadow: 0px 1px 2px rgba(60, 64, 67, 0.3), 0px 1px 3px 1px rgba(60, 64, 67, 0.15);\n",
       "      fill: #174EA6;\n",
       "    }\n",
       "\n",
       "    [theme=dark] .colab-df-convert {\n",
       "      background-color: #3B4455;\n",
       "      fill: #D2E3FC;\n",
       "    }\n",
       "\n",
       "    [theme=dark] .colab-df-convert:hover {\n",
       "      background-color: #434B5C;\n",
       "      box-shadow: 0px 1px 3px 1px rgba(0, 0, 0, 0.15);\n",
       "      filter: drop-shadow(0px 1px 2px rgba(0, 0, 0, 0.3));\n",
       "      fill: #FFFFFF;\n",
       "    }\n",
       "  </style>\n",
       "\n",
       "      <script>\n",
       "        const buttonEl =\n",
       "          document.querySelector('#df-d5fe78e2-5d47-418e-9c9d-0a7553a59c25 button.colab-df-convert');\n",
       "        buttonEl.style.display =\n",
       "          google.colab.kernel.accessAllowed ? 'block' : 'none';\n",
       "\n",
       "        async function convertToInteractive(key) {\n",
       "          const element = document.querySelector('#df-d5fe78e2-5d47-418e-9c9d-0a7553a59c25');\n",
       "          const dataTable =\n",
       "            await google.colab.kernel.invokeFunction('convertToInteractive',\n",
       "                                                     [key], {});\n",
       "          if (!dataTable) return;\n",
       "\n",
       "          const docLinkHtml = 'Like what you see? Visit the ' +\n",
       "            '<a target=\"_blank\" href=https://colab.research.google.com/notebooks/data_table.ipynb>data table notebook</a>'\n",
       "            + ' to learn more about interactive tables.';\n",
       "          element.innerHTML = '';\n",
       "          dataTable['output_type'] = 'display_data';\n",
       "          await google.colab.output.renderOutput(dataTable, element);\n",
       "          const docLink = document.createElement('div');\n",
       "          docLink.innerHTML = docLinkHtml;\n",
       "          element.appendChild(docLink);\n",
       "        }\n",
       "      </script>\n",
       "    </div>\n",
       "  </div>\n",
       "  "
      ],
      "text/plain": [
       "        article_id  product_group_name_Bags  product_group_name_Cosmetic  \\\n",
       "0        108775015                        0                            0   \n",
       "1        108775044                        0                            0   \n",
       "2        108775051                        0                            0   \n",
       "3        110065001                        0                            0   \n",
       "4        110065002                        0                            0   \n",
       "...            ...                      ...                          ...   \n",
       "105537   953450001                        0                            0   \n",
       "105538   953763001                        0                            0   \n",
       "105539   956217002                        0                            0   \n",
       "105540   957375001                        0                            0   \n",
       "105541   959461001                        0                            0   \n",
       "\n",
       "        product_group_name_Fun  product_group_name_Furniture  \\\n",
       "0                            0                             0   \n",
       "1                            0                             0   \n",
       "2                            0                             0   \n",
       "3                            0                             0   \n",
       "4                            0                             0   \n",
       "...                        ...                           ...   \n",
       "105537                       0                             0   \n",
       "105538                       0                             0   \n",
       "105539                       0                             0   \n",
       "105540                       0                             0   \n",
       "105541                       0                             0   \n",
       "\n",
       "        product_group_name_Garment Full body  \\\n",
       "0                                          0   \n",
       "1                                          0   \n",
       "2                                          0   \n",
       "3                                          0   \n",
       "4                                          0   \n",
       "...                                      ...   \n",
       "105537                                     0   \n",
       "105538                                     0   \n",
       "105539                                     1   \n",
       "105540                                     0   \n",
       "105541                                     1   \n",
       "\n",
       "        product_group_name_Garment Lower body  \\\n",
       "0                                           0   \n",
       "1                                           0   \n",
       "2                                           0   \n",
       "3                                           0   \n",
       "4                                           0   \n",
       "...                                       ...   \n",
       "105537                                      0   \n",
       "105538                                      0   \n",
       "105539                                      0   \n",
       "105540                                      0   \n",
       "105541                                      0   \n",
       "\n",
       "        product_group_name_Garment Upper body  \\\n",
       "0                                           1   \n",
       "1                                           1   \n",
       "2                                           1   \n",
       "3                                           0   \n",
       "4                                           0   \n",
       "...                                       ...   \n",
       "105537                                      0   \n",
       "105538                                      1   \n",
       "105539                                      0   \n",
       "105540                                      0   \n",
       "105541                                      0   \n",
       "\n",
       "        product_group_name_Garment and Shoe care  \\\n",
       "0                                              0   \n",
       "1                                              0   \n",
       "2                                              0   \n",
       "3                                              0   \n",
       "4                                              0   \n",
       "...                                          ...   \n",
       "105537                                         0   \n",
       "105538                                         0   \n",
       "105539                                         0   \n",
       "105540                                         0   \n",
       "105541                                         0   \n",
       "\n",
       "        product_group_name_Interior textile  ...  garment_group_name_Shorts  \\\n",
       "0                                         0  ...                          0   \n",
       "1                                         0  ...                          0   \n",
       "2                                         0  ...                          0   \n",
       "3                                         0  ...                          0   \n",
       "4                                         0  ...                          0   \n",
       "...                                     ...  ...                        ...   \n",
       "105537                                    0  ...                          0   \n",
       "105538                                    0  ...                          0   \n",
       "105539                                    0  ...                          0   \n",
       "105540                                    0  ...                          0   \n",
       "105541                                    0  ...                          0   \n",
       "\n",
       "        garment_group_name_Skirts  garment_group_name_Socks and Tights  \\\n",
       "0                               0                                    0   \n",
       "1                               0                                    0   \n",
       "2                               0                                    0   \n",
       "3                               0                                    0   \n",
       "4                               0                                    0   \n",
       "...                           ...                                  ...   \n",
       "105537                          0                                    1   \n",
       "105538                          0                                    0   \n",
       "105539                          0                                    0   \n",
       "105540                          0                                    0   \n",
       "105541                          0                                    0   \n",
       "\n",
       "        garment_group_name_Special Offers  garment_group_name_Swimwear  \\\n",
       "0                                       0                            0   \n",
       "1                                       0                            0   \n",
       "2                                       0                            0   \n",
       "3                                       0                            0   \n",
       "4                                       0                            0   \n",
       "...                                   ...                          ...   \n",
       "105537                                  0                            0   \n",
       "105538                                  0                            0   \n",
       "105539                                  0                            0   \n",
       "105540                                  0                            0   \n",
       "105541                                  0                            0   \n",
       "\n",
       "        garment_group_name_Trousers  garment_group_name_Trousers Denim  \\\n",
       "0                                 0                                  0   \n",
       "1                                 0                                  0   \n",
       "2                                 0                                  0   \n",
       "3                                 0                                  0   \n",
       "4                                 0                                  0   \n",
       "...                             ...                                ...   \n",
       "105537                            0                                  0   \n",
       "105538                            0                                  0   \n",
       "105539                            0                                  0   \n",
       "105540                            0                                  0   \n",
       "105541                            0                                  0   \n",
       "\n",
       "        garment_group_name_Under-, Nightwear  garment_group_name_Unknown  \\\n",
       "0                                          0                           0   \n",
       "1                                          0                           0   \n",
       "2                                          0                           0   \n",
       "3                                          1                           0   \n",
       "4                                          1                           0   \n",
       "...                                      ...                         ...   \n",
       "105537                                     0                           0   \n",
       "105538                                     0                           0   \n",
       "105539                                     0                           0   \n",
       "105540                                     0                           0   \n",
       "105541                                     0                           0   \n",
       "\n",
       "        garment_group_name_Woven/Jersey/Knitted mix Baby  \n",
       "0                                                      0  \n",
       "1                                                      0  \n",
       "2                                                      0  \n",
       "3                                                      0  \n",
       "4                                                      0  \n",
       "...                                                  ...  \n",
       "105537                                                 0  \n",
       "105538                                                 0  \n",
       "105539                                                 0  \n",
       "105540                                                 0  \n",
       "105541                                                 0  \n",
       "\n",
       "[105542 rows x 58 columns]"
      ]
     },
     "execution_count": 8,
     "metadata": {},
     "output_type": "execute_result"
    }
   ],
   "source": [
    "df_articles = pd.get_dummies(df_articles, drop_first=True)\n",
    "df_articles"
   ]
  },
  {
   "cell_type": "code",
   "execution_count": 9,
   "metadata": {
    "id": "DMLaqpQVtZRC"
   },
   "outputs": [],
   "source": [
    "save_pkl(df_articles, path + 'regression_article.pkl')"
   ]
  },
  {
   "cell_type": "markdown",
   "metadata": {
    "id": "xUE4goLStjUl"
   },
   "source": [
    "### Regression data"
   ]
  },
  {
   "cell_type": "markdown",
   "metadata": {
    "id": "fxt1e8yQrbiv"
   },
   "source": [
    "Data: join of df_transactions_train, df_customer and df_article with date < 2020-9-1 (approx.) \n",
    "\n",
    "Index: (coustmer_id, article_id) tupes\n",
    "\n",
    "Features: 14 in total, 9 numerical and 5 categorical ones\n",
    "\n",
    "Labels: times a customer have bought an item in the last three months, i.e. counts for (customer_id, article_id) in the joint dataset with date >= 2020-9-1 (approx.) "
   ]
  },
  {
   "cell_type": "code",
   "execution_count": null,
   "metadata": {
    "id": "8RdUAsVjtiXe"
   },
   "outputs": [],
   "source": [
    "df_transactions_train = load_pkl(path + 'regression.pkl')"
   ]
  },
  {
   "cell_type": "code",
   "execution_count": 5,
   "metadata": {
    "id": "b1-AKb4JxGnP"
   },
   "outputs": [],
   "source": [
    "last_day = max(df_transactions_train[\"day_num\"])\n",
    "df_transactions_trainy = df_transactions_train[df_transactions_train[\"day_num\"]>=last_day-90]\n",
    "df_transactions_trainy = df_transactions_trainy[['customer_id', 'article_id', 'day_num']].groupby(['customer_id', 'article_id']).count()\n",
    "df_transactions_trainy.rename(columns={'day_num':'total_purchase_the_item'}, inplace=True)\n",
    "save_pkl(df_transactions_trainy, path + 'regression_y.pkl')"
   ]
  },
  {
   "cell_type": "code",
   "execution_count": 5,
   "metadata": {
    "id": "XygLPNVnrhzc"
   },
   "outputs": [],
   "source": [
    "first_day = max(-1*df_transactions_train[\"day_num\"])\n",
    "last_day = max(df_transactions_train[\"day_num\"])"
   ]
  },
  {
   "cell_type": "code",
   "execution_count": 6,
   "metadata": {
    "id": "65ByFerPvBax"
   },
   "outputs": [],
   "source": [
    "df_transactions_train = df_transactions_train[(df_transactions_train[\"day_num\"]<last_day-90)&(df_transactions_train[\"day_num\"]>first_day+360)]\n",
    "df_transactions_train.drop(columns=['price', 'sales_channel_id', 'year', 'month', 'day', 'day_num'], inplace=True)\n",
    "df_transactions_train.drop_duplicates(subset=['customer_id', 'article_id'], inplace=True)"
   ]
  },
  {
   "cell_type": "code",
   "execution_count": 7,
   "metadata": {
    "id": "RP9okYpQtz0g"
   },
   "outputs": [],
   "source": [
    "df_customers = load_pkl(path + 'regression_customer.pkl')\n",
    "df_transactions_trainy = load_pkl(path + 'regression_y.pkl')\n",
    "df_transactions_train = pd.merge(df_transactions_train, df_customers, on='customer_id', how='left')\n",
    "df_transactions_train = pd.merge(df_transactions_train, df_transactions_trainy, on=['customer_id', 'article_id'], how='left')\n",
    "save_pkl(df_transactions_train, path + 'regression_x.pkl')"
   ]
  },
  {
   "cell_type": "code",
   "execution_count": 5,
   "metadata": {
    "id": "E-gegjrLwRm-"
   },
   "outputs": [],
   "source": [
    "df_transactions_train = load_pkl(path + 'regression_x.pkl')\n",
    "df_articles = load_pkl(path + 'regression_article.pkl')\n",
    "df_transactions_train = pd.merge(df_transactions_train, df_articles, on='article_id', how='left')"
   ]
  },
  {
   "cell_type": "code",
   "execution_count": 6,
   "metadata": {
    "id": "ujUNumD96dKC"
   },
   "outputs": [],
   "source": [
    "save_pkl(df_transactions_train, path + 'regression_x.pkl')"
   ]
  },
  {
   "cell_type": "markdown",
   "metadata": {
    "id": "scI7kA1j2xc2"
   },
   "source": [
    "### Regression-based recommendation\n",
    "\n",
    "Logistic regression predicts the probability of buying (or not buying) a product for each customer. We would recommend to each customer products of >0.5 purchase probability (up to 12 products). Complete with baseline recommendations, if < 12 products.\n",
    "\n",
    "mAP 0.0066\n",
    "\n",
    "Rnadom forest regression predict times a customer could buy the product in the future. We would recommend to each customer products of >0 purchase times (up to 12 products). Complete with baseline recommendations, if < 12 products.\n",
    "\n",
    "mAP 0.0065"
   ]
  },
  {
   "cell_type": "code",
   "execution_count": 9,
   "metadata": {
    "id": "RfoJXve7wc8G"
   },
   "outputs": [],
   "source": [
    "X_train = load_pkl(path + 'regression_x.pkl')"
   ]
  },
  {
   "cell_type": "code",
   "execution_count": 10,
   "metadata": {
    "id": "yQSKN4QhBH2D"
   },
   "outputs": [],
   "source": [
    "y_train = X_train['total_purchase_the_item_y']\n",
    "y_train = list(y_train.fillna(0))\n",
    "y_train_0 = [i for i in range(len(y_train)) if y_train[i]==0]\n",
    "y_train_1 = [i for i in range(len(y_train)) if y_train[i]>0]"
   ]
  },
  {
   "cell_type": "code",
   "execution_count": null,
   "metadata": {
    "id": "-MHQm-wRobiu"
   },
   "outputs": [],
   "source": [
    "### down sampling\n",
    "import random\n",
    "rand = random.sample(range(len(y_train_0)), len(y_train_1))\n",
    "X_train1 = X_train.iloc[[y_train_0[i] for i in rand] + y_train_1, ]\n",
    "X_train1['total_purchase_the_item_y'] = X_train1['total_purchase_the_item_y'].fillna(0)\n",
    "save_pkl(X_train1, path+'X_train1.pkl')"
   ]
  },
  {
   "cell_type": "code",
   "execution_count": 10,
   "metadata": {
    "id": "xK2v9jIhuPjh"
   },
   "outputs": [],
   "source": [
    "X_train = load_pkl(path+'X_train1.pkl')\n",
    "X_id = X_train[['customer_id', 'article_id']]\n",
    "y_train = X_train['total_purchase_the_item_y']\n",
    "X_train.drop(columns=['customer_id', 'article_id', 'total_purchase_the_item_y'], inplace=True)"
   ]
  },
  {
   "cell_type": "code",
   "execution_count": 11,
   "metadata": {
    "id": "Dk7sJeIUBfej"
   },
   "outputs": [],
   "source": [
    "from sklearn.model_selection import train_test_split\n",
    "from sklearn.preprocessing import StandardScaler\n",
    "\n",
    "X_train, X_test, y_train, y_test = train_test_split(X_train, y_train, test_size=0.3, random_state=0)"
   ]
  },
  {
   "cell_type": "markdown",
   "metadata": {
    "id": "KcYfGEOi7USQ"
   },
   "source": [
    "Logistic Regression"
   ]
  },
  {
   "cell_type": "code",
   "execution_count": 12,
   "metadata": {
    "id": "AMstYBGEfkhi"
   },
   "outputs": [],
   "source": [
    "X_train['age'] = pd.to_numeric(X_train['age'], errors='coerce')\n",
    "X_test['age'] = pd.to_numeric(X_test['age'], errors='coerce')\n",
    "mean = X_train['age'].mean()\n",
    "X_train['age'] = X_train['age'].fillna(value=mean)"
   ]
  },
  {
   "cell_type": "code",
   "execution_count": 13,
   "metadata": {
    "id": "JkTc3QqsupcC"
   },
   "outputs": [],
   "source": [
    "cols = ['last_time_the_item', 'last_time_ever', 'total_sales_the_item', 'age']\n",
    "scaler = StandardScaler().fit(X_train[cols])\n",
    "X_train[cols] = scaler.transform(X_train[cols])\n",
    "X_test[cols] = scaler.transform(X_test[cols])"
   ]
  },
  {
   "cell_type": "code",
   "execution_count": 14,
   "metadata": {
    "id": "roYjOjJ6TR9l"
   },
   "outputs": [],
   "source": [
    "X_train['const'] = 1\n",
    "X_test['const'] = 1"
   ]
  },
  {
   "cell_type": "code",
   "execution_count": 18,
   "metadata": {
    "id": "-1PHQtnPdAul"
   },
   "outputs": [],
   "source": [
    "y_train = list(y_train)\n",
    "y_train_bool = [0 if t==0 else 1 for t in y_train]"
   ]
  },
  {
   "cell_type": "code",
   "execution_count": 24,
   "metadata": {
    "colab": {
     "base_uri": "https://localhost:8080/"
    },
    "id": "50dqDPyXhh4Z",
    "outputId": "e2061895-1a80-48a6-c571-6ef505d14424"
   },
   "outputs": [
    {
     "name": "stderr",
     "output_type": "stream",
     "text": [
      "/usr/local/lib/python3.7/dist-packages/sklearn/linear_model/_logistic.py:818: ConvergenceWarning: lbfgs failed to converge (status=1):\n",
      "STOP: TOTAL NO. of ITERATIONS REACHED LIMIT.\n",
      "\n",
      "Increase the number of iterations (max_iter) or scale the data as shown in:\n",
      "    https://scikit-learn.org/stable/modules/preprocessing.html\n",
      "Please also refer to the documentation for alternative solver options:\n",
      "    https://scikit-learn.org/stable/modules/linear_model.html#logistic-regression\n",
      "  extra_warning_msg=_LOGISTIC_SOLVER_CONVERGENCE_MSG,\n"
     ]
    }
   ],
   "source": [
    "from sklearn.linear_model import LogisticRegression\n",
    "\n",
    "clf = LogisticRegression(random_state=0).fit(X_train, y_train_bool)"
   ]
  },
  {
   "cell_type": "code",
   "execution_count": 20,
   "metadata": {
    "id": "DZSHK16DyfL7"
   },
   "outputs": [],
   "source": [
    "mean = X_test['age'].mean()\n",
    "X_test['age'] = X_test['age'].fillna(value=mean)"
   ]
  },
  {
   "cell_type": "code",
   "execution_count": 26,
   "metadata": {
    "colab": {
     "base_uri": "https://localhost:8080/",
     "height": 279
    },
    "id": "iaG862STxaCM",
    "outputId": "b6c73c2e-5468-4801-9f4d-ae8680a46177"
   },
   "outputs": [
    {
     "data": {
      "image/png": "[encoded data removed]",
      "text/plain": [
       "<Figure size 432x288 with 1 Axes>"
      ]
     },
     "metadata": {
      "needs_background": "light"
     },
     "output_type": "display_data"
    }
   ],
   "source": [
    "import seaborn as sns\n",
    "import matplotlib.pyplot as plt\n",
    "%matplotlib inline\n",
    "from sklearn.metrics import roc_curve\n",
    "from sklearn.metrics import roc_auc_score\n",
    "\n",
    "y_test = list(y_test)\n",
    "y_test_bool = [0 if t==0 else 1 for t in y_test]\n",
    "fpr, tpr, _ = roc_curve(y_test_bool, [0 for i in y_test_bool])\n",
    "plt.plot(fpr, tpr, linestyle='--', label='no skill')\n",
    "\n",
    "pred = clf.predict_proba(X_test)\n",
    "pred = [p[1] for p in pred]\n",
    "fpr, tpr, thresh = roc_curve(y_test_bool, pred)\n",
    "auc = roc_auc_score(y_test_bool, pred)\n",
    "plt.plot(fpr, tpr, label=\"logistic regression, auc=\"+str(round(auc, 4)))\n",
    "plt.legend(loc=0)\n",
    "plt.xlabel('False positive rate')\n",
    "plt.ylabel('True positive rate')\n",
    "plt.savefig(path + 'lr.png')"
   ]
  },
  {
   "cell_type": "code",
   "execution_count": 29,
   "metadata": {
    "colab": {
     "base_uri": "https://localhost:8080/",
     "height": 279
    },
    "id": "Db9LUkJFcdYR",
    "outputId": "673880c3-3bd9-4518-ca57-a9b6240cd43b"
   },
   "outputs": [
    {
     "data": {
      "image/png": "[encoded data removed]",
      "text/plain": [
       "<Figure size 432x288 with 1 Axes>"
      ]
     },
     "metadata": {
      "needs_background": "light"
     },
     "output_type": "display_data"
    }
   ],
   "source": [
    "features = list(zip(list(X_train.columns[:11]), [c for c in clf.coef_[0][:11]]))\n",
    "features.sort(key=lambda x: -1*abs(x[1]))\n",
    "features = features[:12]\n",
    "features.sort(key=lambda x: -1*x[1])\n",
    "plt.barh([f[0] for f in features], [f[1] for f in features])\n",
    "plt.xlabel('weights')\n",
    "plt.ylabel('features')\n",
    "plt.savefig(path + 'lr_numerical.png', bbox_inches = \"tight\")"
   ]
  },
  {
   "cell_type": "code",
   "execution_count": 30,
   "metadata": {
    "colab": {
     "base_uri": "https://localhost:8080/",
     "height": 279
    },
    "id": "FqweSgvo3wK5",
    "outputId": "c8b1c1a1-8173-4edd-a68f-4521f27c8e2a"
   },
   "outputs": [
    {
     "data": {
      "image/png": "[encoded data removed]",
      "text/plain": [
       "<Figure size 432x288 with 1 Axes>"
      ]
     },
     "metadata": {
      "needs_background": "light"
     },
     "output_type": "display_data"
    }
   ],
   "source": [
    "features = list(zip(list(X_train.columns[11:-1]), [c for c in clf.coef_[0][11:-1]]))\n",
    "features.sort(key=lambda x: -1*abs(x[1]))\n",
    "features = features[:12]\n",
    "features.sort(key=lambda x: -1*x[1])\n",
    "plt.barh([f[0] for f in features], [f[1] for f in features])\n",
    "plt.xlabel('weights')\n",
    "plt.ylabel('features')\n",
    "plt.savefig(path + 'lr_categori.png', bbox_inches = \"tight\")"
   ]
  },
  {
   "cell_type": "code",
   "execution_count": 31,
   "metadata": {
    "id": "rfQYJnwl4X77"
   },
   "outputs": [],
   "source": [
    "X_train = load_pkl(path+'X_train1.pkl')\n",
    "X_train['age'] = pd.to_numeric(X_train['age'], errors='coerce')\n",
    "mean = X_train['age'].mean()\n",
    "X_train['age'] = X_train['age'].fillna(value=mean)\n",
    "\n",
    "cols = ['last_time_the_item', 'last_time_ever', 'total_sales_the_item', 'age']\n",
    "scaler = StandardScaler().fit(X_train[cols])\n",
    "X_train[cols] = scaler.transform(X_train[cols])\n",
    "\n",
    "X_train['const'] = 1\n",
    "\n",
    "pred = clf.predict_proba(X_train.drop(columns=['customer_id', 'article_id', 'total_purchase_the_item_y']))\n",
    "pred = [p[0] for p in pred]\n",
    "X_train['prob_of_0'] = pred\n",
    "save_pkl(X_train, path + 'X_train_lr.pkl')"
   ]
  },
  {
   "cell_type": "markdown",
   "metadata": {
    "id": "Kfqs9hDe7LR6"
   },
   "source": [
    "Random Forest Regression"
   ]
  },
  {
   "cell_type": "code",
   "execution_count": 6,
   "metadata": {
    "id": "YazbfiUb7GQ5"
   },
   "outputs": [],
   "source": [
    "X_train['age'] = pd.to_numeric(X_train['age'], errors='coerce')\n",
    "X_test['age'] = pd.to_numeric(X_test['age'], errors='coerce')\n",
    "mean = X_train['age'].mean()\n",
    "X_train['age'] = X_train['age'].fillna(value=mean)\n",
    "mean = X_test['age'].mean()\n",
    "X_test['age'] = X_test['age'].fillna(value=mean)"
   ]
  },
  {
   "cell_type": "code",
   "execution_count": 7,
   "metadata": {
    "id": "L3GUdhKwdfyT"
   },
   "outputs": [],
   "source": [
    "from sklearn.ensemble import RandomForestClassifier\n",
    "\n",
    "regressor = RandomForestClassifier().fit(X_train.to_numpy(), y_train.to_numpy())"
   ]
  },
  {
   "cell_type": "code",
   "execution_count": 8,
   "metadata": {
    "colab": {
     "base_uri": "https://localhost:8080/",
     "height": 279
    },
    "id": "3czlmTYakaou",
    "outputId": "aed231cb-d42c-4d9f-db0c-741128086622"
   },
   "outputs": [
    {
     "data": {
      "image/png": "[encoded data removed]",
      "text/plain": [
       "<Figure size 432x288 with 1 Axes>"
      ]
     },
     "metadata": {
      "needs_background": "light"
     },
     "output_type": "display_data"
    }
   ],
   "source": [
    "import seaborn as sns\n",
    "import matplotlib.pyplot as plt\n",
    "%matplotlib inline\n",
    "\n",
    "features = list(zip(list(X_train.columns[:11]), [c for c in regressor.feature_importances_[:11]]))\n",
    "features.sort(key=lambda x: -1*abs(x[1]))\n",
    "features = features[:12]\n",
    "features.sort(key=lambda x: -1*x[1])\n",
    "features.reverse()\n",
    "plt.barh([f[0] for f in features], [f[1] for f in features])\n",
    "plt.xlabel('importance')\n",
    "plt.ylabel('features')\n",
    "plt.savefig(path + 'rf_numerical.png', bbox_inches = \"tight\")"
   ]
  },
  {
   "cell_type": "code",
   "execution_count": 9,
   "metadata": {
    "colab": {
     "base_uri": "https://localhost:8080/",
     "height": 279
    },
    "id": "HGy9mkZmzorD",
    "outputId": "a2f05440-72c9-4bb2-c3dd-686f298dc1ff"
   },
   "outputs": [
    {
     "data": {
      "image/png": "[encoded data removed]",
      "text/plain": [
       "<Figure size 432x288 with 1 Axes>"
      ]
     },
     "metadata": {
      "needs_background": "light"
     },
     "output_type": "display_data"
    }
   ],
   "source": [
    "features = list(zip(list(X_train.columns[11:]), [c for c in regressor.feature_importances_[11:]]))\n",
    "features.sort(key=lambda x: -1*abs(x[1]))\n",
    "features = features[:12]\n",
    "features.sort(key=lambda x: -1*x[1])\n",
    "features.reverse()\n",
    "plt.barh([f[0] for f in features], [f[1] for f in features])\n",
    "plt.xlabel('importance')\n",
    "plt.ylabel('features')\n",
    "plt.savefig(path + 'rf_categori.png', bbox_inches = \"tight\")"
   ]
  },
  {
   "cell_type": "code",
   "execution_count": 12,
   "metadata": {
    "id": "QVxZBf-4lu-I"
   },
   "outputs": [],
   "source": [
    "X_train = load_pkl(path+'X_train1.pk')\n",
    "X_train['total_purchase_the_item_y'] = X_train['total_purchase_the_item_y'].fillna(0)\n",
    "y_train = X_train['total_purchase_the_item_y']\n",
    "X_train.drop(columns=['customer_id', 'article_id', 'total_purchase_the_item_y'], inplace=True)\n",
    "X_train['age'] = pd.to_numeric(X_train['age'], errors='coerce')\n",
    "mean = X_train['age'].mean()\n",
    "X_train['age'] = X_train['age'].fillna(value=mean)"
   ]
  },
  {
   "cell_type": "code",
   "execution_count": null,
   "metadata": {
    "colab": {
     "base_uri": "https://localhost:8080/"
    },
    "id": "JidnqUsmTENM",
    "outputId": "0b00920b-5000-4bb6-e275-d8fb43454d11"
   },
   "outputs": [
    {
     "name": "stderr",
     "output_type": "stream",
     "text": [
      "/usr/local/lib/python3.7/dist-packages/sklearn/base.py:444: UserWarning: X has feature names, but RandomForestClassifier was fitted without feature names\n",
      "  f\"X has feature names, but {self.__class__.__name__} was fitted without\"\n"
     ]
    }
   ],
   "source": [
    "pred = regressor.predict(X_train)\n",
    "X_train['pred_of_num'] = pred\n",
    "save_pkl(X_train, path + 'X_train_rf.pkl')"
   ]
  },
  {
   "cell_type": "markdown",
   "metadata": {
    "id": "UGK21r8xAjge"
   },
   "source": [
    "Recommendation submission"
   ]
  },
  {
   "cell_type": "code",
   "execution_count": 32,
   "metadata": {
    "id": "QTVmqg4gOogs"
   },
   "outputs": [],
   "source": [
    "#df_sample_submission = pd.read_csv(path+'submission_baseline.csv')"
   ]
  },
  {
   "cell_type": "code",
   "execution_count": 33,
   "metadata": {
    "id": "hP-i5x_uBz5W"
   },
   "outputs": [],
   "source": [
    "#X_train_rf = load_pkl(path+'X_train_rf.pkl')\n",
    "#X_train_rf = X_train_rf[X_train_rf['pred_of_num']>0]\n",
    "X_train_lr = load_pkl(path+'X_train_lr.pkl')\n",
    "X_train_lr = X_train_lr[X_train_lr['prob_of_0']<0.5]"
   ]
  },
  {
   "cell_type": "code",
   "execution_count": 34,
   "metadata": {
    "id": "0Zhe3eJOC3At"
   },
   "outputs": [],
   "source": [
    "#X_train_group = X_train_rf[['customer_id', 'article_id', 'pred_of_num']].sort_values(['customer_id','pred_of_num'],ascending=False).groupby('customer_id').head(12)\n",
    "X_train_group = X_train_lr[['customer_id', 'article_id', 'prob_of_0']].sort_values(['customer_id','prob_of_0'],ascending=True).groupby('customer_id').head(12)\n",
    "X_train_group = X_train_group.groupby('customer_id')['article_id'].apply(list).reset_index(name='prediction2')\n",
    "X_train_group['prediction2'] = X_train_group['prediction2'].apply(lambda x: '0'+' 0'.join([str(a) for a in x]))"
   ]
  },
  {
   "cell_type": "code",
   "execution_count": 35,
   "metadata": {
    "id": "Hvgx0nK-CjWH"
   },
   "outputs": [],
   "source": [
    "df_sample_submission = pd.merge(df_sample_submission, X_train_group, on='customer_id', how='left')\n",
    "df_sample_submission['prediction2'] = df_sample_submission['prediction2'].fillna('')"
   ]
  },
  {
   "cell_type": "code",
   "execution_count": 36,
   "metadata": {
    "id": "HyRVjLQ5CPm2"
   },
   "outputs": [],
   "source": [
    "df_sample_submission['prediction'] = df_sample_submission.apply(lambda row: (row['prediction2']+row['prediction'])[:131], axis=1)\n",
    "df_sample_submission.drop(columns=['prediction2'], inplace=True)"
   ]
  },
  {
   "cell_type": "code",
   "execution_count": 37,
   "metadata": {
    "colab": {
     "base_uri": "https://localhost:8080/",
     "height": 423
    },
    "id": "r451PtPbFrHk",
    "outputId": "9c54276c-e613-429e-c932-81c4de356f21"
   },
   "outputs": [
    {
     "data": {
      "text/html": [
       "\n",
       "  <div id=\"df-fa17bdd1-60ac-4082-9bae-fe7eed70e187\">\n",
       "    <div class=\"colab-df-container\">\n",
       "      <div>\n",
       "<style scoped>\n",
       "    .dataframe tbody tr th:only-of-type {\n",
       "        vertical-align: middle;\n",
       "    }\n",
       "\n",
       "    .dataframe tbody tr th {\n",
       "        vertical-align: top;\n",
       "    }\n",
       "\n",
       "    .dataframe thead th {\n",
       "        text-align: right;\n",
       "    }\n",
       "</style>\n",
       "<table border=\"1\" class=\"dataframe\">\n",
       "  <thead>\n",
       "    <tr style=\"text-align: right;\">\n",
       "      <th></th>\n",
       "      <th>customer_id</th>\n",
       "      <th>prediction</th>\n",
       "    </tr>\n",
       "  </thead>\n",
       "  <tbody>\n",
       "    <tr>\n",
       "      <th>0</th>\n",
       "      <td>00000dbacae5abe5e23885899a1fa44253a17956c6d1c3...</td>\n",
       "      <td>0841260003 0887593002 0890498002 0795440001 08...</td>\n",
       "    </tr>\n",
       "    <tr>\n",
       "      <th>1</th>\n",
       "      <td>0000423b00ade91418cceaf3b26c6af3dd342b51fd051e...</td>\n",
       "      <td>0351484002 07235290010811835004 0811835004 081...</td>\n",
       "    </tr>\n",
       "    <tr>\n",
       "      <th>2</th>\n",
       "      <td>000058a12d5b43e67d225668fa1f8d618c13dc232df0ca...</td>\n",
       "      <td>0351484002 0351484002 0750424014 0750424014 08...</td>\n",
       "    </tr>\n",
       "    <tr>\n",
       "      <th>3</th>\n",
       "      <td>00005ca1c9ed5f5146b52ac8639a40ca9d57aeff4d1bd2...</td>\n",
       "      <td>0706016001 0706016002 0372860001 0610776002 07...</td>\n",
       "    </tr>\n",
       "    <tr>\n",
       "      <th>4</th>\n",
       "      <td>00006413d8573cd20ed7128e53b7b13819fe5cfc2d801f...</td>\n",
       "      <td>0896152002 0730683050 0927530004 0791587015070...</td>\n",
       "    </tr>\n",
       "    <tr>\n",
       "      <th>...</th>\n",
       "      <td>...</td>\n",
       "      <td>...</td>\n",
       "    </tr>\n",
       "    <tr>\n",
       "      <th>1371975</th>\n",
       "      <td>ffffbbf78b6eaac697a8a5dfbfd2bfa8113ee5b403e474...</td>\n",
       "      <td>05575990220826955010 0826955010 0557599022 055...</td>\n",
       "    </tr>\n",
       "    <tr>\n",
       "      <th>1371976</th>\n",
       "      <td>ffffcd5046a6143d29a04fb8c424ce494a76e5cdf4fab5...</td>\n",
       "      <td>0699623004 0699623004 0663568009 0663568009 07...</td>\n",
       "    </tr>\n",
       "    <tr>\n",
       "      <th>1371977</th>\n",
       "      <td>ffffcf35913a0bee60e8741cb2b4e78b8a98ee5ff2e6a1...</td>\n",
       "      <td>0706016002 0689365050 0884081001 0794819001 07...</td>\n",
       "    </tr>\n",
       "    <tr>\n",
       "      <th>1371978</th>\n",
       "      <td>ffffd7744cebcf3aca44ae7049d2a94b87074c3d4ffe38...</td>\n",
       "      <td>0866755002 0866755002 0821395003 0806241002 07...</td>\n",
       "    </tr>\n",
       "    <tr>\n",
       "      <th>1371979</th>\n",
       "      <td>ffffd9ac14e89946416d80e791d064701994755c3ab686...</td>\n",
       "      <td>0706016001 0706016002 0372860001 0610776002 07...</td>\n",
       "    </tr>\n",
       "  </tbody>\n",
       "</table>\n",
       "<p>1371980 rows × 2 columns</p>\n",
       "</div>\n",
       "      <button class=\"colab-df-convert\" onclick=\"convertToInteractive('df-fa17bdd1-60ac-4082-9bae-fe7eed70e187')\"\n",
       "              title=\"Convert this dataframe to an interactive table.\"\n",
       "              style=\"display:none;\">\n",
       "        \n",
       "  <svg xmlns=\"http://www.w3.org/2000/svg\" height=\"24px\"viewBox=\"0 0 24 24\"\n",
       "       width=\"24px\">\n",
       "    <path d=\"M0 0h24v24H0V0z\" fill=\"none\"/>\n",
       "    <path d=\"M18.56 5.44l.94 2.06.94-2.06 2.06-.94-2.06-.94-.94-2.06-.94 2.06-2.06.94zm-11 1L8.5 8.5l.94-2.06 2.06-.94-2.06-.94L8.5 2.5l-.94 2.06-2.06.94zm10 10l.94 2.06.94-2.06 2.06-.94-2.06-.94-.94-2.06-.94 2.06-2.06.94z\"/><path d=\"M17.41 7.96l-1.37-1.37c-.4-.4-.92-.59-1.43-.59-.52 0-1.04.2-1.43.59L10.3 9.45l-7.72 7.72c-.78.78-.78 2.05 0 2.83L4 21.41c.39.39.9.59 1.41.59.51 0 1.02-.2 1.41-.59l7.78-7.78 2.81-2.81c.8-.78.8-2.07 0-2.86zM5.41 20L4 18.59l7.72-7.72 1.47 1.35L5.41 20z\"/>\n",
       "  </svg>\n",
       "      </button>\n",
       "      \n",
       "  <style>\n",
       "    .colab-df-container {\n",
       "      display:flex;\n",
       "      flex-wrap:wrap;\n",
       "      gap: 12px;\n",
       "    }\n",
       "\n",
       "    .colab-df-convert {\n",
       "      background-color: #E8F0FE;\n",
       "      border: none;\n",
       "      border-radius: 50%;\n",
       "      cursor: pointer;\n",
       "      display: none;\n",
       "      fill: #1967D2;\n",
       "      height: 32px;\n",
       "      padding: 0 0 0 0;\n",
       "      width: 32px;\n",
       "    }\n",
       "\n",
       "    .colab-df-convert:hover {\n",
       "      background-color: #E2EBFA;\n",
       "      box-shadow: 0px 1px 2px rgba(60, 64, 67, 0.3), 0px 1px 3px 1px rgba(60, 64, 67, 0.15);\n",
       "      fill: #174EA6;\n",
       "    }\n",
       "\n",
       "    [theme=dark] .colab-df-convert {\n",
       "      background-color: #3B4455;\n",
       "      fill: #D2E3FC;\n",
       "    }\n",
       "\n",
       "    [theme=dark] .colab-df-convert:hover {\n",
       "      background-color: #434B5C;\n",
       "      box-shadow: 0px 1px 3px 1px rgba(0, 0, 0, 0.15);\n",
       "      filter: drop-shadow(0px 1px 2px rgba(0, 0, 0, 0.3));\n",
       "      fill: #FFFFFF;\n",
       "    }\n",
       "  </style>\n",
       "\n",
       "      <script>\n",
       "        const buttonEl =\n",
       "          document.querySelector('#df-fa17bdd1-60ac-4082-9bae-fe7eed70e187 button.colab-df-convert');\n",
       "        buttonEl.style.display =\n",
       "          google.colab.kernel.accessAllowed ? 'block' : 'none';\n",
       "\n",
       "        async function convertToInteractive(key) {\n",
       "          const element = document.querySelector('#df-fa17bdd1-60ac-4082-9bae-fe7eed70e187');\n",
       "          const dataTable =\n",
       "            await google.colab.kernel.invokeFunction('convertToInteractive',\n",
       "                                                     [key], {});\n",
       "          if (!dataTable) return;\n",
       "\n",
       "          const docLinkHtml = 'Like what you see? Visit the ' +\n",
       "            '<a target=\"_blank\" href=https://colab.research.google.com/notebooks/data_table.ipynb>data table notebook</a>'\n",
       "            + ' to learn more about interactive tables.';\n",
       "          element.innerHTML = '';\n",
       "          dataTable['output_type'] = 'display_data';\n",
       "          await google.colab.output.renderOutput(dataTable, element);\n",
       "          const docLink = document.createElement('div');\n",
       "          docLink.innerHTML = docLinkHtml;\n",
       "          element.appendChild(docLink);\n",
       "        }\n",
       "      </script>\n",
       "    </div>\n",
       "  </div>\n",
       "  "
      ],
      "text/plain": [
       "                                               customer_id  \\\n",
       "0        00000dbacae5abe5e23885899a1fa44253a17956c6d1c3...   \n",
       "1        0000423b00ade91418cceaf3b26c6af3dd342b51fd051e...   \n",
       "2        000058a12d5b43e67d225668fa1f8d618c13dc232df0ca...   \n",
       "3        00005ca1c9ed5f5146b52ac8639a40ca9d57aeff4d1bd2...   \n",
       "4        00006413d8573cd20ed7128e53b7b13819fe5cfc2d801f...   \n",
       "...                                                    ...   \n",
       "1371975  ffffbbf78b6eaac697a8a5dfbfd2bfa8113ee5b403e474...   \n",
       "1371976  ffffcd5046a6143d29a04fb8c424ce494a76e5cdf4fab5...   \n",
       "1371977  ffffcf35913a0bee60e8741cb2b4e78b8a98ee5ff2e6a1...   \n",
       "1371978  ffffd7744cebcf3aca44ae7049d2a94b87074c3d4ffe38...   \n",
       "1371979  ffffd9ac14e89946416d80e791d064701994755c3ab686...   \n",
       "\n",
       "                                                prediction  \n",
       "0        0841260003 0887593002 0890498002 0795440001 08...  \n",
       "1        0351484002 07235290010811835004 0811835004 081...  \n",
       "2        0351484002 0351484002 0750424014 0750424014 08...  \n",
       "3        0706016001 0706016002 0372860001 0610776002 07...  \n",
       "4        0896152002 0730683050 0927530004 0791587015070...  \n",
       "...                                                    ...  \n",
       "1371975  05575990220826955010 0826955010 0557599022 055...  \n",
       "1371976  0699623004 0699623004 0663568009 0663568009 07...  \n",
       "1371977  0706016002 0689365050 0884081001 0794819001 07...  \n",
       "1371978  0866755002 0866755002 0821395003 0806241002 07...  \n",
       "1371979  0706016001 0706016002 0372860001 0610776002 07...  \n",
       "\n",
       "[1371980 rows x 2 columns]"
      ]
     },
     "execution_count": 37,
     "metadata": {},
     "output_type": "execute_result"
    }
   ],
   "source": [
    "df_sample_submission"
   ]
  },
  {
   "cell_type": "code",
   "execution_count": 38,
   "metadata": {
    "id": "uMo8m363GAFo"
   },
   "outputs": [],
   "source": [
    "#df_sample_submission.to_csv(path+'submission_rf.csv', index=False)\n",
    "df_sample_submission.to_csv(path+'submission_lr.csv', index=False)"
   ]
  },
  {
   "cell_type": "code",
   "execution_count": null,
   "metadata": {
    "id": "Q-sgTL41FrkR"
   },
   "outputs": [],
   "source": []
  }
 ],
 "metadata": {
  "colab": {
   "collapsed_sections": [],
   "machine_shape": "hm",
   "name": "regression_models.ipynb",
   "provenance": []
  },
  "kernelspec": {
   "display_name": "Python 3 (ipykernel)",
   "language": "python",
   "name": "python3"
  },
  "language_info": {
   "codemirror_mode": {
    "name": "ipython",
    "version": 3
   },
   "file_extension": ".py",
   "mimetype": "text/x-python",
   "name": "python",
   "nbconvert_exporter": "python",
   "pygments_lexer": "ipython3",
   "version": "3.8.12"
  }
 },
 "nbformat": 4,
 "nbformat_minor": 1
}
