{
  "nbformat": 4,
  "nbformat_minor": 0,
  "metadata": {
    "colab": {
      "name": "regression_models.ipynb",
      "provenance": [],
      "collapsed_sections": [],
      "machine_shape": "hm"
    },
    "kernelspec": {
      "name": "python3",
      "display_name": "Python 3"
    },
    "language_info": {
      "name": "python"
    }
  },
  "cells": [
    {
      "cell_type": "markdown",
      "source": [
        "This notenook contains feature construction and implementation steps for regression-based recomendations."
      ],
      "metadata": {
        "id": "bU8pL23noAz3"
      }
    },
    {
      "cell_type": "code",
      "execution_count": 1,
      "metadata": {
        "id": "RIemfSlcLs6C"
      },
      "outputs": [],
      "source": [
        "import numpy as np\n",
        "import pandas as pd\n",
        "import pickle"
      ]
    },
    {
      "cell_type": "code",
      "source": [
        "def load_pkl(fname):\n",
        "    with open(fname, 'rb') as infile:\n",
        "        return pickle.load(infile)\n",
        "def save_pkl(df, fname):\n",
        "    with open(fname, 'wb') as outfile:\n",
        "        pickle.dump(df, outfile)\n",
        "def na_percent(df):\n",
        "    return df.isna().sum()/len(df)\n",
        "def map_customer_id(df):\n",
        "    df['customer_id'] = df['customer_id'].apply(lambda x: int(x[-16:],16) ).astype('int64')\n",
        "def map_article_id(df):\n",
        "    df['article_id'] = df['article_id'].astype('int32')\n",
        "    # when making predictions, should convert to string and add leading 0\n",
        "    # e.g. train['article_id'] = '0' + train.article_id.astype('str')\n",
        "path='/content/drive/MyDrive/Colab Notebooks/'"
      ],
      "metadata": {
        "id": "luU0UOzjOQ75"
      },
      "execution_count": 2,
      "outputs": []
    },
    {
      "cell_type": "code",
      "source": [
        "from google.colab import drive\n",
        "drive.mount('/content/drive')"
      ],
      "metadata": {
        "colab": {
          "base_uri": "https://localhost:8080/"
        },
        "id": "ZP6syehGOgGw",
        "outputId": "326fa1d9-346e-4b73-8239-97de3166bc9d"
      },
      "execution_count": 3,
      "outputs": [
        {
          "output_type": "stream",
          "name": "stdout",
          "text": [
            "Drive already mounted at /content/drive; to attempt to forcibly remount, call drive.mount(\"/content/drive\", force_remount=True).\n"
          ]
        }
      ]
    },
    {
      "cell_type": "markdown",
      "source": [
        "### Process df_transactions_train"
      ],
      "metadata": {
        "id": "bViNMn6gh_Pu"
      }
    },
    {
      "cell_type": "markdown",
      "source": [
        "Index: (custome_id, article_id) tupes\n",
        "\n",
        "Features included: \n",
        "1. last time the customer have bought the item\n",
        "2. times the customer have bought the item\n",
        "3. average price of the item\n",
        "4. total sale number of the item\n",
        "5. sale number of the item in the last month \n",
        "6. total customer value\n",
        "7. customer value per purchase\n",
        "8. last time the customer have made purchase\n"
      ],
      "metadata": {
        "id": "DjZ4GGlHoxbF"
      }
    },
    {
      "cell_type": "code",
      "source": [
        "df_transactions_train = load_pkl(path+'df_transactions_train.pkl')\n",
        "df_transactions_train[\"day_num\"] = df_transactions_train[\"year\"]*365 + df_transactions_train[\"month\"]*30 + df_transactions_train[\"day\"]"
      ],
      "metadata": {
        "id": "u89A_2bvPoJV"
      },
      "execution_count": null,
      "outputs": []
    },
    {
      "cell_type": "code",
      "source": [
        "last_day = max(df_transactions_train[\"day_num\"])\n",
        "df_transactions_train1 = df_transactions_train[df_transactions_train[\"day_num\"]<last_day-90]"
      ],
      "metadata": {
        "id": "ZL8wYEWVPU5L"
      },
      "execution_count": 10,
      "outputs": []
    },
    {
      "cell_type": "code",
      "source": [
        "df_transactions_train_group = df_transactions_train1[['customer_id', 'article_id', 'day_num']].groupby(['customer_id', 'article_id']).max()\n",
        "df_transactions_train_group.rename(columns={'day_num':'last_time_the_item'}, inplace=True)\n",
        "df_transactions_train = df_transactions_train.join(df_transactions_train_group, on=['customer_id', 'article_id'])"
      ],
      "metadata": {
        "id": "Z8BI9ejrRDrv"
      },
      "execution_count": 11,
      "outputs": []
    },
    {
      "cell_type": "code",
      "source": [
        "df_transactions_train_group = df_transactions_train1[['customer_id', 'article_id', 'day_num']].groupby(['customer_id', 'article_id']).count()\n",
        "df_transactions_train_group.rename(columns={'day_num':'total_purchase_the_item'}, inplace=True)\n",
        "df_transactions_train = df_transactions_train.join(df_transactions_train_group, on=['customer_id', 'article_id'])"
      ],
      "metadata": {
        "id": "43zq8NBwVRZt"
      },
      "execution_count": 12,
      "outputs": []
    },
    {
      "cell_type": "code",
      "source": [
        "df_transactions_train_group = df_transactions_train1[['customer_id', 'price']].groupby(['customer_id']).sum()\n",
        "df_transactions_train_group.rename(columns={'price':'customer_value_total'}, inplace=True)\n",
        "df_transactions_train = df_transactions_train.join(df_transactions_train_group, on=['customer_id'])"
      ],
      "metadata": {
        "id": "Hgmc8ttnVwJU"
      },
      "execution_count": 13,
      "outputs": []
    },
    {
      "cell_type": "code",
      "source": [
        "df_transactions_train_group = df_transactions_train1[['customer_id', 'day_num', 'price']].groupby(['customer_id', 'day_num']).sum().groupby(['customer_id']).mean()\n",
        "df_transactions_train_group.rename(columns={'price':'customer_value_per_purchase'}, inplace=True)\n",
        "df_transactions_train = df_transactions_train.join(df_transactions_train_group, on=['customer_id'])"
      ],
      "metadata": {
        "id": "mUB6___ZWopI"
      },
      "execution_count": 14,
      "outputs": []
    },
    {
      "cell_type": "code",
      "source": [
        "df_transactions_train_group = df_transactions_train1[['customer_id', 'day_num']].groupby(['customer_id']).max()\n",
        "df_transactions_train_group.rename(columns={'day_num':'last_time_ever'}, inplace=True)\n",
        "df_transactions_train = df_transactions_train.join(df_transactions_train_group, on=['customer_id'])"
      ],
      "metadata": {
        "id": "cCmOqEAdX-t1"
      },
      "execution_count": 15,
      "outputs": []
    },
    {
      "cell_type": "code",
      "source": [
        "df_transactions_train_group = df_transactions_train1[['article_id', 'price']].groupby(['article_id']).mean()\n",
        "df_transactions_train_group.rename(columns={'price':'price_the_item'}, inplace=True)\n",
        "df_transactions_train = df_transactions_train.join(df_transactions_train_group, on=['article_id'])"
      ],
      "metadata": {
        "id": "S2zhmqQDaBTs"
      },
      "execution_count": 16,
      "outputs": []
    },
    {
      "cell_type": "code",
      "source": [
        "df_transactions_train_group = df_transactions_train1[['article_id', 'day_num']].groupby(['article_id']).count()\n",
        "df_transactions_train_group.rename(columns={'day_num':'total_sales_the_item'}, inplace=True)\n",
        "df_transactions_train = df_transactions_train.join(df_transactions_train_group, on=['article_id'])"
      ],
      "metadata": {
        "id": "TIY81KEZZkbU"
      },
      "execution_count": 17,
      "outputs": []
    },
    {
      "cell_type": "code",
      "source": [
        "df_transactions_train_group = df_transactions_train1[df_transactions_train1['day_num']>last_day-60][['article_id', 'day_num']].groupby(['article_id']).count()\n",
        "df_transactions_train_group.rename(columns={'day_num':'last_month_sales_the_item'}, inplace=True)\n",
        "df_transactions_train = df_transactions_train.join(df_transactions_train_group, on=['article_id'])"
      ],
      "metadata": {
        "id": "d4waaKAxbAI1"
      },
      "execution_count": 18,
      "outputs": []
    },
    {
      "cell_type": "code",
      "source": [
        "lst = ['total_purchase_the_item', 'total_sales_the_item', 'last_month_sales_the_item']\n",
        "df_transactions_train[lst] = df_transactions_train[lst].fillna(value=0)"
      ],
      "metadata": {
        "id": "eNn_R0hhdUUp"
      },
      "execution_count": 19,
      "outputs": []
    },
    {
      "cell_type": "code",
      "source": [
        "for col in ['customer_value_total', 'customer_value_per_purchase', 'price_the_item']:\n",
        "  mean = df_transactions_train[col].mean()\n",
        "  df_transactions_train[col] = df_transactions_train[col].fillna(value=mean)"
      ],
      "metadata": {
        "id": "3qgx--sQe5EH"
      },
      "execution_count": 20,
      "outputs": []
    },
    {
      "cell_type": "code",
      "source": [
        "for col in ['last_time_the_item', 'last_time_ever']:\n",
        "  min = df_transactions_train[col].min()\n",
        "  df_transactions_train[col] = df_transactions_train[col].fillna(value=min)"
      ],
      "metadata": {
        "id": "WmhNLiLsfOSj"
      },
      "execution_count": 21,
      "outputs": []
    },
    {
      "cell_type": "code",
      "source": [
        "df_transactions_train"
      ],
      "metadata": {
        "colab": {
          "base_uri": "https://localhost:8080/",
          "height": 487
        },
        "id": "_r9lkmabePKB",
        "outputId": "c935a7d3-3a63-4f30-db86-88c2928e2177"
      },
      "execution_count": 22,
      "outputs": [
        {
          "output_type": "execute_result",
          "data": {
            "text/plain": [
              "                                                customer_id  article_id  \\\n",
              "0         000058a12d5b43e67d225668fa1f8d618c13dc232df0ca...   663713001   \n",
              "1         000058a12d5b43e67d225668fa1f8d618c13dc232df0ca...   541518023   \n",
              "2         00007d2de826758b65a93dd24ce629ed66842531df6699...   505221004   \n",
              "3         00007d2de826758b65a93dd24ce629ed66842531df6699...   685687003   \n",
              "4         00007d2de826758b65a93dd24ce629ed66842531df6699...   685687004   \n",
              "...                                                     ...         ...   \n",
              "31788319  fff2282977442e327b45d8c89afde25617d00124d0f999...   929511001   \n",
              "31788320  fff2282977442e327b45d8c89afde25617d00124d0f999...   891322004   \n",
              "31788321  fff380805474b287b05cb2a7507b9a013482f7dd0bce0e...   918325001   \n",
              "31788322  fff4d3a8b1f3b60af93e78c30a7cb4cf75edaf2590d3e5...   833459002   \n",
              "31788323  fffef3b6b73545df065b521e19f64bf6fe93bfd450ab20...   898573003   \n",
              "\n",
              "             price  sales_channel_id  year  month  day  day_num  \\\n",
              "0         0.050831                 2    18      9   20     6604   \n",
              "1         0.030492                 2    18      9   20     6604   \n",
              "2         0.015237                 2    18      9   20     6604   \n",
              "3         0.016932                 2    18      9   20     6604   \n",
              "4         0.016932                 2    18      9   20     6604   \n",
              "...            ...               ...   ...    ...  ...      ...   \n",
              "31788319  0.059305                 2    20      9   22     7336   \n",
              "31788320  0.042356                 2    20      9   22     7336   \n",
              "31788321  0.043203                 1    20      9   22     7336   \n",
              "31788322  0.006763                 1    20      9   22     7336   \n",
              "31788323  0.033881                 2    20      9   22     7336   \n",
              "\n",
              "          last_time_the_item  total_purchase_the_item  customer_value_total  \\\n",
              "0                     6608.0                      2.0              0.206695   \n",
              "1                     6604.0                      1.0              0.206695   \n",
              "2                     6604.0                      1.0              3.709864   \n",
              "3                     6604.0                      1.0              3.709864   \n",
              "4                     6604.0                      1.0              3.709864   \n",
              "...                      ...                      ...                   ...   \n",
              "31788319              7336.0                      1.0              8.931492   \n",
              "31788320              7336.0                      3.0              8.931492   \n",
              "31788321              7336.0                      1.0              0.266288   \n",
              "31788322              7336.0                      1.0              2.011322   \n",
              "31788323              7336.0                      1.0              2.180339   \n",
              "\n",
              "          customer_value_per_purchase  last_time_ever  price_the_item  \\\n",
              "0                            0.051674          7329.0        0.045512   \n",
              "1                            0.051674          7329.0        0.024343   \n",
              "2                            0.247324          7207.0        0.014834   \n",
              "3                            0.247324          7207.0        0.021823   \n",
              "4                            0.247324          7207.0        0.021607   \n",
              "...                               ...             ...             ...   \n",
              "31788319                     0.080464          7356.0        0.058314   \n",
              "31788320                     0.080464          7356.0        0.040636   \n",
              "31788321                     0.038041          7336.0        0.049172   \n",
              "31788322                     0.080453          7348.0        0.012917   \n",
              "31788323                     0.121130          7336.0        0.033446   \n",
              "\n",
              "          total_sales_the_item  last_month_sales_the_item  \n",
              "0                        633.0                        0.0  \n",
              "1                        434.0                        0.0  \n",
              "2                         42.0                        0.0  \n",
              "3                       1834.0                        0.0  \n",
              "4                       1783.0                        0.0  \n",
              "...                        ...                        ...  \n",
              "31788319                 193.0                        0.0  \n",
              "31788320                 513.0                        0.0  \n",
              "31788321                   6.0                        0.0  \n",
              "31788322                 816.0                        0.0  \n",
              "31788323                 445.0                        0.0  \n",
              "\n",
              "[31788324 rows x 16 columns]"
            ],
            "text/html": [
              "\n",
              "  <div id=\"df-d5fd2720-df83-4ffa-89c9-eb10472dfaaf\">\n",
              "    <div class=\"colab-df-container\">\n",
              "      <div>\n",
              "<style scoped>\n",
              "    .dataframe tbody tr th:only-of-type {\n",
              "        vertical-align: middle;\n",
              "    }\n",
              "\n",
              "    .dataframe tbody tr th {\n",
              "        vertical-align: top;\n",
              "    }\n",
              "\n",
              "    .dataframe thead th {\n",
              "        text-align: right;\n",
              "    }\n",
              "</style>\n",
              "<table border=\"1\" class=\"dataframe\">\n",
              "  <thead>\n",
              "    <tr style=\"text-align: right;\">\n",
              "      <th></th>\n",
              "      <th>customer_id</th>\n",
              "      <th>article_id</th>\n",
              "      <th>price</th>\n",
              "      <th>sales_channel_id</th>\n",
              "      <th>year</th>\n",
              "      <th>month</th>\n",
              "      <th>day</th>\n",
              "      <th>day_num</th>\n",
              "      <th>last_time_the_item</th>\n",
              "      <th>total_purchase_the_item</th>\n",
              "      <th>customer_value_total</th>\n",
              "      <th>customer_value_per_purchase</th>\n",
              "      <th>last_time_ever</th>\n",
              "      <th>price_the_item</th>\n",
              "      <th>total_sales_the_item</th>\n",
              "      <th>last_month_sales_the_item</th>\n",
              "    </tr>\n",
              "  </thead>\n",
              "  <tbody>\n",
              "    <tr>\n",
              "      <th>0</th>\n",
              "      <td>000058a12d5b43e67d225668fa1f8d618c13dc232df0ca...</td>\n",
              "      <td>663713001</td>\n",
              "      <td>0.050831</td>\n",
              "      <td>2</td>\n",
              "      <td>18</td>\n",
              "      <td>9</td>\n",
              "      <td>20</td>\n",
              "      <td>6604</td>\n",
              "      <td>6608.0</td>\n",
              "      <td>2.0</td>\n",
              "      <td>0.206695</td>\n",
              "      <td>0.051674</td>\n",
              "      <td>7329.0</td>\n",
              "      <td>0.045512</td>\n",
              "      <td>633.0</td>\n",
              "      <td>0.0</td>\n",
              "    </tr>\n",
              "    <tr>\n",
              "      <th>1</th>\n",
              "      <td>000058a12d5b43e67d225668fa1f8d618c13dc232df0ca...</td>\n",
              "      <td>541518023</td>\n",
              "      <td>0.030492</td>\n",
              "      <td>2</td>\n",
              "      <td>18</td>\n",
              "      <td>9</td>\n",
              "      <td>20</td>\n",
              "      <td>6604</td>\n",
              "      <td>6604.0</td>\n",
              "      <td>1.0</td>\n",
              "      <td>0.206695</td>\n",
              "      <td>0.051674</td>\n",
              "      <td>7329.0</td>\n",
              "      <td>0.024343</td>\n",
              "      <td>434.0</td>\n",
              "      <td>0.0</td>\n",
              "    </tr>\n",
              "    <tr>\n",
              "      <th>2</th>\n",
              "      <td>00007d2de826758b65a93dd24ce629ed66842531df6699...</td>\n",
              "      <td>505221004</td>\n",
              "      <td>0.015237</td>\n",
              "      <td>2</td>\n",
              "      <td>18</td>\n",
              "      <td>9</td>\n",
              "      <td>20</td>\n",
              "      <td>6604</td>\n",
              "      <td>6604.0</td>\n",
              "      <td>1.0</td>\n",
              "      <td>3.709864</td>\n",
              "      <td>0.247324</td>\n",
              "      <td>7207.0</td>\n",
              "      <td>0.014834</td>\n",
              "      <td>42.0</td>\n",
              "      <td>0.0</td>\n",
              "    </tr>\n",
              "    <tr>\n",
              "      <th>3</th>\n",
              "      <td>00007d2de826758b65a93dd24ce629ed66842531df6699...</td>\n",
              "      <td>685687003</td>\n",
              "      <td>0.016932</td>\n",
              "      <td>2</td>\n",
              "      <td>18</td>\n",
              "      <td>9</td>\n",
              "      <td>20</td>\n",
              "      <td>6604</td>\n",
              "      <td>6604.0</td>\n",
              "      <td>1.0</td>\n",
              "      <td>3.709864</td>\n",
              "      <td>0.247324</td>\n",
              "      <td>7207.0</td>\n",
              "      <td>0.021823</td>\n",
              "      <td>1834.0</td>\n",
              "      <td>0.0</td>\n",
              "    </tr>\n",
              "    <tr>\n",
              "      <th>4</th>\n",
              "      <td>00007d2de826758b65a93dd24ce629ed66842531df6699...</td>\n",
              "      <td>685687004</td>\n",
              "      <td>0.016932</td>\n",
              "      <td>2</td>\n",
              "      <td>18</td>\n",
              "      <td>9</td>\n",
              "      <td>20</td>\n",
              "      <td>6604</td>\n",
              "      <td>6604.0</td>\n",
              "      <td>1.0</td>\n",
              "      <td>3.709864</td>\n",
              "      <td>0.247324</td>\n",
              "      <td>7207.0</td>\n",
              "      <td>0.021607</td>\n",
              "      <td>1783.0</td>\n",
              "      <td>0.0</td>\n",
              "    </tr>\n",
              "    <tr>\n",
              "      <th>...</th>\n",
              "      <td>...</td>\n",
              "      <td>...</td>\n",
              "      <td>...</td>\n",
              "      <td>...</td>\n",
              "      <td>...</td>\n",
              "      <td>...</td>\n",
              "      <td>...</td>\n",
              "      <td>...</td>\n",
              "      <td>...</td>\n",
              "      <td>...</td>\n",
              "      <td>...</td>\n",
              "      <td>...</td>\n",
              "      <td>...</td>\n",
              "      <td>...</td>\n",
              "      <td>...</td>\n",
              "      <td>...</td>\n",
              "    </tr>\n",
              "    <tr>\n",
              "      <th>31788319</th>\n",
              "      <td>fff2282977442e327b45d8c89afde25617d00124d0f999...</td>\n",
              "      <td>929511001</td>\n",
              "      <td>0.059305</td>\n",
              "      <td>2</td>\n",
              "      <td>20</td>\n",
              "      <td>9</td>\n",
              "      <td>22</td>\n",
              "      <td>7336</td>\n",
              "      <td>7336.0</td>\n",
              "      <td>1.0</td>\n",
              "      <td>8.931492</td>\n",
              "      <td>0.080464</td>\n",
              "      <td>7356.0</td>\n",
              "      <td>0.058314</td>\n",
              "      <td>193.0</td>\n",
              "      <td>0.0</td>\n",
              "    </tr>\n",
              "    <tr>\n",
              "      <th>31788320</th>\n",
              "      <td>fff2282977442e327b45d8c89afde25617d00124d0f999...</td>\n",
              "      <td>891322004</td>\n",
              "      <td>0.042356</td>\n",
              "      <td>2</td>\n",
              "      <td>20</td>\n",
              "      <td>9</td>\n",
              "      <td>22</td>\n",
              "      <td>7336</td>\n",
              "      <td>7336.0</td>\n",
              "      <td>3.0</td>\n",
              "      <td>8.931492</td>\n",
              "      <td>0.080464</td>\n",
              "      <td>7356.0</td>\n",
              "      <td>0.040636</td>\n",
              "      <td>513.0</td>\n",
              "      <td>0.0</td>\n",
              "    </tr>\n",
              "    <tr>\n",
              "      <th>31788321</th>\n",
              "      <td>fff380805474b287b05cb2a7507b9a013482f7dd0bce0e...</td>\n",
              "      <td>918325001</td>\n",
              "      <td>0.043203</td>\n",
              "      <td>1</td>\n",
              "      <td>20</td>\n",
              "      <td>9</td>\n",
              "      <td>22</td>\n",
              "      <td>7336</td>\n",
              "      <td>7336.0</td>\n",
              "      <td>1.0</td>\n",
              "      <td>0.266288</td>\n",
              "      <td>0.038041</td>\n",
              "      <td>7336.0</td>\n",
              "      <td>0.049172</td>\n",
              "      <td>6.0</td>\n",
              "      <td>0.0</td>\n",
              "    </tr>\n",
              "    <tr>\n",
              "      <th>31788322</th>\n",
              "      <td>fff4d3a8b1f3b60af93e78c30a7cb4cf75edaf2590d3e5...</td>\n",
              "      <td>833459002</td>\n",
              "      <td>0.006763</td>\n",
              "      <td>1</td>\n",
              "      <td>20</td>\n",
              "      <td>9</td>\n",
              "      <td>22</td>\n",
              "      <td>7336</td>\n",
              "      <td>7336.0</td>\n",
              "      <td>1.0</td>\n",
              "      <td>2.011322</td>\n",
              "      <td>0.080453</td>\n",
              "      <td>7348.0</td>\n",
              "      <td>0.012917</td>\n",
              "      <td>816.0</td>\n",
              "      <td>0.0</td>\n",
              "    </tr>\n",
              "    <tr>\n",
              "      <th>31788323</th>\n",
              "      <td>fffef3b6b73545df065b521e19f64bf6fe93bfd450ab20...</td>\n",
              "      <td>898573003</td>\n",
              "      <td>0.033881</td>\n",
              "      <td>2</td>\n",
              "      <td>20</td>\n",
              "      <td>9</td>\n",
              "      <td>22</td>\n",
              "      <td>7336</td>\n",
              "      <td>7336.0</td>\n",
              "      <td>1.0</td>\n",
              "      <td>2.180339</td>\n",
              "      <td>0.121130</td>\n",
              "      <td>7336.0</td>\n",
              "      <td>0.033446</td>\n",
              "      <td>445.0</td>\n",
              "      <td>0.0</td>\n",
              "    </tr>\n",
              "  </tbody>\n",
              "</table>\n",
              "<p>31788324 rows × 16 columns</p>\n",
              "</div>\n",
              "      <button class=\"colab-df-convert\" onclick=\"convertToInteractive('df-d5fd2720-df83-4ffa-89c9-eb10472dfaaf')\"\n",
              "              title=\"Convert this dataframe to an interactive table.\"\n",
              "              style=\"display:none;\">\n",
              "        \n",
              "  <svg xmlns=\"http://www.w3.org/2000/svg\" height=\"24px\"viewBox=\"0 0 24 24\"\n",
              "       width=\"24px\">\n",
              "    <path d=\"M0 0h24v24H0V0z\" fill=\"none\"/>\n",
              "    <path d=\"M18.56 5.44l.94 2.06.94-2.06 2.06-.94-2.06-.94-.94-2.06-.94 2.06-2.06.94zm-11 1L8.5 8.5l.94-2.06 2.06-.94-2.06-.94L8.5 2.5l-.94 2.06-2.06.94zm10 10l.94 2.06.94-2.06 2.06-.94-2.06-.94-.94-2.06-.94 2.06-2.06.94z\"/><path d=\"M17.41 7.96l-1.37-1.37c-.4-.4-.92-.59-1.43-.59-.52 0-1.04.2-1.43.59L10.3 9.45l-7.72 7.72c-.78.78-.78 2.05 0 2.83L4 21.41c.39.39.9.59 1.41.59.51 0 1.02-.2 1.41-.59l7.78-7.78 2.81-2.81c.8-.78.8-2.07 0-2.86zM5.41 20L4 18.59l7.72-7.72 1.47 1.35L5.41 20z\"/>\n",
              "  </svg>\n",
              "      </button>\n",
              "      \n",
              "  <style>\n",
              "    .colab-df-container {\n",
              "      display:flex;\n",
              "      flex-wrap:wrap;\n",
              "      gap: 12px;\n",
              "    }\n",
              "\n",
              "    .colab-df-convert {\n",
              "      background-color: #E8F0FE;\n",
              "      border: none;\n",
              "      border-radius: 50%;\n",
              "      cursor: pointer;\n",
              "      display: none;\n",
              "      fill: #1967D2;\n",
              "      height: 32px;\n",
              "      padding: 0 0 0 0;\n",
              "      width: 32px;\n",
              "    }\n",
              "\n",
              "    .colab-df-convert:hover {\n",
              "      background-color: #E2EBFA;\n",
              "      box-shadow: 0px 1px 2px rgba(60, 64, 67, 0.3), 0px 1px 3px 1px rgba(60, 64, 67, 0.15);\n",
              "      fill: #174EA6;\n",
              "    }\n",
              "\n",
              "    [theme=dark] .colab-df-convert {\n",
              "      background-color: #3B4455;\n",
              "      fill: #D2E3FC;\n",
              "    }\n",
              "\n",
              "    [theme=dark] .colab-df-convert:hover {\n",
              "      background-color: #434B5C;\n",
              "      box-shadow: 0px 1px 3px 1px rgba(0, 0, 0, 0.15);\n",
              "      filter: drop-shadow(0px 1px 2px rgba(0, 0, 0, 0.3));\n",
              "      fill: #FFFFFF;\n",
              "    }\n",
              "  </style>\n",
              "\n",
              "      <script>\n",
              "        const buttonEl =\n",
              "          document.querySelector('#df-d5fd2720-df83-4ffa-89c9-eb10472dfaaf button.colab-df-convert');\n",
              "        buttonEl.style.display =\n",
              "          google.colab.kernel.accessAllowed ? 'block' : 'none';\n",
              "\n",
              "        async function convertToInteractive(key) {\n",
              "          const element = document.querySelector('#df-d5fd2720-df83-4ffa-89c9-eb10472dfaaf');\n",
              "          const dataTable =\n",
              "            await google.colab.kernel.invokeFunction('convertToInteractive',\n",
              "                                                     [key], {});\n",
              "          if (!dataTable) return;\n",
              "\n",
              "          const docLinkHtml = 'Like what you see? Visit the ' +\n",
              "            '<a target=\"_blank\" href=https://colab.research.google.com/notebooks/data_table.ipynb>data table notebook</a>'\n",
              "            + ' to learn more about interactive tables.';\n",
              "          element.innerHTML = '';\n",
              "          dataTable['output_type'] = 'display_data';\n",
              "          await google.colab.output.renderOutput(dataTable, element);\n",
              "          const docLink = document.createElement('div');\n",
              "          docLink.innerHTML = docLinkHtml;\n",
              "          element.appendChild(docLink);\n",
              "        }\n",
              "      </script>\n",
              "    </div>\n",
              "  </div>\n",
              "  "
            ]
          },
          "metadata": {},
          "execution_count": 22
        }
      ]
    },
    {
      "cell_type": "code",
      "source": [
        "save_pkl(df_transactions_train, path + 'regression.pkl')"
      ],
      "metadata": {
        "id": "gOMqvstvf8wf"
      },
      "execution_count": 23,
      "outputs": []
    },
    {
      "cell_type": "markdown",
      "source": [
        "### Process df_customers"
      ],
      "metadata": {
        "id": "fq9owogQiMK0"
      }
    },
    {
      "cell_type": "markdown",
      "source": [
        "Index: customer_id\n",
        "\n",
        "Features included:\n",
        "1. club_member_status with ordianl encoding\n",
        "2. fashion_news_frequency with ordianl encoding\n",
        "3. customer's age"
      ],
      "metadata": {
        "id": "hgwHCR1oqlaN"
      }
    },
    {
      "cell_type": "code",
      "source": [
        "df_customers = load_pkl(path+'df_customers.pkl')"
      ],
      "metadata": {
        "id": "0asqzZ9ng_ZJ"
      },
      "execution_count": null,
      "outputs": []
    },
    {
      "cell_type": "code",
      "source": [
        "df_customers = df_customers[['customer_id', 'club_member_status', 'fashion_news_frequency', 'age']]"
      ],
      "metadata": {
        "id": "TSAx5PXJhT1B"
      },
      "execution_count": null,
      "outputs": []
    },
    {
      "cell_type": "code",
      "source": [
        "df_customers = df_customers.fillna('NONE')"
      ],
      "metadata": {
        "id": "uInUwFo9jRrs"
      },
      "execution_count": null,
      "outputs": []
    },
    {
      "cell_type": "code",
      "source": [
        "from sklearn.preprocessing import OneHotEncoder\n",
        "from sklearn.preprocessing import OrdinalEncoder\n",
        "from sklearn.impute import SimpleImputer\n",
        "\n",
        "\n",
        "data = np.array([['NONE'], ['LEFT CLUB'], ['PRE-CREATE'], ['ACTIVE']])\n",
        "cat = list(np.array(['NONE', 'LEFT CLUB', 'PRE-CREATE', 'ACTIVE']).reshape(1,4))\n",
        "enc = OrdinalEncoder(categories=cat)\n",
        "enc.fit(data)\n",
        "encoder = enc.transform(np.expand_dims(list(df_customers['club_member_status']), axis=1))\n",
        "encoder = encoder.squeeze()\n",
        "df_customers['club_member_status'] = encoder"
      ],
      "metadata": {
        "id": "tw1TDRiqi4t_"
      },
      "execution_count": null,
      "outputs": []
    },
    {
      "cell_type": "code",
      "source": [
        "data = np.array([['NONE'], ['Monthly'], ['Regularly']])\n",
        "cat = list(np.array(['NONE', 'Regularly', 'Monthly']).reshape(1,3))\n",
        "enc = OrdinalEncoder(categories=cat)\n",
        "enc.fit(data)\n",
        "encoder = enc.transform(np.expand_dims(list(df_customers['fashion_news_frequency']), axis=1))\n",
        "encoder = encoder.squeeze()\n",
        "df_customers['fashion_news_frequency'] = encoder"
      ],
      "metadata": {
        "id": "9cMRa1YoltBg"
      },
      "execution_count": null,
      "outputs": []
    },
    {
      "cell_type": "code",
      "source": [
        "df_customers"
      ],
      "metadata": {
        "colab": {
          "base_uri": "https://localhost:8080/",
          "height": 423
        },
        "id": "W6yHf9uvpTGP",
        "outputId": "cbad8133-c6da-4f1d-c341-57afc9e246d3"
      },
      "execution_count": null,
      "outputs": [
        {
          "output_type": "execute_result",
          "data": {
            "text/plain": [
              "                                               customer_id  \\\n",
              "0        00000dbacae5abe5e23885899a1fa44253a17956c6d1c3...   \n",
              "1        0000423b00ade91418cceaf3b26c6af3dd342b51fd051e...   \n",
              "2        000058a12d5b43e67d225668fa1f8d618c13dc232df0ca...   \n",
              "3        00005ca1c9ed5f5146b52ac8639a40ca9d57aeff4d1bd2...   \n",
              "4        00006413d8573cd20ed7128e53b7b13819fe5cfc2d801f...   \n",
              "...                                                    ...   \n",
              "1371975  ffffbbf78b6eaac697a8a5dfbfd2bfa8113ee5b403e474...   \n",
              "1371976  ffffcd5046a6143d29a04fb8c424ce494a76e5cdf4fab5...   \n",
              "1371977  ffffcf35913a0bee60e8741cb2b4e78b8a98ee5ff2e6a1...   \n",
              "1371978  ffffd7744cebcf3aca44ae7049d2a94b87074c3d4ffe38...   \n",
              "1371979  ffffd9ac14e89946416d80e791d064701994755c3ab686...   \n",
              "\n",
              "         club_member_status  fashion_news_frequency   age  \n",
              "0                       3.0                     0.0  49.0  \n",
              "1                       3.0                     0.0  25.0  \n",
              "2                       3.0                     0.0  24.0  \n",
              "3                       3.0                     0.0  54.0  \n",
              "4                       3.0                     1.0  52.0  \n",
              "...                     ...                     ...   ...  \n",
              "1371975                 3.0                     0.0  24.0  \n",
              "1371976                 3.0                     0.0  21.0  \n",
              "1371977                 3.0                     1.0  21.0  \n",
              "1371978                 3.0                     1.0  18.0  \n",
              "1371979                 2.0                     0.0  65.0  \n",
              "\n",
              "[1371980 rows x 4 columns]"
            ],
            "text/html": [
              "\n",
              "  <div id=\"df-38b3f07f-6d9b-4eff-be0c-7dcdad429026\">\n",
              "    <div class=\"colab-df-container\">\n",
              "      <div>\n",
              "<style scoped>\n",
              "    .dataframe tbody tr th:only-of-type {\n",
              "        vertical-align: middle;\n",
              "    }\n",
              "\n",
              "    .dataframe tbody tr th {\n",
              "        vertical-align: top;\n",
              "    }\n",
              "\n",
              "    .dataframe thead th {\n",
              "        text-align: right;\n",
              "    }\n",
              "</style>\n",
              "<table border=\"1\" class=\"dataframe\">\n",
              "  <thead>\n",
              "    <tr style=\"text-align: right;\">\n",
              "      <th></th>\n",
              "      <th>customer_id</th>\n",
              "      <th>club_member_status</th>\n",
              "      <th>fashion_news_frequency</th>\n",
              "      <th>age</th>\n",
              "    </tr>\n",
              "  </thead>\n",
              "  <tbody>\n",
              "    <tr>\n",
              "      <th>0</th>\n",
              "      <td>00000dbacae5abe5e23885899a1fa44253a17956c6d1c3...</td>\n",
              "      <td>3.0</td>\n",
              "      <td>0.0</td>\n",
              "      <td>49.0</td>\n",
              "    </tr>\n",
              "    <tr>\n",
              "      <th>1</th>\n",
              "      <td>0000423b00ade91418cceaf3b26c6af3dd342b51fd051e...</td>\n",
              "      <td>3.0</td>\n",
              "      <td>0.0</td>\n",
              "      <td>25.0</td>\n",
              "    </tr>\n",
              "    <tr>\n",
              "      <th>2</th>\n",
              "      <td>000058a12d5b43e67d225668fa1f8d618c13dc232df0ca...</td>\n",
              "      <td>3.0</td>\n",
              "      <td>0.0</td>\n",
              "      <td>24.0</td>\n",
              "    </tr>\n",
              "    <tr>\n",
              "      <th>3</th>\n",
              "      <td>00005ca1c9ed5f5146b52ac8639a40ca9d57aeff4d1bd2...</td>\n",
              "      <td>3.0</td>\n",
              "      <td>0.0</td>\n",
              "      <td>54.0</td>\n",
              "    </tr>\n",
              "    <tr>\n",
              "      <th>4</th>\n",
              "      <td>00006413d8573cd20ed7128e53b7b13819fe5cfc2d801f...</td>\n",
              "      <td>3.0</td>\n",
              "      <td>1.0</td>\n",
              "      <td>52.0</td>\n",
              "    </tr>\n",
              "    <tr>\n",
              "      <th>...</th>\n",
              "      <td>...</td>\n",
              "      <td>...</td>\n",
              "      <td>...</td>\n",
              "      <td>...</td>\n",
              "    </tr>\n",
              "    <tr>\n",
              "      <th>1371975</th>\n",
              "      <td>ffffbbf78b6eaac697a8a5dfbfd2bfa8113ee5b403e474...</td>\n",
              "      <td>3.0</td>\n",
              "      <td>0.0</td>\n",
              "      <td>24.0</td>\n",
              "    </tr>\n",
              "    <tr>\n",
              "      <th>1371976</th>\n",
              "      <td>ffffcd5046a6143d29a04fb8c424ce494a76e5cdf4fab5...</td>\n",
              "      <td>3.0</td>\n",
              "      <td>0.0</td>\n",
              "      <td>21.0</td>\n",
              "    </tr>\n",
              "    <tr>\n",
              "      <th>1371977</th>\n",
              "      <td>ffffcf35913a0bee60e8741cb2b4e78b8a98ee5ff2e6a1...</td>\n",
              "      <td>3.0</td>\n",
              "      <td>1.0</td>\n",
              "      <td>21.0</td>\n",
              "    </tr>\n",
              "    <tr>\n",
              "      <th>1371978</th>\n",
              "      <td>ffffd7744cebcf3aca44ae7049d2a94b87074c3d4ffe38...</td>\n",
              "      <td>3.0</td>\n",
              "      <td>1.0</td>\n",
              "      <td>18.0</td>\n",
              "    </tr>\n",
              "    <tr>\n",
              "      <th>1371979</th>\n",
              "      <td>ffffd9ac14e89946416d80e791d064701994755c3ab686...</td>\n",
              "      <td>2.0</td>\n",
              "      <td>0.0</td>\n",
              "      <td>65.0</td>\n",
              "    </tr>\n",
              "  </tbody>\n",
              "</table>\n",
              "<p>1371980 rows × 4 columns</p>\n",
              "</div>\n",
              "      <button class=\"colab-df-convert\" onclick=\"convertToInteractive('df-38b3f07f-6d9b-4eff-be0c-7dcdad429026')\"\n",
              "              title=\"Convert this dataframe to an interactive table.\"\n",
              "              style=\"display:none;\">\n",
              "        \n",
              "  <svg xmlns=\"http://www.w3.org/2000/svg\" height=\"24px\"viewBox=\"0 0 24 24\"\n",
              "       width=\"24px\">\n",
              "    <path d=\"M0 0h24v24H0V0z\" fill=\"none\"/>\n",
              "    <path d=\"M18.56 5.44l.94 2.06.94-2.06 2.06-.94-2.06-.94-.94-2.06-.94 2.06-2.06.94zm-11 1L8.5 8.5l.94-2.06 2.06-.94-2.06-.94L8.5 2.5l-.94 2.06-2.06.94zm10 10l.94 2.06.94-2.06 2.06-.94-2.06-.94-.94-2.06-.94 2.06-2.06.94z\"/><path d=\"M17.41 7.96l-1.37-1.37c-.4-.4-.92-.59-1.43-.59-.52 0-1.04.2-1.43.59L10.3 9.45l-7.72 7.72c-.78.78-.78 2.05 0 2.83L4 21.41c.39.39.9.59 1.41.59.51 0 1.02-.2 1.41-.59l7.78-7.78 2.81-2.81c.8-.78.8-2.07 0-2.86zM5.41 20L4 18.59l7.72-7.72 1.47 1.35L5.41 20z\"/>\n",
              "  </svg>\n",
              "      </button>\n",
              "      \n",
              "  <style>\n",
              "    .colab-df-container {\n",
              "      display:flex;\n",
              "      flex-wrap:wrap;\n",
              "      gap: 12px;\n",
              "    }\n",
              "\n",
              "    .colab-df-convert {\n",
              "      background-color: #E8F0FE;\n",
              "      border: none;\n",
              "      border-radius: 50%;\n",
              "      cursor: pointer;\n",
              "      display: none;\n",
              "      fill: #1967D2;\n",
              "      height: 32px;\n",
              "      padding: 0 0 0 0;\n",
              "      width: 32px;\n",
              "    }\n",
              "\n",
              "    .colab-df-convert:hover {\n",
              "      background-color: #E2EBFA;\n",
              "      box-shadow: 0px 1px 2px rgba(60, 64, 67, 0.3), 0px 1px 3px 1px rgba(60, 64, 67, 0.15);\n",
              "      fill: #174EA6;\n",
              "    }\n",
              "\n",
              "    [theme=dark] .colab-df-convert {\n",
              "      background-color: #3B4455;\n",
              "      fill: #D2E3FC;\n",
              "    }\n",
              "\n",
              "    [theme=dark] .colab-df-convert:hover {\n",
              "      background-color: #434B5C;\n",
              "      box-shadow: 0px 1px 3px 1px rgba(0, 0, 0, 0.15);\n",
              "      filter: drop-shadow(0px 1px 2px rgba(0, 0, 0, 0.3));\n",
              "      fill: #FFFFFF;\n",
              "    }\n",
              "  </style>\n",
              "\n",
              "      <script>\n",
              "        const buttonEl =\n",
              "          document.querySelector('#df-38b3f07f-6d9b-4eff-be0c-7dcdad429026 button.colab-df-convert');\n",
              "        buttonEl.style.display =\n",
              "          google.colab.kernel.accessAllowed ? 'block' : 'none';\n",
              "\n",
              "        async function convertToInteractive(key) {\n",
              "          const element = document.querySelector('#df-38b3f07f-6d9b-4eff-be0c-7dcdad429026');\n",
              "          const dataTable =\n",
              "            await google.colab.kernel.invokeFunction('convertToInteractive',\n",
              "                                                     [key], {});\n",
              "          if (!dataTable) return;\n",
              "\n",
              "          const docLinkHtml = 'Like what you see? Visit the ' +\n",
              "            '<a target=\"_blank\" href=https://colab.research.google.com/notebooks/data_table.ipynb>data table notebook</a>'\n",
              "            + ' to learn more about interactive tables.';\n",
              "          element.innerHTML = '';\n",
              "          dataTable['output_type'] = 'display_data';\n",
              "          await google.colab.output.renderOutput(dataTable, element);\n",
              "          const docLink = document.createElement('div');\n",
              "          docLink.innerHTML = docLinkHtml;\n",
              "          element.appendChild(docLink);\n",
              "        }\n",
              "      </script>\n",
              "    </div>\n",
              "  </div>\n",
              "  "
            ]
          },
          "metadata": {},
          "execution_count": 28
        }
      ]
    },
    {
      "cell_type": "code",
      "source": [
        "save_pkl(df_customers, path + 'regression_customer.pkl')"
      ],
      "metadata": {
        "id": "VR0Alt1wpXW_"
      },
      "execution_count": null,
      "outputs": []
    },
    {
      "cell_type": "markdown",
      "source": [
        "### Process df_article"
      ],
      "metadata": {
        "id": "JHSVNiZOiTFc"
      }
    },
    {
      "cell_type": "markdown",
      "source": [
        "Index: article_id\n",
        "\n",
        "Features included:\n",
        "1. product_group_name with onehot encoding\n",
        "2. perceived_colour with onehot encoding\n",
        "3. garment_group_name with onehot encoding"
      ],
      "metadata": {
        "id": "V6mXzbDDrHcn"
      }
    },
    {
      "cell_type": "code",
      "source": [
        "df_articles = pd.read_pickle(path+'df_articles.pkl')"
      ],
      "metadata": {
        "id": "qY0vwV2zhI3S"
      },
      "execution_count": 6,
      "outputs": []
    },
    {
      "cell_type": "code",
      "source": [
        "df_articles = df_articles[['article_id','product_group_name','perceived_colour_master_name','garment_group_name']]"
      ],
      "metadata": {
        "id": "fkOdGQvlppoX"
      },
      "execution_count": 7,
      "outputs": []
    },
    {
      "cell_type": "code",
      "source": [
        "df_articles = pd.get_dummies(df_articles, drop_first=True)\n",
        "df_articles"
      ],
      "metadata": {
        "colab": {
          "base_uri": "https://localhost:8080/",
          "height": 505
        },
        "id": "YkD-LkfOpj16",
        "outputId": "7e140c4c-fa1e-42cc-caae-a012955862c0"
      },
      "execution_count": 8,
      "outputs": [
        {
          "output_type": "execute_result",
          "data": {
            "text/plain": [
              "        article_id  product_group_name_Bags  product_group_name_Cosmetic  \\\n",
              "0        108775015                        0                            0   \n",
              "1        108775044                        0                            0   \n",
              "2        108775051                        0                            0   \n",
              "3        110065001                        0                            0   \n",
              "4        110065002                        0                            0   \n",
              "...            ...                      ...                          ...   \n",
              "105537   953450001                        0                            0   \n",
              "105538   953763001                        0                            0   \n",
              "105539   956217002                        0                            0   \n",
              "105540   957375001                        0                            0   \n",
              "105541   959461001                        0                            0   \n",
              "\n",
              "        product_group_name_Fun  product_group_name_Furniture  \\\n",
              "0                            0                             0   \n",
              "1                            0                             0   \n",
              "2                            0                             0   \n",
              "3                            0                             0   \n",
              "4                            0                             0   \n",
              "...                        ...                           ...   \n",
              "105537                       0                             0   \n",
              "105538                       0                             0   \n",
              "105539                       0                             0   \n",
              "105540                       0                             0   \n",
              "105541                       0                             0   \n",
              "\n",
              "        product_group_name_Garment Full body  \\\n",
              "0                                          0   \n",
              "1                                          0   \n",
              "2                                          0   \n",
              "3                                          0   \n",
              "4                                          0   \n",
              "...                                      ...   \n",
              "105537                                     0   \n",
              "105538                                     0   \n",
              "105539                                     1   \n",
              "105540                                     0   \n",
              "105541                                     1   \n",
              "\n",
              "        product_group_name_Garment Lower body  \\\n",
              "0                                           0   \n",
              "1                                           0   \n",
              "2                                           0   \n",
              "3                                           0   \n",
              "4                                           0   \n",
              "...                                       ...   \n",
              "105537                                      0   \n",
              "105538                                      0   \n",
              "105539                                      0   \n",
              "105540                                      0   \n",
              "105541                                      0   \n",
              "\n",
              "        product_group_name_Garment Upper body  \\\n",
              "0                                           1   \n",
              "1                                           1   \n",
              "2                                           1   \n",
              "3                                           0   \n",
              "4                                           0   \n",
              "...                                       ...   \n",
              "105537                                      0   \n",
              "105538                                      1   \n",
              "105539                                      0   \n",
              "105540                                      0   \n",
              "105541                                      0   \n",
              "\n",
              "        product_group_name_Garment and Shoe care  \\\n",
              "0                                              0   \n",
              "1                                              0   \n",
              "2                                              0   \n",
              "3                                              0   \n",
              "4                                              0   \n",
              "...                                          ...   \n",
              "105537                                         0   \n",
              "105538                                         0   \n",
              "105539                                         0   \n",
              "105540                                         0   \n",
              "105541                                         0   \n",
              "\n",
              "        product_group_name_Interior textile  ...  garment_group_name_Shorts  \\\n",
              "0                                         0  ...                          0   \n",
              "1                                         0  ...                          0   \n",
              "2                                         0  ...                          0   \n",
              "3                                         0  ...                          0   \n",
              "4                                         0  ...                          0   \n",
              "...                                     ...  ...                        ...   \n",
              "105537                                    0  ...                          0   \n",
              "105538                                    0  ...                          0   \n",
              "105539                                    0  ...                          0   \n",
              "105540                                    0  ...                          0   \n",
              "105541                                    0  ...                          0   \n",
              "\n",
              "        garment_group_name_Skirts  garment_group_name_Socks and Tights  \\\n",
              "0                               0                                    0   \n",
              "1                               0                                    0   \n",
              "2                               0                                    0   \n",
              "3                               0                                    0   \n",
              "4                               0                                    0   \n",
              "...                           ...                                  ...   \n",
              "105537                          0                                    1   \n",
              "105538                          0                                    0   \n",
              "105539                          0                                    0   \n",
              "105540                          0                                    0   \n",
              "105541                          0                                    0   \n",
              "\n",
              "        garment_group_name_Special Offers  garment_group_name_Swimwear  \\\n",
              "0                                       0                            0   \n",
              "1                                       0                            0   \n",
              "2                                       0                            0   \n",
              "3                                       0                            0   \n",
              "4                                       0                            0   \n",
              "...                                   ...                          ...   \n",
              "105537                                  0                            0   \n",
              "105538                                  0                            0   \n",
              "105539                                  0                            0   \n",
              "105540                                  0                            0   \n",
              "105541                                  0                            0   \n",
              "\n",
              "        garment_group_name_Trousers  garment_group_name_Trousers Denim  \\\n",
              "0                                 0                                  0   \n",
              "1                                 0                                  0   \n",
              "2                                 0                                  0   \n",
              "3                                 0                                  0   \n",
              "4                                 0                                  0   \n",
              "...                             ...                                ...   \n",
              "105537                            0                                  0   \n",
              "105538                            0                                  0   \n",
              "105539                            0                                  0   \n",
              "105540                            0                                  0   \n",
              "105541                            0                                  0   \n",
              "\n",
              "        garment_group_name_Under-, Nightwear  garment_group_name_Unknown  \\\n",
              "0                                          0                           0   \n",
              "1                                          0                           0   \n",
              "2                                          0                           0   \n",
              "3                                          1                           0   \n",
              "4                                          1                           0   \n",
              "...                                      ...                         ...   \n",
              "105537                                     0                           0   \n",
              "105538                                     0                           0   \n",
              "105539                                     0                           0   \n",
              "105540                                     0                           0   \n",
              "105541                                     0                           0   \n",
              "\n",
              "        garment_group_name_Woven/Jersey/Knitted mix Baby  \n",
              "0                                                      0  \n",
              "1                                                      0  \n",
              "2                                                      0  \n",
              "3                                                      0  \n",
              "4                                                      0  \n",
              "...                                                  ...  \n",
              "105537                                                 0  \n",
              "105538                                                 0  \n",
              "105539                                                 0  \n",
              "105540                                                 0  \n",
              "105541                                                 0  \n",
              "\n",
              "[105542 rows x 58 columns]"
            ],
            "text/html": [
              "\n",
              "  <div id=\"df-d5fe78e2-5d47-418e-9c9d-0a7553a59c25\">\n",
              "    <div class=\"colab-df-container\">\n",
              "      <div>\n",
              "<style scoped>\n",
              "    .dataframe tbody tr th:only-of-type {\n",
              "        vertical-align: middle;\n",
              "    }\n",
              "\n",
              "    .dataframe tbody tr th {\n",
              "        vertical-align: top;\n",
              "    }\n",
              "\n",
              "    .dataframe thead th {\n",
              "        text-align: right;\n",
              "    }\n",
              "</style>\n",
              "<table border=\"1\" class=\"dataframe\">\n",
              "  <thead>\n",
              "    <tr style=\"text-align: right;\">\n",
              "      <th></th>\n",
              "      <th>article_id</th>\n",
              "      <th>product_group_name_Bags</th>\n",
              "      <th>product_group_name_Cosmetic</th>\n",
              "      <th>product_group_name_Fun</th>\n",
              "      <th>product_group_name_Furniture</th>\n",
              "      <th>product_group_name_Garment Full body</th>\n",
              "      <th>product_group_name_Garment Lower body</th>\n",
              "      <th>product_group_name_Garment Upper body</th>\n",
              "      <th>product_group_name_Garment and Shoe care</th>\n",
              "      <th>product_group_name_Interior textile</th>\n",
              "      <th>...</th>\n",
              "      <th>garment_group_name_Shorts</th>\n",
              "      <th>garment_group_name_Skirts</th>\n",
              "      <th>garment_group_name_Socks and Tights</th>\n",
              "      <th>garment_group_name_Special Offers</th>\n",
              "      <th>garment_group_name_Swimwear</th>\n",
              "      <th>garment_group_name_Trousers</th>\n",
              "      <th>garment_group_name_Trousers Denim</th>\n",
              "      <th>garment_group_name_Under-, Nightwear</th>\n",
              "      <th>garment_group_name_Unknown</th>\n",
              "      <th>garment_group_name_Woven/Jersey/Knitted mix Baby</th>\n",
              "    </tr>\n",
              "  </thead>\n",
              "  <tbody>\n",
              "    <tr>\n",
              "      <th>0</th>\n",
              "      <td>108775015</td>\n",
              "      <td>0</td>\n",
              "      <td>0</td>\n",
              "      <td>0</td>\n",
              "      <td>0</td>\n",
              "      <td>0</td>\n",
              "      <td>0</td>\n",
              "      <td>1</td>\n",
              "      <td>0</td>\n",
              "      <td>0</td>\n",
              "      <td>...</td>\n",
              "      <td>0</td>\n",
              "      <td>0</td>\n",
              "      <td>0</td>\n",
              "      <td>0</td>\n",
              "      <td>0</td>\n",
              "      <td>0</td>\n",
              "      <td>0</td>\n",
              "      <td>0</td>\n",
              "      <td>0</td>\n",
              "      <td>0</td>\n",
              "    </tr>\n",
              "    <tr>\n",
              "      <th>1</th>\n",
              "      <td>108775044</td>\n",
              "      <td>0</td>\n",
              "      <td>0</td>\n",
              "      <td>0</td>\n",
              "      <td>0</td>\n",
              "      <td>0</td>\n",
              "      <td>0</td>\n",
              "      <td>1</td>\n",
              "      <td>0</td>\n",
              "      <td>0</td>\n",
              "      <td>...</td>\n",
              "      <td>0</td>\n",
              "      <td>0</td>\n",
              "      <td>0</td>\n",
              "      <td>0</td>\n",
              "      <td>0</td>\n",
              "      <td>0</td>\n",
              "      <td>0</td>\n",
              "      <td>0</td>\n",
              "      <td>0</td>\n",
              "      <td>0</td>\n",
              "    </tr>\n",
              "    <tr>\n",
              "      <th>2</th>\n",
              "      <td>108775051</td>\n",
              "      <td>0</td>\n",
              "      <td>0</td>\n",
              "      <td>0</td>\n",
              "      <td>0</td>\n",
              "      <td>0</td>\n",
              "      <td>0</td>\n",
              "      <td>1</td>\n",
              "      <td>0</td>\n",
              "      <td>0</td>\n",
              "      <td>...</td>\n",
              "      <td>0</td>\n",
              "      <td>0</td>\n",
              "      <td>0</td>\n",
              "      <td>0</td>\n",
              "      <td>0</td>\n",
              "      <td>0</td>\n",
              "      <td>0</td>\n",
              "      <td>0</td>\n",
              "      <td>0</td>\n",
              "      <td>0</td>\n",
              "    </tr>\n",
              "    <tr>\n",
              "      <th>3</th>\n",
              "      <td>110065001</td>\n",
              "      <td>0</td>\n",
              "      <td>0</td>\n",
              "      <td>0</td>\n",
              "      <td>0</td>\n",
              "      <td>0</td>\n",
              "      <td>0</td>\n",
              "      <td>0</td>\n",
              "      <td>0</td>\n",
              "      <td>0</td>\n",
              "      <td>...</td>\n",
              "      <td>0</td>\n",
              "      <td>0</td>\n",
              "      <td>0</td>\n",
              "      <td>0</td>\n",
              "      <td>0</td>\n",
              "      <td>0</td>\n",
              "      <td>0</td>\n",
              "      <td>1</td>\n",
              "      <td>0</td>\n",
              "      <td>0</td>\n",
              "    </tr>\n",
              "    <tr>\n",
              "      <th>4</th>\n",
              "      <td>110065002</td>\n",
              "      <td>0</td>\n",
              "      <td>0</td>\n",
              "      <td>0</td>\n",
              "      <td>0</td>\n",
              "      <td>0</td>\n",
              "      <td>0</td>\n",
              "      <td>0</td>\n",
              "      <td>0</td>\n",
              "      <td>0</td>\n",
              "      <td>...</td>\n",
              "      <td>0</td>\n",
              "      <td>0</td>\n",
              "      <td>0</td>\n",
              "      <td>0</td>\n",
              "      <td>0</td>\n",
              "      <td>0</td>\n",
              "      <td>0</td>\n",
              "      <td>1</td>\n",
              "      <td>0</td>\n",
              "      <td>0</td>\n",
              "    </tr>\n",
              "    <tr>\n",
              "      <th>...</th>\n",
              "      <td>...</td>\n",
              "      <td>...</td>\n",
              "      <td>...</td>\n",
              "      <td>...</td>\n",
              "      <td>...</td>\n",
              "      <td>...</td>\n",
              "      <td>...</td>\n",
              "      <td>...</td>\n",
              "      <td>...</td>\n",
              "      <td>...</td>\n",
              "      <td>...</td>\n",
              "      <td>...</td>\n",
              "      <td>...</td>\n",
              "      <td>...</td>\n",
              "      <td>...</td>\n",
              "      <td>...</td>\n",
              "      <td>...</td>\n",
              "      <td>...</td>\n",
              "      <td>...</td>\n",
              "      <td>...</td>\n",
              "      <td>...</td>\n",
              "    </tr>\n",
              "    <tr>\n",
              "      <th>105537</th>\n",
              "      <td>953450001</td>\n",
              "      <td>0</td>\n",
              "      <td>0</td>\n",
              "      <td>0</td>\n",
              "      <td>0</td>\n",
              "      <td>0</td>\n",
              "      <td>0</td>\n",
              "      <td>0</td>\n",
              "      <td>0</td>\n",
              "      <td>0</td>\n",
              "      <td>...</td>\n",
              "      <td>0</td>\n",
              "      <td>0</td>\n",
              "      <td>1</td>\n",
              "      <td>0</td>\n",
              "      <td>0</td>\n",
              "      <td>0</td>\n",
              "      <td>0</td>\n",
              "      <td>0</td>\n",
              "      <td>0</td>\n",
              "      <td>0</td>\n",
              "    </tr>\n",
              "    <tr>\n",
              "      <th>105538</th>\n",
              "      <td>953763001</td>\n",
              "      <td>0</td>\n",
              "      <td>0</td>\n",
              "      <td>0</td>\n",
              "      <td>0</td>\n",
              "      <td>0</td>\n",
              "      <td>0</td>\n",
              "      <td>1</td>\n",
              "      <td>0</td>\n",
              "      <td>0</td>\n",
              "      <td>...</td>\n",
              "      <td>0</td>\n",
              "      <td>0</td>\n",
              "      <td>0</td>\n",
              "      <td>0</td>\n",
              "      <td>0</td>\n",
              "      <td>0</td>\n",
              "      <td>0</td>\n",
              "      <td>0</td>\n",
              "      <td>0</td>\n",
              "      <td>0</td>\n",
              "    </tr>\n",
              "    <tr>\n",
              "      <th>105539</th>\n",
              "      <td>956217002</td>\n",
              "      <td>0</td>\n",
              "      <td>0</td>\n",
              "      <td>0</td>\n",
              "      <td>0</td>\n",
              "      <td>1</td>\n",
              "      <td>0</td>\n",
              "      <td>0</td>\n",
              "      <td>0</td>\n",
              "      <td>0</td>\n",
              "      <td>...</td>\n",
              "      <td>0</td>\n",
              "      <td>0</td>\n",
              "      <td>0</td>\n",
              "      <td>0</td>\n",
              "      <td>0</td>\n",
              "      <td>0</td>\n",
              "      <td>0</td>\n",
              "      <td>0</td>\n",
              "      <td>0</td>\n",
              "      <td>0</td>\n",
              "    </tr>\n",
              "    <tr>\n",
              "      <th>105540</th>\n",
              "      <td>957375001</td>\n",
              "      <td>0</td>\n",
              "      <td>0</td>\n",
              "      <td>0</td>\n",
              "      <td>0</td>\n",
              "      <td>0</td>\n",
              "      <td>0</td>\n",
              "      <td>0</td>\n",
              "      <td>0</td>\n",
              "      <td>0</td>\n",
              "      <td>...</td>\n",
              "      <td>0</td>\n",
              "      <td>0</td>\n",
              "      <td>0</td>\n",
              "      <td>0</td>\n",
              "      <td>0</td>\n",
              "      <td>0</td>\n",
              "      <td>0</td>\n",
              "      <td>0</td>\n",
              "      <td>0</td>\n",
              "      <td>0</td>\n",
              "    </tr>\n",
              "    <tr>\n",
              "      <th>105541</th>\n",
              "      <td>959461001</td>\n",
              "      <td>0</td>\n",
              "      <td>0</td>\n",
              "      <td>0</td>\n",
              "      <td>0</td>\n",
              "      <td>1</td>\n",
              "      <td>0</td>\n",
              "      <td>0</td>\n",
              "      <td>0</td>\n",
              "      <td>0</td>\n",
              "      <td>...</td>\n",
              "      <td>0</td>\n",
              "      <td>0</td>\n",
              "      <td>0</td>\n",
              "      <td>0</td>\n",
              "      <td>0</td>\n",
              "      <td>0</td>\n",
              "      <td>0</td>\n",
              "      <td>0</td>\n",
              "      <td>0</td>\n",
              "      <td>0</td>\n",
              "    </tr>\n",
              "  </tbody>\n",
              "</table>\n",
              "<p>105542 rows × 58 columns</p>\n",
              "</div>\n",
              "      <button class=\"colab-df-convert\" onclick=\"convertToInteractive('df-d5fe78e2-5d47-418e-9c9d-0a7553a59c25')\"\n",
              "              title=\"Convert this dataframe to an interactive table.\"\n",
              "              style=\"display:none;\">\n",
              "        \n",
              "  <svg xmlns=\"http://www.w3.org/2000/svg\" height=\"24px\"viewBox=\"0 0 24 24\"\n",
              "       width=\"24px\">\n",
              "    <path d=\"M0 0h24v24H0V0z\" fill=\"none\"/>\n",
              "    <path d=\"M18.56 5.44l.94 2.06.94-2.06 2.06-.94-2.06-.94-.94-2.06-.94 2.06-2.06.94zm-11 1L8.5 8.5l.94-2.06 2.06-.94-2.06-.94L8.5 2.5l-.94 2.06-2.06.94zm10 10l.94 2.06.94-2.06 2.06-.94-2.06-.94-.94-2.06-.94 2.06-2.06.94z\"/><path d=\"M17.41 7.96l-1.37-1.37c-.4-.4-.92-.59-1.43-.59-.52 0-1.04.2-1.43.59L10.3 9.45l-7.72 7.72c-.78.78-.78 2.05 0 2.83L4 21.41c.39.39.9.59 1.41.59.51 0 1.02-.2 1.41-.59l7.78-7.78 2.81-2.81c.8-.78.8-2.07 0-2.86zM5.41 20L4 18.59l7.72-7.72 1.47 1.35L5.41 20z\"/>\n",
              "  </svg>\n",
              "      </button>\n",
              "      \n",
              "  <style>\n",
              "    .colab-df-container {\n",
              "      display:flex;\n",
              "      flex-wrap:wrap;\n",
              "      gap: 12px;\n",
              "    }\n",
              "\n",
              "    .colab-df-convert {\n",
              "      background-color: #E8F0FE;\n",
              "      border: none;\n",
              "      border-radius: 50%;\n",
              "      cursor: pointer;\n",
              "      display: none;\n",
              "      fill: #1967D2;\n",
              "      height: 32px;\n",
              "      padding: 0 0 0 0;\n",
              "      width: 32px;\n",
              "    }\n",
              "\n",
              "    .colab-df-convert:hover {\n",
              "      background-color: #E2EBFA;\n",
              "      box-shadow: 0px 1px 2px rgba(60, 64, 67, 0.3), 0px 1px 3px 1px rgba(60, 64, 67, 0.15);\n",
              "      fill: #174EA6;\n",
              "    }\n",
              "\n",
              "    [theme=dark] .colab-df-convert {\n",
              "      background-color: #3B4455;\n",
              "      fill: #D2E3FC;\n",
              "    }\n",
              "\n",
              "    [theme=dark] .colab-df-convert:hover {\n",
              "      background-color: #434B5C;\n",
              "      box-shadow: 0px 1px 3px 1px rgba(0, 0, 0, 0.15);\n",
              "      filter: drop-shadow(0px 1px 2px rgba(0, 0, 0, 0.3));\n",
              "      fill: #FFFFFF;\n",
              "    }\n",
              "  </style>\n",
              "\n",
              "      <script>\n",
              "        const buttonEl =\n",
              "          document.querySelector('#df-d5fe78e2-5d47-418e-9c9d-0a7553a59c25 button.colab-df-convert');\n",
              "        buttonEl.style.display =\n",
              "          google.colab.kernel.accessAllowed ? 'block' : 'none';\n",
              "\n",
              "        async function convertToInteractive(key) {\n",
              "          const element = document.querySelector('#df-d5fe78e2-5d47-418e-9c9d-0a7553a59c25');\n",
              "          const dataTable =\n",
              "            await google.colab.kernel.invokeFunction('convertToInteractive',\n",
              "                                                     [key], {});\n",
              "          if (!dataTable) return;\n",
              "\n",
              "          const docLinkHtml = 'Like what you see? Visit the ' +\n",
              "            '<a target=\"_blank\" href=https://colab.research.google.com/notebooks/data_table.ipynb>data table notebook</a>'\n",
              "            + ' to learn more about interactive tables.';\n",
              "          element.innerHTML = '';\n",
              "          dataTable['output_type'] = 'display_data';\n",
              "          await google.colab.output.renderOutput(dataTable, element);\n",
              "          const docLink = document.createElement('div');\n",
              "          docLink.innerHTML = docLinkHtml;\n",
              "          element.appendChild(docLink);\n",
              "        }\n",
              "      </script>\n",
              "    </div>\n",
              "  </div>\n",
              "  "
            ]
          },
          "metadata": {},
          "execution_count": 8
        }
      ]
    },
    {
      "cell_type": "code",
      "source": [
        "save_pkl(df_articles, path + 'regression_article.pkl')"
      ],
      "metadata": {
        "id": "DMLaqpQVtZRC"
      },
      "execution_count": 9,
      "outputs": []
    },
    {
      "cell_type": "markdown",
      "source": [
        "### Regression data"
      ],
      "metadata": {
        "id": "xUE4goLStjUl"
      }
    },
    {
      "cell_type": "markdown",
      "source": [
        "Data: join of df_transactions_train, df_customer and df_article with date < 2020-9-1 (approx.) \n",
        "\n",
        "Index: (coustmer_id, article_id) tupes\n",
        "\n",
        "Features: 14 in total, 9 numerical and 5 categorical ones\n",
        "\n",
        "Labels: times a customer have bought an item in the last three months, i.e. counts for (customer_id, article_id) in the joint dataset with date >= 2020-9-1 (approx.) "
      ],
      "metadata": {
        "id": "fxt1e8yQrbiv"
      }
    },
    {
      "cell_type": "code",
      "source": [
        "df_transactions_train = load_pkl(path + 'regression.pkl')"
      ],
      "metadata": {
        "id": "8RdUAsVjtiXe"
      },
      "execution_count": null,
      "outputs": []
    },
    {
      "cell_type": "code",
      "source": [
        "last_day = max(df_transactions_train[\"day_num\"])\n",
        "df_transactions_trainy = df_transactions_train[df_transactions_train[\"day_num\"]>=last_day-90]\n",
        "df_transactions_trainy = df_transactions_trainy[['customer_id', 'article_id', 'day_num']].groupby(['customer_id', 'article_id']).count()\n",
        "df_transactions_trainy.rename(columns={'day_num':'total_purchase_the_item'}, inplace=True)\n",
        "save_pkl(df_transactions_trainy, path + 'regression_y.pkl')"
      ],
      "metadata": {
        "id": "b1-AKb4JxGnP"
      },
      "execution_count": 5,
      "outputs": []
    },
    {
      "cell_type": "code",
      "source": [
        "first_day = max(-1*df_transactions_train[\"day_num\"])\n",
        "last_day = max(df_transactions_train[\"day_num\"])"
      ],
      "metadata": {
        "id": "XygLPNVnrhzc"
      },
      "execution_count": 5,
      "outputs": []
    },
    {
      "cell_type": "code",
      "source": [
        "df_transactions_train = df_transactions_train[(df_transactions_train[\"day_num\"]<last_day-90)&(df_transactions_train[\"day_num\"]>first_day+360)]\n",
        "df_transactions_train.drop(columns=['price', 'sales_channel_id', 'year', 'month', 'day', 'day_num'], inplace=True)\n",
        "df_transactions_train.drop_duplicates(subset=['customer_id', 'article_id'], inplace=True)"
      ],
      "metadata": {
        "id": "65ByFerPvBax"
      },
      "execution_count": 6,
      "outputs": []
    },
    {
      "cell_type": "code",
      "source": [
        "df_customers = load_pkl(path + 'regression_customer.pkl')\n",
        "df_transactions_trainy = load_pkl(path + 'regression_y.pkl')\n",
        "df_transactions_train = pd.merge(df_transactions_train, df_customers, on='customer_id', how='left')\n",
        "df_transactions_train = pd.merge(df_transactions_train, df_transactions_trainy, on=['customer_id', 'article_id'], how='left')\n",
        "save_pkl(df_transactions_train, path + 'regression_x.pkl')"
      ],
      "metadata": {
        "id": "RP9okYpQtz0g"
      },
      "execution_count": 7,
      "outputs": []
    },
    {
      "cell_type": "code",
      "source": [
        "df_transactions_train = load_pkl(path + 'regression_x.pkl')\n",
        "df_articles = load_pkl(path + 'regression_article.pkl')\n",
        "df_transactions_train = pd.merge(df_transactions_train, df_articles, on='article_id', how='left')"
      ],
      "metadata": {
        "id": "E-gegjrLwRm-"
      },
      "execution_count": 5,
      "outputs": []
    },
    {
      "cell_type": "code",
      "source": [
        "save_pkl(df_transactions_train, path + 'regression_x.pkl')"
      ],
      "metadata": {
        "id": "ujUNumD96dKC"
      },
      "execution_count": 6,
      "outputs": []
    },
    {
      "cell_type": "markdown",
      "source": [
        "### Regression-based recommendation\n",
        "\n",
        "Logistic regression predicts the probability of buying (or not buying) a product for each customer. We would recommend to each customer products of >0.5 purchase probability (up to 12 products). Complete with baseline recommendations, if < 12 products.\n",
        "\n",
        "mAP 0.0066\n",
        "\n",
        "Rnadom forest regression predict times a customer could buy the product in the future. We would recommend to each customer products of >0 purchase times (up to 12 products). Complete with baseline recommendations, if < 12 products.\n",
        "\n",
        "mAP 0.0065"
      ],
      "metadata": {
        "id": "scI7kA1j2xc2"
      }
    },
    {
      "cell_type": "code",
      "source": [
        "X_train = load_pkl(path + 'regression_x.pkl')"
      ],
      "metadata": {
        "id": "RfoJXve7wc8G"
      },
      "execution_count": 9,
      "outputs": []
    },
    {
      "cell_type": "code",
      "source": [
        "y_train = X_train['total_purchase_the_item_y']\n",
        "y_train = list(y_train.fillna(0))\n",
        "y_train_0 = [i for i in range(len(y_train)) if y_train[i]==0]\n",
        "y_train_1 = [i for i in range(len(y_train)) if y_train[i]>0]"
      ],
      "metadata": {
        "id": "yQSKN4QhBH2D"
      },
      "execution_count": 10,
      "outputs": []
    },
    {
      "cell_type": "code",
      "source": [
        "### down sampling\n",
        "import random\n",
        "rand = random.sample(range(len(y_train_0)), len(y_train_1))\n",
        "X_train1 = X_train.iloc[[y_train_0[i] for i in rand] + y_train_1, ]\n",
        "X_train1['total_purchase_the_item_y'] = X_train1['total_purchase_the_item_y'].fillna(0)\n",
        "save_pkl(X_train1, path+'X_train1.pkl')"
      ],
      "metadata": {
        "id": "-MHQm-wRobiu"
      },
      "execution_count": null,
      "outputs": []
    },
    {
      "cell_type": "code",
      "source": [
        "X_train = load_pkl(path+'X_train1.pkl')\n",
        "X_id = X_train[['customer_id', 'article_id']]\n",
        "y_train = X_train['total_purchase_the_item_y']\n",
        "X_train.drop(columns=['customer_id', 'article_id', 'total_purchase_the_item_y'], inplace=True)"
      ],
      "metadata": {
        "id": "xK2v9jIhuPjh"
      },
      "execution_count": 4,
      "outputs": []
    },
    {
      "cell_type": "code",
      "source": [
        "from sklearn.model_selection import train_test_split\n",
        "from sklearn.preprocessing import StandardScaler\n",
        "\n",
        "X_train, X_test, y_train, y_test = train_test_split(X_train, y_train, test_size=0.3, random_state=0)"
      ],
      "metadata": {
        "id": "Dk7sJeIUBfej"
      },
      "execution_count": 5,
      "outputs": []
    },
    {
      "cell_type": "markdown",
      "source": [
        "Logistic Regression"
      ],
      "metadata": {
        "id": "KcYfGEOi7USQ"
      }
    },
    {
      "cell_type": "code",
      "source": [
        "X_train['age'] = pd.to_numeric(X_train['age'], errors='coerce')\n",
        "X_test['age'] = pd.to_numeric(X_test['age'], errors='coerce')\n",
        "mean = X_train['age'].mean()\n",
        "X_train['age'] = X_train['age'].fillna(value=mean)"
      ],
      "metadata": {
        "id": "AMstYBGEfkhi"
      },
      "execution_count": 6,
      "outputs": []
    },
    {
      "cell_type": "code",
      "source": [
        "cols = ['last_time_the_item', 'last_time_ever', 'total_sales_the_item', 'age']\n",
        "scaler = StandardScaler().fit(X_train[cols])\n",
        "X_train[cols] = scaler.transform(X_train[cols])\n",
        "X_test[cols] = scaler.transform(X_test[cols])"
      ],
      "metadata": {
        "id": "JkTc3QqsupcC"
      },
      "execution_count": 7,
      "outputs": []
    },
    {
      "cell_type": "code",
      "source": [
        "X_train['const'] = 1\n",
        "X_test['const'] = 1"
      ],
      "metadata": {
        "id": "roYjOjJ6TR9l"
      },
      "execution_count": 8,
      "outputs": []
    },
    {
      "cell_type": "code",
      "source": [
        "from sklearn.linear_model import LogisticRegression\n",
        "\n",
        "clf = LogisticRegression(random_state=0).fit(X_train, y_train)\n",
        "#pred_dev = clf.predict(X_train.to_numpy())\n",
        "#pred_test = clf.predict(X_test.to_numpy())"
      ],
      "metadata": {
        "id": "50dqDPyXhh4Z",
        "colab": {
          "base_uri": "https://localhost:8080/"
        },
        "outputId": "701e1a8b-4f24-4bbb-f128-6e174c4170c8"
      },
      "execution_count": 9,
      "outputs": [
        {
          "output_type": "stream",
          "name": "stderr",
          "text": [
            "/usr/local/lib/python3.7/dist-packages/sklearn/linear_model/_logistic.py:818: ConvergenceWarning: lbfgs failed to converge (status=1):\n",
            "STOP: TOTAL NO. of ITERATIONS REACHED LIMIT.\n",
            "\n",
            "Increase the number of iterations (max_iter) or scale the data as shown in:\n",
            "    https://scikit-learn.org/stable/modules/preprocessing.html\n",
            "Please also refer to the documentation for alternative solver options:\n",
            "    https://scikit-learn.org/stable/modules/linear_model.html#logistic-regression\n",
            "  extra_warning_msg=_LOGISTIC_SOLVER_CONVERGENCE_MSG,\n"
          ]
        }
      ]
    },
    {
      "cell_type": "code",
      "source": [
        "mean = X_test['age'].mean()\n",
        "X_test['age'] = X_test['age'].fillna(value=mean)"
      ],
      "metadata": {
        "id": "DZSHK16DyfL7"
      },
      "execution_count": 30,
      "outputs": []
    },
    {
      "cell_type": "code",
      "source": [
        "import seaborn as sns\n",
        "import matplotlib.pyplot as plt\n",
        "%matplotlib inline\n",
        "from sklearn.metrics import roc_curve\n",
        "from sklearn.metrics import roc_auc_score\n",
        "\n",
        "y_test = list(y_test)\n",
        "y_test_bool = [0 if t==0 else 1 for t in y_test]\n",
        "fpr, tpr, _ = roc_curve(y_test_bool, [0 for i in y_test_bool])\n",
        "plt.plot(fpr, tpr, linestyle='--', label='no skill')\n",
        "\n",
        "pred = clf.predict_proba(X_test)\n",
        "pred = [p[1] for p in pred]\n",
        "fpr, tpr, thresh = roc_curve(y_test_bool, pred)\n",
        "auc = roc_auc_score(y_test_bool, pred)\n",
        "plt.plot(fpr, tpr, label=\"logistic regression, auc=\"+str(round(auc, 4)))\n",
        "plt.legend(loc=0)\n",
        "plt.xlabel('False positive rate')\n",
        "plt.ylabel('True positive rate')\n",
        "plt.savefig(path + 'lr.png')"
      ],
      "metadata": {
        "colab": {
          "base_uri": "https://localhost:8080/",
          "height": 279
        },
        "id": "iaG862STxaCM",
        "outputId": "156703f5-c4c6-460d-803c-53df9a1b8b6c"
      },
      "execution_count": 34,
      "outputs": [
        {
          "output_type": "display_data",
          "data": {
            "text/plain": [
              "<Figure size 432x288 with 1 Axes>"
            ],
            "image/png": "[encoded data removed]"
          },
          "metadata": {
            "needs_background": "light"
          }
        }
      ]
    },
    {
      "cell_type": "code",
      "source": [
        "features = list(zip(list(X_train.columns[:11]), [c for c in clf.coef_[0][:11]]))\n",
        "features.sort(key=lambda x: -1*abs(x[1]))\n",
        "features = features[:12]\n",
        "features.sort(key=lambda x: -1*x[1])\n",
        "plt.barh([f[0] for f in features], [f[1] for f in features])\n",
        "plt.xlabel('weights')\n",
        "plt.ylabel('features')\n",
        "plt.savefig(path + 'lr_numerical.png')"
      ],
      "metadata": {
        "colab": {
          "base_uri": "https://localhost:8080/",
          "height": 279
        },
        "id": "aM1QL-YUzpl6",
        "outputId": "3481ce9d-e90a-4c52-e515-b1aebae9a546"
      },
      "execution_count": 67,
      "outputs": [
        {
          "output_type": "display_data",
          "data": {
            "text/plain": [
              "<Figure size 432x288 with 1 Axes>"
            ],
            "image/png": "[encoded data removed]"
          },
          "metadata": {
            "needs_background": "light"
          }
        }
      ]
    },
    {
      "cell_type": "code",
      "source": [
        "features = list(zip(list(X_train.columns[11:-1]), [c for c in clf.coef_[0][11:-1]]))\n",
        "features.sort(key=lambda x: -1*abs(x[1]))\n",
        "features = features[:12]\n",
        "features.sort(key=lambda x: -1*x[1])\n",
        "plt.barh([f[0] for f in features], [f[1] for f in features])\n",
        "plt.xlabel('weights')\n",
        "plt.ylabel('features')\n",
        "plt.savefig(path + 'lr_categori.png')"
      ],
      "metadata": {
        "colab": {
          "base_uri": "https://localhost:8080/",
          "height": 279
        },
        "id": "FqweSgvo3wK5",
        "outputId": "bf20e9a9-a8b6-4a03-882d-ac1dd8412845"
      },
      "execution_count": 68,
      "outputs": [
        {
          "output_type": "display_data",
          "data": {
            "text/plain": [
              "<Figure size 432x288 with 1 Axes>"
            ],
            "image/png": "[encoded data removed]"
          },
          "metadata": {
            "needs_background": "light"
          }
        }
      ]
    },
    {
      "cell_type": "code",
      "source": [
        "X_train = load_pkl(path+'X_train1.pkl')\n",
        "X_train['age'] = pd.to_numeric(X_train['age'], errors='coerce')\n",
        "mean = X_train['age'].mean()\n",
        "X_train['age'] = X_train['age'].fillna(value=mean)\n",
        "\n",
        "cols = ['last_time_the_item', 'last_time_ever', 'total_sales_the_item', 'age']\n",
        "scaler = StandardScaler().fit(X_train[cols])\n",
        "X_train[cols] = scaler.transform(X_train[cols])\n",
        "\n",
        "X_train['const'] = 1\n",
        "\n",
        "pred = clf.predict_proba(X_train.drop(columns=['customer_id', 'article_id', 'total_purchase_the_item_y']))\n",
        "pred = [p[0] for p in pred]\n",
        "X_train['prob_of_0'] = pred\n",
        "save_pkl(X_train, path + 'X_train_lr.pkl')"
      ],
      "metadata": {
        "id": "rfQYJnwl4X77"
      },
      "execution_count": 10,
      "outputs": []
    },
    {
      "cell_type": "markdown",
      "source": [
        "Random Forest Regression"
      ],
      "metadata": {
        "id": "Kfqs9hDe7LR6"
      }
    },
    {
      "cell_type": "code",
      "source": [
        "X_train['age'] = pd.to_numeric(X_train['age'], errors='coerce')\n",
        "X_test['age'] = pd.to_numeric(X_test['age'], errors='coerce')\n",
        "mean = X_train['age'].mean()\n",
        "X_train['age'] = X_train['age'].fillna(value=mean)\n",
        "mean = X_test['age'].mean()\n",
        "X_test['age'] = X_test['age'].fillna(value=mean)"
      ],
      "metadata": {
        "id": "YazbfiUb7GQ5"
      },
      "execution_count": 6,
      "outputs": []
    },
    {
      "cell_type": "code",
      "source": [
        "from sklearn.ensemble import RandomForestClassifier\n",
        "\n",
        "regressor = RandomForestClassifier().fit(X_train.to_numpy(), y_train.to_numpy())"
      ],
      "metadata": {
        "id": "L3GUdhKwdfyT"
      },
      "execution_count": 7,
      "outputs": []
    },
    {
      "cell_type": "code",
      "source": [
        "import seaborn as sns\n",
        "import matplotlib.pyplot as plt\n",
        "%matplotlib inline\n",
        "\n",
        "features = list(zip(list(X_train.columns[:11]), [c for c in regressor.feature_importances_[:11]]))\n",
        "features.sort(key=lambda x: -1*abs(x[1]))\n",
        "features = features[:12]\n",
        "features.sort(key=lambda x: -1*x[1])\n",
        "features.reverse()\n",
        "plt.barh([f[0] for f in features], [f[1] for f in features])\n",
        "plt.xlabel('importance')\n",
        "plt.ylabel('features')\n",
        "plt.savefig(path + 'rf_numerical.png')"
      ],
      "metadata": {
        "id": "3czlmTYakaou",
        "colab": {
          "base_uri": "https://localhost:8080/",
          "height": 279
        },
        "outputId": "016cf4a9-71e6-40fa-ae60-7b1dd6433b29"
      },
      "execution_count": 24,
      "outputs": [
        {
          "output_type": "display_data",
          "data": {
            "text/plain": [
              "<Figure size 432x288 with 1 Axes>"
            ],
            "image/png": "[encoded data removed]"
          },
          "metadata": {
            "needs_background": "light"
          }
        }
      ]
    },
    {
      "cell_type": "code",
      "source": [
        "features = list(zip(list(X_train.columns[11:]), [c for c in regressor.feature_importances_[11:]]))\n",
        "features.sort(key=lambda x: -1*abs(x[1]))\n",
        "features = features[:12]\n",
        "features.sort(key=lambda x: -1*x[1])\n",
        "features.reverse()\n",
        "plt.barh([f[0] for f in features], [f[1] for f in features])\n",
        "plt.xlabel('importance')\n",
        "plt.ylabel('features')\n",
        "plt.savefig(path + 'rf_categori.png')"
      ],
      "metadata": {
        "colab": {
          "base_uri": "https://localhost:8080/",
          "height": 279
        },
        "id": "HGy9mkZmzorD",
        "outputId": "11c5c4a2-8fe4-4641-8793-f0836183ae39"
      },
      "execution_count": 25,
      "outputs": [
        {
          "output_type": "display_data",
          "data": {
            "text/plain": [
              "<Figure size 432x288 with 1 Axes>"
            ],
            "image/png": "[encoded data removed]"
          },
          "metadata": {
            "needs_background": "light"
          }
        }
      ]
    },
    {
      "cell_type": "code",
      "source": [
        "X_train = load_pkl(path+'X_train1.pk')\n",
        "X_train['total_purchase_the_item_y'] = X_train['total_purchase_the_item_y'].fillna(0)\n",
        "y_train = X_train['total_purchase_the_item_y']\n",
        "X_train.drop(columns=['customer_id', 'article_id', 'total_purchase_the_item_y'], inplace=True)\n",
        "X_train['age'] = pd.to_numeric(X_train['age'], errors='coerce')\n",
        "mean = X_train['age'].mean()\n",
        "X_train['age'] = X_train['age'].fillna(value=mean)"
      ],
      "metadata": {
        "id": "QVxZBf-4lu-I"
      },
      "execution_count": 12,
      "outputs": []
    },
    {
      "cell_type": "code",
      "source": [
        "pred = regressor.predict(X_train)\n",
        "X_train['pred_of_num'] = pred\n",
        "save_pkl(X_train, path + 'X_train_rf.pkl')"
      ],
      "metadata": {
        "colab": {
          "base_uri": "https://localhost:8080/"
        },
        "id": "JidnqUsmTENM",
        "outputId": "0b00920b-5000-4bb6-e275-d8fb43454d11"
      },
      "execution_count": null,
      "outputs": [
        {
          "output_type": "stream",
          "name": "stderr",
          "text": [
            "/usr/local/lib/python3.7/dist-packages/sklearn/base.py:444: UserWarning: X has feature names, but RandomForestClassifier was fitted without feature names\n",
            "  f\"X has feature names, but {self.__class__.__name__} was fitted without\"\n"
          ]
        }
      ]
    },
    {
      "cell_type": "markdown",
      "source": [
        "Recommendation submission"
      ],
      "metadata": {
        "id": "UGK21r8xAjge"
      }
    },
    {
      "cell_type": "code",
      "source": [
        "df_sample_submission = pd.read_csv(path+'submission_baseline.csv')"
      ],
      "metadata": {
        "id": "QTVmqg4gOogs"
      },
      "execution_count": 8,
      "outputs": []
    },
    {
      "cell_type": "code",
      "source": [
        "X_train_rf = load_pkl(path+'X_train_rf.pkl')\n",
        "X_train_rf = X_train_rf[X_train_rf['pred_of_num']>0]\n",
        "#X_train_lr = load_pkl(path+'X_train_lr.pkl')\n",
        "#X_train_lr = X_train_lr[X_train_lr['prob_of_0']<0.5]"
      ],
      "metadata": {
        "id": "hP-i5x_uBz5W"
      },
      "execution_count": 9,
      "outputs": []
    },
    {
      "cell_type": "code",
      "source": [
        "X_train_group = X_train_rf[['customer_id', 'article_id', 'pred_of_num']].sort_values(['customer_id','pred_of_num'],ascending=False).groupby('customer_id').head(12)\n",
        "#X_train_group = X_train_lr[['customer_id', 'article_id', 'prob_of_0']].sort_values(['customer_id','prob_of_0'],ascending=True).groupby('customer_id').head(12)\n",
        "X_train_group = X_train_group.groupby('customer_id')['article_id'].apply(list).reset_index(name='prediction2')\n",
        "X_train_group['prediction2'] = X_train_group['prediction2'].apply(lambda x: '0'+' 0'.join([str(a) for a in x]))"
      ],
      "metadata": {
        "id": "0Zhe3eJOC3At"
      },
      "execution_count": 10,
      "outputs": []
    },
    {
      "cell_type": "code",
      "source": [
        "df_sample_submission = pd.merge(df_sample_submission, X_train_group, on='customer_id', how='left')\n",
        "df_sample_submission['prediction2'] = df_sample_submission['prediction2'].fillna('')"
      ],
      "metadata": {
        "id": "Hvgx0nK-CjWH"
      },
      "execution_count": 11,
      "outputs": []
    },
    {
      "cell_type": "code",
      "source": [
        "df_sample_submission['prediction'] = df_sample_submission.apply(lambda row: (row['prediction2']+row['prediction'])[:131], axis=1)\n",
        "df_sample_submission.drop(columns=['prediction2'], inplace=True)"
      ],
      "metadata": {
        "id": "HyRVjLQ5CPm2"
      },
      "execution_count": 12,
      "outputs": []
    },
    {
      "cell_type": "code",
      "source": [
        "df_sample_submission"
      ],
      "metadata": {
        "colab": {
          "base_uri": "https://localhost:8080/",
          "height": 467
        },
        "id": "r451PtPbFrHk",
        "outputId": "0678648e-85fc-4169-aee1-4219201a93ab"
      },
      "execution_count": 13,
      "outputs": [
        {
          "output_type": "execute_result",
          "data": {
            "text/plain": [
              "                                               customer_id  \\\n",
              "0        00000dbacae5abe5e23885899a1fa44253a17956c6d1c3...   \n",
              "1        0000423b00ade91418cceaf3b26c6af3dd342b51fd051e...   \n",
              "2        000058a12d5b43e67d225668fa1f8d618c13dc232df0ca...   \n",
              "3        00005ca1c9ed5f5146b52ac8639a40ca9d57aeff4d1bd2...   \n",
              "4        00006413d8573cd20ed7128e53b7b13819fe5cfc2d801f...   \n",
              "...                                                    ...   \n",
              "1371975  ffffbbf78b6eaac697a8a5dfbfd2bfa8113ee5b403e474...   \n",
              "1371976  ffffcd5046a6143d29a04fb8c424ce494a76e5cdf4fab5...   \n",
              "1371977  ffffcf35913a0bee60e8741cb2b4e78b8a98ee5ff2e6a1...   \n",
              "1371978  ffffd7744cebcf3aca44ae7049d2a94b87074c3d4ffe38...   \n",
              "1371979  ffffd9ac14e89946416d80e791d064701994755c3ab686...   \n",
              "\n",
              "                                                prediction  \n",
              "0        0841260003 0887593002 0890498002 0795440001 08...  \n",
              "1        0723529001 03514840020811835004 0811835004 081...  \n",
              "2        0351484002 0351484002 0750424014 0750424014 08...  \n",
              "3        0706016001 0706016002 0372860001 0610776002 07...  \n",
              "4        0896152002 0730683050 0927530004 0791587015070...  \n",
              "...                                                    ...  \n",
              "1371975  05575990220826955010 0826955010 0557599022 055...  \n",
              "1371976  0699623004 0699623004 0663568009 0663568009 07...  \n",
              "1371977  0706016002 0689365050 0884081001 0794819001 07...  \n",
              "1371978  0866755002 0866755002 0821395003 0806241002 07...  \n",
              "1371979  0706016001 0706016002 0372860001 0610776002 07...  \n",
              "\n",
              "[1371980 rows x 2 columns]"
            ],
            "text/html": [
              "\n",
              "  <div id=\"df-7c9d377a-feb4-45a6-8c0d-4db1e62d4ac4\">\n",
              "    <div class=\"colab-df-container\">\n",
              "      <div>\n",
              "<style scoped>\n",
              "    .dataframe tbody tr th:only-of-type {\n",
              "        vertical-align: middle;\n",
              "    }\n",
              "\n",
              "    .dataframe tbody tr th {\n",
              "        vertical-align: top;\n",
              "    }\n",
              "\n",
              "    .dataframe thead th {\n",
              "        text-align: right;\n",
              "    }\n",
              "</style>\n",
              "<table border=\"1\" class=\"dataframe\">\n",
              "  <thead>\n",
              "    <tr style=\"text-align: right;\">\n",
              "      <th></th>\n",
              "      <th>customer_id</th>\n",
              "      <th>prediction</th>\n",
              "    </tr>\n",
              "  </thead>\n",
              "  <tbody>\n",
              "    <tr>\n",
              "      <th>0</th>\n",
              "      <td>00000dbacae5abe5e23885899a1fa44253a17956c6d1c3...</td>\n",
              "      <td>0841260003 0887593002 0890498002 0795440001 08...</td>\n",
              "    </tr>\n",
              "    <tr>\n",
              "      <th>1</th>\n",
              "      <td>0000423b00ade91418cceaf3b26c6af3dd342b51fd051e...</td>\n",
              "      <td>0723529001 03514840020811835004 0811835004 081...</td>\n",
              "    </tr>\n",
              "    <tr>\n",
              "      <th>2</th>\n",
              "      <td>000058a12d5b43e67d225668fa1f8d618c13dc232df0ca...</td>\n",
              "      <td>0351484002 0351484002 0750424014 0750424014 08...</td>\n",
              "    </tr>\n",
              "    <tr>\n",
              "      <th>3</th>\n",
              "      <td>00005ca1c9ed5f5146b52ac8639a40ca9d57aeff4d1bd2...</td>\n",
              "      <td>0706016001 0706016002 0372860001 0610776002 07...</td>\n",
              "    </tr>\n",
              "    <tr>\n",
              "      <th>4</th>\n",
              "      <td>00006413d8573cd20ed7128e53b7b13819fe5cfc2d801f...</td>\n",
              "      <td>0896152002 0730683050 0927530004 0791587015070...</td>\n",
              "    </tr>\n",
              "    <tr>\n",
              "      <th>...</th>\n",
              "      <td>...</td>\n",
              "      <td>...</td>\n",
              "    </tr>\n",
              "    <tr>\n",
              "      <th>1371975</th>\n",
              "      <td>ffffbbf78b6eaac697a8a5dfbfd2bfa8113ee5b403e474...</td>\n",
              "      <td>05575990220826955010 0826955010 0557599022 055...</td>\n",
              "    </tr>\n",
              "    <tr>\n",
              "      <th>1371976</th>\n",
              "      <td>ffffcd5046a6143d29a04fb8c424ce494a76e5cdf4fab5...</td>\n",
              "      <td>0699623004 0699623004 0663568009 0663568009 07...</td>\n",
              "    </tr>\n",
              "    <tr>\n",
              "      <th>1371977</th>\n",
              "      <td>ffffcf35913a0bee60e8741cb2b4e78b8a98ee5ff2e6a1...</td>\n",
              "      <td>0706016002 0689365050 0884081001 0794819001 07...</td>\n",
              "    </tr>\n",
              "    <tr>\n",
              "      <th>1371978</th>\n",
              "      <td>ffffd7744cebcf3aca44ae7049d2a94b87074c3d4ffe38...</td>\n",
              "      <td>0866755002 0866755002 0821395003 0806241002 07...</td>\n",
              "    </tr>\n",
              "    <tr>\n",
              "      <th>1371979</th>\n",
              "      <td>ffffd9ac14e89946416d80e791d064701994755c3ab686...</td>\n",
              "      <td>0706016001 0706016002 0372860001 0610776002 07...</td>\n",
              "    </tr>\n",
              "  </tbody>\n",
              "</table>\n",
              "<p>1371980 rows × 2 columns</p>\n",
              "</div>\n",
              "      <button class=\"colab-df-convert\" onclick=\"convertToInteractive('df-7c9d377a-feb4-45a6-8c0d-4db1e62d4ac4')\"\n",
              "              title=\"Convert this dataframe to an interactive table.\"\n",
              "              style=\"display:none;\">\n",
              "        \n",
              "  <svg xmlns=\"http://www.w3.org/2000/svg\" height=\"24px\"viewBox=\"0 0 24 24\"\n",
              "       width=\"24px\">\n",
              "    <path d=\"M0 0h24v24H0V0z\" fill=\"none\"/>\n",
              "    <path d=\"M18.56 5.44l.94 2.06.94-2.06 2.06-.94-2.06-.94-.94-2.06-.94 2.06-2.06.94zm-11 1L8.5 8.5l.94-2.06 2.06-.94-2.06-.94L8.5 2.5l-.94 2.06-2.06.94zm10 10l.94 2.06.94-2.06 2.06-.94-2.06-.94-.94-2.06-.94 2.06-2.06.94z\"/><path d=\"M17.41 7.96l-1.37-1.37c-.4-.4-.92-.59-1.43-.59-.52 0-1.04.2-1.43.59L10.3 9.45l-7.72 7.72c-.78.78-.78 2.05 0 2.83L4 21.41c.39.39.9.59 1.41.59.51 0 1.02-.2 1.41-.59l7.78-7.78 2.81-2.81c.8-.78.8-2.07 0-2.86zM5.41 20L4 18.59l7.72-7.72 1.47 1.35L5.41 20z\"/>\n",
              "  </svg>\n",
              "      </button>\n",
              "      \n",
              "  <style>\n",
              "    .colab-df-container {\n",
              "      display:flex;\n",
              "      flex-wrap:wrap;\n",
              "      gap: 12px;\n",
              "    }\n",
              "\n",
              "    .colab-df-convert {\n",
              "      background-color: #E8F0FE;\n",
              "      border: none;\n",
              "      border-radius: 50%;\n",
              "      cursor: pointer;\n",
              "      display: none;\n",
              "      fill: #1967D2;\n",
              "      height: 32px;\n",
              "      padding: 0 0 0 0;\n",
              "      width: 32px;\n",
              "    }\n",
              "\n",
              "    .colab-df-convert:hover {\n",
              "      background-color: #E2EBFA;\n",
              "      box-shadow: 0px 1px 2px rgba(60, 64, 67, 0.3), 0px 1px 3px 1px rgba(60, 64, 67, 0.15);\n",
              "      fill: #174EA6;\n",
              "    }\n",
              "\n",
              "    [theme=dark] .colab-df-convert {\n",
              "      background-color: #3B4455;\n",
              "      fill: #D2E3FC;\n",
              "    }\n",
              "\n",
              "    [theme=dark] .colab-df-convert:hover {\n",
              "      background-color: #434B5C;\n",
              "      box-shadow: 0px 1px 3px 1px rgba(0, 0, 0, 0.15);\n",
              "      filter: drop-shadow(0px 1px 2px rgba(0, 0, 0, 0.3));\n",
              "      fill: #FFFFFF;\n",
              "    }\n",
              "  </style>\n",
              "\n",
              "      <script>\n",
              "        const buttonEl =\n",
              "          document.querySelector('#df-7c9d377a-feb4-45a6-8c0d-4db1e62d4ac4 button.colab-df-convert');\n",
              "        buttonEl.style.display =\n",
              "          google.colab.kernel.accessAllowed ? 'block' : 'none';\n",
              "\n",
              "        async function convertToInteractive(key) {\n",
              "          const element = document.querySelector('#df-7c9d377a-feb4-45a6-8c0d-4db1e62d4ac4');\n",
              "          const dataTable =\n",
              "            await google.colab.kernel.invokeFunction('convertToInteractive',\n",
              "                                                     [key], {});\n",
              "          if (!dataTable) return;\n",
              "\n",
              "          const docLinkHtml = 'Like what you see? Visit the ' +\n",
              "            '<a target=\"_blank\" href=https://colab.research.google.com/notebooks/data_table.ipynb>data table notebook</a>'\n",
              "            + ' to learn more about interactive tables.';\n",
              "          element.innerHTML = '';\n",
              "          dataTable['output_type'] = 'display_data';\n",
              "          await google.colab.output.renderOutput(dataTable, element);\n",
              "          const docLink = document.createElement('div');\n",
              "          docLink.innerHTML = docLinkHtml;\n",
              "          element.appendChild(docLink);\n",
              "        }\n",
              "      </script>\n",
              "    </div>\n",
              "  </div>\n",
              "  "
            ]
          },
          "metadata": {},
          "execution_count": 13
        }
      ]
    },
    {
      "cell_type": "code",
      "source": [
        "df_sample_submission.to_csv(path+'submission_rf.csv', index=False)\n",
        "#df_sample_submission.to_csv(path+'submission_lr.csv', index=False)"
      ],
      "metadata": {
        "id": "uMo8m363GAFo"
      },
      "execution_count": 14,
      "outputs": []
    },
    {
      "cell_type": "code",
      "source": [
        ""
      ],
      "metadata": {
        "id": "Q-sgTL41FrkR"
      },
      "execution_count": null,
      "outputs": []
    }
  ]
}